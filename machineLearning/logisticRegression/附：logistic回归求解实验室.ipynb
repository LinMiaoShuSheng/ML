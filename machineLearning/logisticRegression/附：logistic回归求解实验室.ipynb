{
 "cells": [
  {
   "cell_type": "code",
   "execution_count": 1,
   "metadata": {},
   "outputs": [],
   "source": [
    "import numpy as np\n",
    "import pandas as pd"
   ]
  },
  {
   "cell_type": "code",
   "execution_count": 12,
   "metadata": {},
   "outputs": [
    {
     "name": "stdout",
     "output_type": "stream",
     "text": [
      "     a    b    c    d        class\n",
      "0  5.1  3.5  1.4  0.2  Iris-setosa\n",
      "1  4.9  3.0  1.4  0.2  Iris-setosa\n",
      "2  4.7  3.2  1.3  0.2  Iris-setosa\n",
      "3  4.6  3.1  1.5  0.2  Iris-setosa\n",
      "4  5.0  3.6  1.4  0.2  Iris-setosa\n",
      "Iris-setosa        50\n",
      "Iris-versicolor    50\n",
      "Iris-virginica     50\n",
      "Name: class, dtype: int64\n"
     ]
    },
    {
     "data": {
      "text/html": [
       "<div>\n",
       "<style scoped>\n",
       "    .dataframe tbody tr th:only-of-type {\n",
       "        vertical-align: middle;\n",
       "    }\n",
       "\n",
       "    .dataframe tbody tr th {\n",
       "        vertical-align: top;\n",
       "    }\n",
       "\n",
       "    .dataframe thead th {\n",
       "        text-align: right;\n",
       "    }\n",
       "</style>\n",
       "<table border=\"1\" class=\"dataframe\">\n",
       "  <thead>\n",
       "    <tr style=\"text-align: right;\">\n",
       "      <th></th>\n",
       "      <th>a</th>\n",
       "      <th>b</th>\n",
       "      <th>c</th>\n",
       "      <th>d</th>\n",
       "      <th>class</th>\n",
       "    </tr>\n",
       "  </thead>\n",
       "  <tbody>\n",
       "    <tr>\n",
       "      <th>0</th>\n",
       "      <td>5.1</td>\n",
       "      <td>3.5</td>\n",
       "      <td>1.4</td>\n",
       "      <td>0.2</td>\n",
       "      <td>0</td>\n",
       "    </tr>\n",
       "    <tr>\n",
       "      <th>1</th>\n",
       "      <td>4.9</td>\n",
       "      <td>3.0</td>\n",
       "      <td>1.4</td>\n",
       "      <td>0.2</td>\n",
       "      <td>0</td>\n",
       "    </tr>\n",
       "    <tr>\n",
       "      <th>2</th>\n",
       "      <td>4.7</td>\n",
       "      <td>3.2</td>\n",
       "      <td>1.3</td>\n",
       "      <td>0.2</td>\n",
       "      <td>0</td>\n",
       "    </tr>\n",
       "    <tr>\n",
       "      <th>3</th>\n",
       "      <td>4.6</td>\n",
       "      <td>3.1</td>\n",
       "      <td>1.5</td>\n",
       "      <td>0.2</td>\n",
       "      <td>0</td>\n",
       "    </tr>\n",
       "    <tr>\n",
       "      <th>4</th>\n",
       "      <td>5.0</td>\n",
       "      <td>3.6</td>\n",
       "      <td>1.4</td>\n",
       "      <td>0.2</td>\n",
       "      <td>0</td>\n",
       "    </tr>\n",
       "  </tbody>\n",
       "</table>\n",
       "</div>"
      ],
      "text/plain": [
       "     a    b    c    d  class\n",
       "0  5.1  3.5  1.4  0.2      0\n",
       "1  4.9  3.0  1.4  0.2      0\n",
       "2  4.7  3.2  1.3  0.2      0\n",
       "3  4.6  3.1  1.5  0.2      0\n",
       "4  5.0  3.6  1.4  0.2      0"
      ]
     },
     "execution_count": 12,
     "metadata": {},
     "output_type": "execute_result"
    }
   ],
   "source": [
    "#使用一个分类的数据\n",
    "import pandas as pd\n",
    "df = pd.read_csv('./datas/iris.data',header=None)\n",
    "df.columns = ['a','b','c','d','class']\n",
    "print(df.head())\n",
    "print(df['class'].value_counts())\n",
    "df['class'] = pd.Categorical(df['class']).codes\n",
    "df = df[df['class'] != 2]\n",
    "x = df.drop(['class'],1)\n",
    "y = df['class']\n",
    "df.head()"
   ]
  },
  {
   "cell_type": "code",
   "execution_count": 154,
   "metadata": {},
   "outputs": [
    {
     "data": {
      "text/plain": [
       "array([[0.],\n",
       "       [0.],\n",
       "       [0.],\n",
       "       [0.]])"
      ]
     },
     "execution_count": 154,
     "metadata": {},
     "output_type": "execute_result"
    }
   ],
   "source": [
    "#使用梯度下降法求解\n",
    "\n",
    "#概率转换成01的类数据\n",
    "def prob2class(y_prob):\n",
    "    y_class = [1 if i>=0.5  else 0 for i in y_prob]\n",
    "    return y_class\n",
    "\n",
    "#sigmoid函数\n",
    "def sigmoid(theta,x):\n",
    "    prob = 1/(1+np.exp(-x.dot(theta)))\n",
    "    return prob.values\n",
    "\n",
    "#损失函数\n",
    "def lr_loss(y_true,prob):\n",
    "    laplace = 1e-10\n",
    "    lr_loss = - sum(y_true * np.log(prob).ravel() + (1-y_true) * np.log(1-prob+laplace).ravel()) + 1/len(y)*np.power(theta,2).sum()\n",
    "    return lr_loss\n",
    "#初始化aplha 和 theta\n",
    "alpha =0.02\n",
    "theta = np.zeros((4,1))\n",
    "theta"
   ]
  },
  {
   "cell_type": "code",
   "execution_count": 206,
   "metadata": {},
   "outputs": [
    {
     "name": "stdout",
     "output_type": "stream",
     "text": [
      "[0, 0, 0, 0, 0, 0, 0, 0, 0, 0, 0, 0, 0, 0, 0, 0, 0, 0, 0, 0, 0, 0, 0, 0, 0, 0, 0, 0, 0, 0, 0, 0, 0, 0, 0, 0, 0, 0, 0, 0, 0, 0, 0, 0, 0, 0, 0, 0, 0, 0, 1, 1, 1, 1, 1, 1, 1, 1, 1, 1, 1, 1, 1, 1, 1, 1, 1, 1, 1, 1, 1, 1, 1, 1, 1, 1, 1, 1, 1, 1, 1, 1, 1, 1, 1, 1, 1, 1, 1, 1, 1, 1, 1, 1, 1, 1, 1, 1, 1, 1]\n"
     ]
    },
    {
     "name": "stderr",
     "output_type": "stream",
     "text": [
      "C:\\Users\\Administrator\\Anaconda3\\lib\\site-packages\\ipykernel\\__main__.py:2: FutureWarning: reshape is deprecated and will raise in a subsequent release. Please use .values.reshape(...) instead\n",
      "  from ipykernel import kernelapp as app\n"
     ]
    },
    {
     "data": {
      "text/plain": [
       "0    2.012209\n",
       "dtype: float64"
      ]
     },
     "execution_count": 206,
     "metadata": {},
     "output_type": "execute_result"
    }
   ],
   "source": [
    "#梯度下降法开始迭代 \n",
    "y_true = y.reshape(-1,1)\n",
    "lr_prob = sigmoid(theta,x)\n",
    "#print(lr_prob)\n",
    "lr_class = prob2class(lr_prob)\n",
    "print(lr_class)\n",
    "theta = theta + alpha * x.T.dot(y_true - sigmoid(theta,x))\n",
    "lr_loss(y,lr_prob)\n",
    "\n"
   ]
  },
  {
   "cell_type": "code",
   "execution_count": 205,
   "metadata": {},
   "outputs": [
    {
     "data": {
      "text/plain": [
       "0    4.55205\n",
       "dtype: float64"
      ]
     },
     "execution_count": 205,
     "metadata": {},
     "output_type": "execute_result"
    }
   ],
   "source": [
    "from sklearn.linear_model import LogisticRegression\n",
    "lr = LogisticRegression()\n",
    "lr.fit(x,y)\n",
    "lr.score(x,y)\n",
    "sklearn_prob = lr.predict_proba(x)\n",
    "sk_prob = sklearn_prob[:,1].reshape(-1,1)\n",
    "lr_loss(y,sk_prob)"
   ]
  },
  {
   "cell_type": "code",
   "execution_count": null,
   "metadata": {
    "collapsed": true
   },
   "outputs": [],
   "source": []
  },
  {
   "cell_type": "markdown",
   "metadata": {},
   "source": [
    "#自己练习"
   ]
  },
  {
   "cell_type": "code",
   "execution_count": 7,
   "metadata": {},
   "outputs": [
    {
     "name": "stdout",
     "output_type": "stream",
     "text": [
      "   a  b  c  d\n",
      "0  8  9  7  4\n",
      "1  1  2  8  7\n",
      "2  1  1  8  7\n",
      "3  2  9  6  4\n",
      "   a  b  c  d  class\n",
      "0  8  9  7  4    one\n",
      "1  1  2  8  7    one\n",
      "2  1  1  8  7    two\n",
      "3  2  9  6  4  three\n",
      "   a  b  c  d  class\n",
      "0  8  9  7  4      0\n",
      "1  1  2  8  7      0\n",
      "2  1  1  8  7      2\n",
      "3  2  9  6  4      1\n"
     ]
    }
   ],
   "source": [
    "datas = np.random.randint(1,10,(4,4))\n",
    "df = pd.DataFrame(datas,columns=list(\"abcd\"))\n",
    "df['class'] = ['one','one','two','three']\n",
    "print(df)\n",
    "df['class'] = pd.Categorical(df['class']).codes\n",
    "print(df)\n",
    "\n",
    "print(np.log(np.e))"
   ]
  },
  {
   "cell_type": "markdown",
   "metadata": {},
   "source": [
    "#自己实现一遍"
   ]
  },
  {
   "cell_type": "code",
   "execution_count": 59,
   "metadata": {},
   "outputs": [],
   "source": [
    "import pandas as pd\n",
    "import numpy as np"
   ]
  },
  {
   "cell_type": "code",
   "execution_count": 131,
   "metadata": {},
   "outputs": [
    {
     "name": "stdout",
     "output_type": "stream",
     "text": [
      "     a    b    c    d  class\n",
      "0  5.1  3.5  1.4  0.2      0\n",
      "1  4.9  3.0  1.4  0.2      0\n",
      "2  4.7  3.2  1.3  0.2      0\n",
      "3  4.6  3.1  1.5  0.2      0\n",
      "4  5.0  3.6  1.4  0.2      0\n"
     ]
    }
   ],
   "source": [
    "#准备数据\n",
    "df = pd.read_csv('./datas/iris.data',header=None)\n",
    "df.columns = ['a','b','c','d','class']\n",
    "df['class'] = pd.Categorical(df['class']).codes#将类别进行数值化\n",
    "#print(df['class'].value_counts())\n",
    "df = df[df['class'] != 2]\n",
    "#print(df['class'].value_counts())\n",
    "print(df.head())\n",
    "x = df.drop('class',axis=1,inplace=False)\n",
    "y = df['class']\n",
    "\n",
    "#sigmoid函数\n",
    "def sigmoid(theta,x):\n",
    "    y_prob = 1/(1+np.exp(-x.dot(theta)))\n",
    "    return y_prob.values\n",
    "\n",
    "#分类函数\n",
    "def pass2class(y_prob):\n",
    "    res = [ 1 if each_y >= 0.5 else 0 for each_y in y_prob ]\n",
    "    return res\n",
    "\n",
    "#损失函数\n",
    "def loss(y_true,y_prob):\n",
    "    lapspace = 1e-6\n",
    "    los = -1 * (y_true*np.log(y_prob+lapspace).ravel() + (1-y_true)*np.log(1-y_prob+lapspace).ravel()).sum() + np.power(theta,2).mean()\n",
    "    return los\n",
    "\n",
    "#初始化theta值和alpha值\n",
    "alpha = 0.01\n",
    "theta = np.zeros((4,1)) #这里根据样本数据的特征变量维数来\n",
    "\n"
   ]
  },
  {
   "cell_type": "code",
   "execution_count": 132,
   "metadata": {},
   "outputs": [
    {
     "name": "stdout",
     "output_type": "stream",
     "text": [
      "res: [0, 0, 0, 0, 0, 0, 0, 0, 0, 0, 0, 0, 0, 0, 0, 0, 0, 0, 0, 0, 0, 0, 0, 0, 0, 0, 0, 0, 0, 0, 0, 0, 0, 0, 0, 0, 0, 0, 0, 0, 0, 0, 0, 0, 0, 0, 0, 0, 0, 0, 1, 1, 1, 1, 1, 1, 1, 1, 1, 1, 1, 1, 1, 1, 1, 1, 1, 1, 1, 1, 1, 1, 1, 1, 1, 1, 1, 1, 1, 1, 1, 1, 1, 1, 1, 1, 1, 1, 1, 1, 1, 1, 1, 1, 1, 1, 1, 1, 1, 1]\n",
      "los: 0    4.827954\n",
      "dtype: float64\n"
     ]
    }
   ],
   "source": [
    "#模型训练\n",
    "y_true = y.values.reshape(-1,1)\n",
    "iter_max = 10\n",
    "for i in range(iter_max):\n",
    "    theta = theta - alpha * x.T.dot(sigmoid(theta,x)-y_true)\n",
    "    y_prob = sigmoid(theta,x)\n",
    "    los = loss(y,y_prob)\n",
    "\n",
    "res = pass2class(y_prob)\n",
    "print(\"res:\",res)\n",
    "print(\"los:\",los)"
   ]
  },
  {
   "cell_type": "code",
   "execution_count": 134,
   "metadata": {},
   "outputs": [
    {
     "name": "stdout",
     "output_type": "stream",
     "text": [
      "sklearn predict res: [0, 0, 0, 0, 0, 0, 0, 0, 0, 0, 0, 0, 0, 0, 0, 0, 0, 0, 0, 0, 0, 0, 0, 0, 0, 0, 0, 0, 0, 0, 0, 0, 0, 0, 0, 0, 0, 0, 0, 0, 0, 0, 0, 0, 0, 0, 0, 0, 0, 0, 1, 1, 1, 1, 1, 1, 1, 1, 1, 1, 1, 1, 1, 1, 1, 1, 1, 1, 1, 1, 1, 1, 1, 1, 1, 1, 1, 1, 1, 1, 1, 1, 1, 1, 1, 1, 1, 1, 1, 1, 1, 1, 1, 1, 1, 1, 1, 1, 1, 1]\n",
      "sklearn score: 1.0\n",
      "sklearn los: 0    6.646716\n",
      "dtype: float64\n",
      "params: [[-0.40731745 -1.46092371  2.24004724  1.00841492]]\n"
     ]
    }
   ],
   "source": [
    "from sklearn.linear_model import LogisticRegression\n",
    "from sklearn.preprocessing import StandardScaler\n",
    "ss = StandardScaler()\n",
    "ss.fit_transform(x)#这里为了和自己实现的梯度下降做对比，因此不做训练集和测试集划分了\n",
    "lr = LogisticRegression()\n",
    "lr.fit(x,y) #训练数据\n",
    "y_probas = lr.predict_proba(x) #包含两列，即元素以及对应类别\n",
    "y_predict = y_probas[:,1].reshape(-1,1) #取第二列元素\n",
    "sklearn_los = loss(y,y_predict)\n",
    "predict_res = pass2class(y_predict)\n",
    "\n",
    "print(\"sklearn predict res:\",predict_res)\n",
    "print(\"sklearn score:\",lr.score(x,y))\n",
    "print(\"sklearn los:\",sklearn_los)\n",
    "print(\"params:\",lr.coef_)"
   ]
  },
  {
   "cell_type": "code",
   "execution_count": null,
   "metadata": {},
   "outputs": [],
   "source": [
    "from sklearn.linear_model import LogisticRegression,LogisticRegressionCV"
   ]
  },
  {
   "cell_type": "code",
   "execution_count": 13,
   "metadata": {},
   "outputs": [
    {
     "name": "stdout",
     "output_type": "stream",
     "text": [
      "   x1  x2  x3  y1\n",
      "0   1   2   1   8\n",
      "1   2   3   1  11\n",
      "2   3   4   1  14\n",
      "3   4   5   2  20\n",
      "4   5   6   2  23\n",
      "theta result:\n",
      " [[1. 2. 3.]]\n"
     ]
    }
   ],
   "source": [
    "import numpy as np\n",
    "import pandas as pd\n",
    "\n",
    "x1 = np.arange(1,6) # 1,2,3,4,5\n",
    "x2 = np.arange(2,7) # 2,3,4,5,6\n",
    "x3 = np.array([1,1,1,2,2]) \n",
    "y1 = x1 + 2*x2 + 3*x3 # 构造y = x1 + 2 * x2 + 3 * x3\n",
    "\n",
    "#得到自己造的表数据\n",
    "datas = np.array([x1,x2,x3,y1]).T\n",
    "df = pd.DataFrame(datas,columns = ['x1','x2','x3','y1'])\n",
    "print(df)\n",
    "\n",
    "#获取到x和y\n",
    "x = df.drop('y1',inplace = False,axis = 1)\n",
    "y = df['y1']\n",
    "\n",
    "#运用公式求解theta\n",
    "theta = np.mat(x.T.dot(x)).I.dot(x.T).dot(y)\n",
    "print(\"theta result:\\n\",theta)"
   ]
  },
  {
   "cell_type": "code",
   "execution_count": null,
   "metadata": {},
   "outputs": [],
   "source": []
  }
 ],
 "metadata": {
  "kernelspec": {
   "display_name": "Python 3",
   "language": "python",
   "name": "python3"
  },
  "language_info": {
   "codemirror_mode": {
    "name": "ipython",
    "version": 3
   },
   "file_extension": ".py",
   "mimetype": "text/x-python",
   "name": "python",
   "nbconvert_exporter": "python",
   "pygments_lexer": "ipython3",
   "version": "3.6.4"
  }
 },
 "nbformat": 4,
 "nbformat_minor": 2
}
