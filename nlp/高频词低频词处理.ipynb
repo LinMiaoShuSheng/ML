{
 "cells": [
  {
   "cell_type": "code",
   "execution_count": 1,
   "metadata": {},
   "outputs": [],
   "source": [
    "#生成随机字母列表\n",
    "import numpy as np\n",
    "def generate(size):\n",
    "    res = []\n",
    "    words = [chr(num) for num in range(65,65+26)] + [chr(num) for num in range(97,97+26)] + [str(num) for num in range(0,10)]\n",
    "    for i in range(size):\n",
    "        word = words[np.random.randint(0,len(words))]\n",
    "        res.append(word)\n",
    "    return res\n",
    "words = generate(10000)\n",
    "words.extend(list(\"!@#\")) #添加低频词\n",
    "words.extend(list(\"$%&\"*10*10000)) #添加高频词"
   ]
  },
  {
   "cell_type": "code",
   "execution_count": 2,
   "metadata": {},
   "outputs": [],
   "source": [
    "#根据文本列表，由频数转频率，做词频字典\n",
    "from collections import Counter\n",
    "totalNum = len(words)\n",
    "word_dict = Counter(words)\n",
    "word_dict = {key:value/totalNum for key,value in word_dict.items()}"
   ]
  },
  {
   "cell_type": "code",
   "execution_count": 3,
   "metadata": {},
   "outputs": [],
   "source": [
    "#处理低频词\n",
    "import sys\n",
    "def remove_low_freq(word_dict,threshold=0.0001):\n",
    "    res = {key:value for key,value in word_dict.items() if value >= threshold}\n",
    "    sys.stdout.write(\"{} low_freq words have been removed \\n\".format(len(word_dict)-len(res)))\n",
    "    return res"
   ]
  },
  {
   "cell_type": "code",
   "execution_count": 4,
   "metadata": {},
   "outputs": [],
   "source": [
    "#处理高频词,每个词以1-(sqrt(t/词频)+t/词频）的概率丢弃，即词频越高于设定的域值t，越有机会被丢弃，低于者，不会被丢弃。\n",
    "#高频词主要是为了去掉那些没有太大意义的词，比如“的”，“了”，“是”等。因为怕误伤，所以这个可以选做。\n",
    "#同时，如果有停用词表，则可以对着停用词表再捋一遍。\n",
    "import math\n",
    "def remove_high_freq(word_dict,threshold=0.05): #这里域值需视词量而定\n",
    "    res = {}\n",
    "    removed_num = 0\n",
    "    for key,value in word_dict.items():\n",
    "        ran = math.sqrt(threshold/value) + threshold/value\n",
    "        prob = np.random.rand()\n",
    "        if prob <= ran:\n",
    "            res.update({key:value})\n",
    "        else:\n",
    "            removed_num += 1\n",
    "    sys.stdout.write(\"{} high_freq words have been removed \\n\".format(removed_num))\n",
    "    return res"
   ]
  },
  {
   "cell_type": "code",
   "execution_count": 5,
   "metadata": {},
   "outputs": [
    {
     "name": "stdout",
     "output_type": "stream",
     "text": [
      "3 low_freq words have been removed \n",
      "2 high_freq words have been removed \n",
      "{'7': 0.0005677364412602459, '2': 0.0005032209365715815, 'x': 0.0005741879917291123, 'S': 0.000554833340322513, 'F': 0.0005258013632126141, 'Z': 0.0005161240375093144, 'o': 0.00047418895946168264, 'm': 0.0005193498127437476, 'j': 0.0005580591155569462, 'v': 0.0004709631842272494, 'O': 0.0005322529136814805, '6': 0.0005064467118060148, 'i': 0.0005128982622748812, 'R': 0.0005387044641503469, 'h': 0.0005161240375093144, 'L': 0.0005128982622748812, '5': 0.0005451560146192134, 'n': 0.0004967693861027151, 'U': 0.0005580591155569462, 'a': 0.0005903168679012784, 'g': 0.0005193498127437476, 'J': 0.0005258013632126141, 'c': 0.0005193498127437476, 'u': 0.0005612848907913795, 'N': 0.0005709622164946791, 'l': 0.0005128982622748812, 'Y': 0.0005580591155569462, 'V': 0.000554833340322513, 'B': 0.0004935436108682819, '4': 0.0004935436108682819, 'I': 0.0005064467118060148, 'D': 0.0004935436108682819, 'E': 0.00047741473469611585, 'C': 0.000509672487040448, 'd': 0.0005161240375093144, 'p': 0.0005032209365715815, 'f': 0.0005064467118060148, 'M': 0.0005193498127437476, 'H': 0.00047418895946168264, 't': 0.0005258013632126141, 's': 0.0004903178356338487, 'e': 0.0004967693861027151, 'b': 0.0005483817898536466, 'w': 0.0004903178356338487, '8': 0.000435479656648484, 'y': 0.0005032209365715815, 'r': 0.0005193498127437476, 'T': 0.0004999951613371483, '1': 0.0005225755879781808, 'Q': 0.0006322519459489101, 'W': 0.0005387044641503469, '9': 0.0005032209365715815, 'K': 0.0005387044641503469, 'z': 0.00048064050993054907, 'X': 0.0005258013632126141, 'q': 0.0005128982622748812, 'P': 0.00047418895946168264, 'A': 0.0005580591155569462, 'G': 0.0005225755879781808, '3': 0.0005193498127437476, 'k': 0.0005483817898536466, '0': 0.00048064050993054907, '%': 0.3225775234433215}\n"
     ]
    }
   ],
   "source": [
    "res = remove_high_freq(remove_low_freq(word_dict)) \n",
    "print(res)  # 3个低频词百分百被丢弃，3个高频词随机丢弃了两个"
   ]
  },
  {
   "cell_type": "code",
   "execution_count": null,
   "metadata": {},
   "outputs": [],
   "source": []
  }
 ],
 "metadata": {
  "kernelspec": {
   "display_name": "Python 3",
   "language": "python",
   "name": "python3"
  },
  "language_info": {
   "codemirror_mode": {
    "name": "ipython",
    "version": 3
   },
   "file_extension": ".py",
   "mimetype": "text/x-python",
   "name": "python",
   "nbconvert_exporter": "python",
   "pygments_lexer": "ipython3",
   "version": "3.6.4"
  }
 },
 "nbformat": 4,
 "nbformat_minor": 2
}
