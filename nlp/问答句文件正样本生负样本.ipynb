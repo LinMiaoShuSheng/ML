{
 "cells": [
  {
   "cell_type": "code",
   "execution_count": 1,
   "metadata": {},
   "outputs": [],
   "source": [
    "import os\n",
    "curPath = os.getcwd()+os.sep\n",
    "import numpy as np"
   ]
  },
  {
   "cell_type": "code",
   "execution_count": 2,
   "metadata": {},
   "outputs": [],
   "source": [
    "def getSamples(fileName):\n",
    "    #默认是认为文件中基本都是正样本，可以存在少数负样本，但是正样本肯定要比负样本多很多，所以才需要生成一些负样本\n",
    "    question_answer,label = [],[]\n",
    "    correctQA = []\n",
    "    assert os.path.isfile(curPath+fileName)\n",
    "    print(curPath+fileName)\n",
    "    with open(curPath+fileName,\"r+\",encoding=\"utf-8\") as file:\n",
    "        for line in file:\n",
    "            contents = line.strip().split()\n",
    "            if len(contents)<2:\n",
    "                continue\n",
    "            question_answer.append(contents[0]+\"  \"+contents[1])\n",
    "            if contents[2].lower() == 'y':\n",
    "                correctQA.append(contents[0]+\"  \"+contents[1])\n",
    "                label.append(1)\n",
    "            else:\n",
    "                label.append(0)\n",
    "    for i in range(len(correctQA)-(len(question_answer)-len(correctQA))):\n",
    "        #即统计正确的个数-错误的个数，目的是为了最终让正样本和负样本比例1:1\n",
    "        wrong_num = np.random.randint(0,len(correctQA))\n",
    "        while wrong_num == i:\n",
    "            wrong_num = np.random.randint(0,len(correctQA))\n",
    "        question_answer.append(correctQA[i].strip().split()[0]+\"  \"+correctQA[wrong_num].strip().split()[1])\n",
    "        label.append(0)\n",
    "    return question_answer,label"
   ]
  },
  {
   "cell_type": "code",
   "execution_count": 3,
   "metadata": {},
   "outputs": [
    {
     "name": "stdout",
     "output_type": "stream",
     "text": [
      "D:\\Anaconda\\workSpace\\深度学习\\QA.txt\n",
      "question_answer: ['玫瑰花是什么颜色的  红色的', '向日葵是什么颜色的  黄色的', '鲫鱼生活在哪里  水里', '啄木鸟生活在哪里  树上', '太阳从哪边升起  东方', '太阳从哪边落下  西边', '霖淼书生是谁  周周', '霖淼书生是哪所大学毕业的  北邮', '霖淼书生现在在哪个城市  北京', '霖淼书生老家在哪个城市  浙江', '玫瑰花是什么颜色的  北京', '向日葵是什么颜色的  北京', '鲫鱼生活在哪里  北京', '啄木鸟生活在哪里  黄色的', '太阳从哪边升起  树上', '太阳从哪边落下  红色的', '霖淼书生是谁  西边', '霖淼书生是哪所大学毕业的  东方', '霖淼书生现在在哪个城市  树上', '霖淼书生老家在哪个城市  周周']\n",
      "label: [1, 1, 1, 1, 1, 1, 1, 1, 1, 1, 0, 0, 0, 0, 0, 0, 0, 0, 0, 0]\n"
     ]
    }
   ],
   "source": [
    "fileName = \"QA.txt\"\n",
    "question_answer,label = getSamples(fileName)\n",
    "print(\"question_answer:\",question_answer)\n",
    "print(\"label:\",label)"
   ]
  },
  {
   "cell_type": "code",
   "execution_count": null,
   "metadata": {},
   "outputs": [],
   "source": []
  }
 ],
 "metadata": {
  "kernelspec": {
   "display_name": "Python 3",
   "language": "python",
   "name": "python3"
  },
  "language_info": {
   "codemirror_mode": {
    "name": "ipython",
    "version": 3
   },
   "file_extension": ".py",
   "mimetype": "text/x-python",
   "name": "python",
   "nbconvert_exporter": "python",
   "pygments_lexer": "ipython3",
   "version": "3.6.4"
  }
 },
 "nbformat": 4,
 "nbformat_minor": 2
}
