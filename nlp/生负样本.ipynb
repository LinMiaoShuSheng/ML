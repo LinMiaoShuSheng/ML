{
 "cells": [
  {
   "cell_type": "code",
   "execution_count": 1,
   "metadata": {},
   "outputs": [],
   "source": [
    "import os\n",
    "curPath = os.getcwd()+os.sep\n",
    "import numpy as np"
   ]
  },
  {
   "cell_type": "code",
   "execution_count": 2,
   "metadata": {},
   "outputs": [],
   "source": [
    "#问答句文件中正样本生负样本\n",
    "def getSamples(fileName):\n",
    "    #默认是认为文件中基本都是正样本，可以存在少数负样本，但是正样本肯定要比负样本多很多，所以才需要生成一些负样本\n",
    "    question_answer,label = [],[]\n",
    "    correctQA = []\n",
    "    assert os.path.isfile(curPath+fileName)\n",
    "    print(curPath+fileName)\n",
    "    with open(curPath+fileName,\"r+\",encoding=\"utf-8\") as file:\n",
    "        for line in file:\n",
    "            contents = line.strip().split()\n",
    "            if len(contents)<2:\n",
    "                continue\n",
    "            question_answer.append(contents[0]+\"  \"+contents[1])\n",
    "            if contents[2].lower() == 'y':\n",
    "                correctQA.append(contents[0]+\"  \"+contents[1])\n",
    "                label.append(1)\n",
    "            else:\n",
    "                label.append(0)\n",
    "    for i in range(len(correctQA)-(len(question_answer)-len(correctQA))):\n",
    "        #即统计正确的个数-错误的个数，目的是为了最终让正样本和负样本比例1:1\n",
    "        wrong_num = np.random.randint(0,len(correctQA))\n",
    "        while wrong_num == i:\n",
    "            wrong_num = np.random.randint(0,len(correctQA))\n",
    "        question_answer.append(correctQA[i].strip().split()[0]+\"  \"+correctQA[wrong_num].strip().split()[1])\n",
    "        label.append(0)\n",
    "    return question_answer,label"
   ]
  },
  {
   "cell_type": "code",
   "execution_count": 3,
   "metadata": {},
   "outputs": [
    {
     "name": "stdout",
     "output_type": "stream",
     "text": [
      "D:\\Anaconda\\workSpace\\深度学习\\QA.txt\n",
      "question_answer: ['玫瑰花是什么颜色的  红色的', '向日葵是什么颜色的  黄色的', '鲫鱼生活在哪里  水里', '啄木鸟生活在哪里  树上', '太阳从哪边升起  东方', '太阳从哪边落下  西边', '霖淼书生是谁  周周', '霖淼书生是哪所大学毕业的  北邮', '霖淼书生现在在哪个城市  北京', '霖淼书生老家在哪个城市  浙江', '玫瑰花是什么颜色的  北京', '向日葵是什么颜色的  北邮', '鲫鱼生活在哪里  西边', '啄木鸟生活在哪里  黄色的', '太阳从哪边升起  树上', '太阳从哪边落下  浙江', '霖淼书生是谁  水里', '霖淼书生是哪所大学毕业的  黄色的', '霖淼书生现在在哪个城市  北邮', '霖淼书生老家在哪个城市  北京']\n",
      "label: [1, 1, 1, 1, 1, 1, 1, 1, 1, 1, 0, 0, 0, 0, 0, 0, 0, 0, 0, 0]\n"
     ]
    }
   ],
   "source": [
    "fileName = \"QA.txt\"\n",
    "question_answer,label = getSamples(fileName)\n",
    "print(\"question_answer:\",question_answer)\n",
    "print(\"label:\",label)"
   ]
  },
  {
   "cell_type": "code",
   "execution_count": 4,
   "metadata": {},
   "outputs": [],
   "source": [
    "#word2vec中随机负采样，将不等距映射到等距上\n",
    "from collections import Counter\n",
    "import re\n",
    "import numpy as np\n",
    "def negativeSample(trainData,number=1,M=1e+6):\n",
    "    #number代表窗口，即一个正样本需要多少个负样本,M为等间距对[0,1]拆分\n",
    "    #返回trainData，negativeData\n",
    "    trainData = re.sub(\"\\s+\",\"\",trainData)\n",
    "    word_dict = Counter(trainData)\n",
    "    length = len(trainData)\n",
    "    word_dict = {key:value/length for key,value in word_dict.items()}\n",
    "    #print(word_dict)\n",
    "    \n",
    "    positive = []\n",
    "    negative = []\n",
    "\n",
    "    for word in trainData:\n",
    "        for idx in range(number):\n",
    "            positive.append(word)\n",
    "            negative_word = word\n",
    "            while negative_word == word:\n",
    "                random_num = np.random.randint(0,M)/M\n",
    "                negative_word = get_negative(word_dict,random_num)\n",
    "            negative.append(negative_word)\n",
    "    \n",
    "    return positive,negative\n",
    "\n",
    "def get_negative(word_dict,random_num):\n",
    "    total_length = 0\n",
    "    for word,length in word_dict.items():\n",
    "        total_length += length\n",
    "        if total_length >= random_num:\n",
    "            return word\n",
    "        "
   ]
  },
  {
   "cell_type": "code",
   "execution_count": 5,
   "metadata": {},
   "outputs": [
    {
     "name": "stdout",
     "output_type": "stream",
     "text": [
      "['r', 'r', 'i', 'i', 'c', 'c', 'h', 'h', 'u', 'u', 'j', 'j', 'i', 'i', 'a', 'a', 'n', 'n', 'g', 'g', 'h', 'h', 'u', 'u', 'a', 'a', 'h', 'h', 'o', 'o', 'n', 'n', 'g', 'g', 's', 's', 'h', 'h', 'e', 'e', 'n', 'n', 'g', 'g', 'h', 'h', 'u', 'u', 'o', 'o', 'c', 'c', 'h', 'h', 'u', 'u', 'n', 'n', 'l', 'l', 'a', 'a', 'i', 'i', 'j', 'j', 'i', 'i', 'a', 'a', 'n', 'n', 'g', 'g', 's', 's', 'h', 'h', 'u', 'u', 'i', 'i', 'l', 'l', 'v', 'v', 'r', 'r', 'u', 'u', 'l', 'l', 'a', 'a', 'n', 'n'] \n",
      " ====================\n",
      "['a', 'h', 'v', 'g', 'i', 'h', 'o', 'l', 'n', 'o', 'g', 'l', 'g', 'h', 'v', 'l', 'u', 'g', 'h', 'i', 's', 'n', 'o', 's', 'n', 'r', 'a', 'v', 'l', 'a', 'a', 'i', 'c', 'j', 'j', 'h', 'u', 'n', 'n', 'i', 'g', 'i', 's', 'l', 'g', 'j', 'n', 'n', 'u', 'u', 'a', 'h', 'l', 'g', 'h', 'h', 'i', 'l', 'j', 'n', 'n', 'v', 'n', 'n', 'u', 'g', 'n', 'c', 'o', 'n', 'v', 'h', 'n', 'c', 'l', 'h', 'g', 'a', 'g', 'h', 'a', 'e', 'r', 's', 'i', 'e', 'u', 'v', 'r', 'h', 'j', 'i', 'h', 'h', 'j', 'i']\n"
     ]
    }
   ],
   "source": [
    "trainData = \"ri chu jiang hua hong sheng huo chun lai jiang shui lv ru lan\"\n",
    "#trainData = \"春花秋月何时了\"*10+\"往事知多少\"*5\n",
    "positive,negative = negativeSample(trainData,number=2,M=100)\n",
    "print(positive,\"\\n\",\"=\"*20)\n",
    "print(negative)"
   ]
  },
  {
   "cell_type": "code",
   "execution_count": null,
   "metadata": {},
   "outputs": [],
   "source": []
  }
 ],
 "metadata": {
  "kernelspec": {
   "display_name": "Python 3",
   "language": "python",
   "name": "python3"
  },
  "language_info": {
   "codemirror_mode": {
    "name": "ipython",
    "version": 3
   },
   "file_extension": ".py",
   "mimetype": "text/x-python",
   "name": "python",
   "nbconvert_exporter": "python",
   "pygments_lexer": "ipython3",
   "version": "3.6.4"
  }
 },
 "nbformat": 4,
 "nbformat_minor": 2
}
