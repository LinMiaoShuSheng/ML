{
 "cells": [
  {
   "cell_type": "code",
   "execution_count": 3,
   "metadata": {},
   "outputs": [
    {
     "name": "stdout",
     "output_type": "stream",
     "text": [
      "0.497500020833093\n"
     ]
    }
   ],
   "source": [
    "#sigmoid加速\n",
    "import numpy as np\n",
    "def get_sigmoid_dict(K=1200):\n",
    "    sigmoid_list = []\n",
    "    distance = np.arange(-6,6,12.0/K)\n",
    "    [sigmoid_list.append(1.0/(1+(np.e)**(-num))) for num in distance]\n",
    "    sigmoid_dict = {idx:value for idx,value in enumerate(sigmoid_list)}\n",
    "    return sigmoid_dict\n",
    "sigmoid_dict = get_sigmoid_dict()\n",
    "#print(sigmoid_list)\n",
    "\n",
    "def my_sigmoid(x,K=1200):\n",
    "    if x<-6:\n",
    "        return 0\n",
    "    elif x>6:\n",
    "        return 1\n",
    "    h = 12.0/K\n",
    "    i = int((x+6)//h)\n",
    "    return sigmoid_dict[i]\n",
    "\n",
    "print(my_sigmoid(0))"
   ]
  },
  {
   "cell_type": "code",
   "execution_count": null,
   "metadata": {},
   "outputs": [],
   "source": []
  }
 ],
 "metadata": {
  "kernelspec": {
   "display_name": "Python 3",
   "language": "python",
   "name": "python3"
  },
  "language_info": {
   "codemirror_mode": {
    "name": "ipython",
    "version": 3
   },
   "file_extension": ".py",
   "mimetype": "text/x-python",
   "name": "python",
   "nbconvert_exporter": "python",
   "pygments_lexer": "ipython3",
   "version": "3.6.4"
  }
 },
 "nbformat": 4,
 "nbformat_minor": 2
}
