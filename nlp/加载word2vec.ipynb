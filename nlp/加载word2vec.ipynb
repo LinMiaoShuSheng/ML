{
 "cells": [
  {
   "cell_type": "code",
   "execution_count": 1,
   "metadata": {},
   "outputs": [
    {
     "name": "stderr",
     "output_type": "stream",
     "text": [
      "D:\\Anaconda\\Initial\\lib\\site-packages\\h5py\\__init__.py:36: FutureWarning: Conversion of the second argument of issubdtype from `float` to `np.floating` is deprecated. In future, it will be treated as `np.float64 == np.dtype(float).type`.\n",
      "  from ._conv import register_converters as _register_converters\n"
     ]
    }
   ],
   "source": [
    "import tensorflow as tf\n",
    "import numpy as np\n",
    "import os,gc,re"
   ]
  },
  {
   "cell_type": "code",
   "execution_count": 2,
   "metadata": {},
   "outputs": [],
   "source": [
    "sess = tf.Session()"
   ]
  },
  {
   "cell_type": "code",
   "execution_count": 3,
   "metadata": {},
   "outputs": [],
   "source": [
    "def load_word2vec_1(emb_path,old_weights):\n",
    "    #这个是将随机赋值的字典换成新的字典，字不变，但是对应的vec改成了preTrain的word2vec\n",
    "    new_weights = old_weights\n",
    "    \n",
    "    assert os.path.isfile(emb_path)\n",
    "    print('Loading pretrained embeddings from {}...'.format(emb_path))\n",
    "    \n",
    "    pre_trained = {}\n",
    "    with open(emb_path,\"r+\",encoding=\"utf-8\") as file:\n",
    "        for line in file:\n",
    "            content = line.strip().split()\n",
    "            if len(content)>2:\n",
    "                pre_trained[content[0]] = np.array([float(each) for each in content[1:]],dtype=np.float32)\n",
    "                \n",
    "    for word in new_weights.keys():\n",
    "        remove_special_characters = re.sub(\"[^\\w]\",\"\",word) #把非数字字母下划线 中文(\\w能识别中文) 的特殊字符抹去\n",
    "        if word in pre_trained:\n",
    "            vec = pre_trained[word] \n",
    "        elif remove_special_characters in pre_trained:\n",
    "            vec = pre_trained[remove_special_characters] \n",
    "        elif word.lower() in pre_trained:\n",
    "            vec = pre_trained[word.lower()]\n",
    "        elif re.sub('\\d', '0', word) in pre_trained:\n",
    "            vec = pre_trained[re.sub('\\d', '0', word)]\n",
    "        else:\n",
    "            vec = np.array(new_weights[word],dtype=np.float32)\n",
    "        new_weights[word] = vec\n",
    "    \n",
    "    pre_trained=dict()\n",
    "    gc.collect()\n",
    "    \n",
    "    return new_weights\n",
    "\n",
    "def load_word2vec_2(sess,emb_path,old_weights,to_be_assigned): #这里的old_weights必须是已经排好序的了\n",
    "    #这里是直接将随机初始化的总表直接修改，修改完后直接传回给随机初始化的总表\n",
    "    #要注意，从总表中拿数据可以紧接着总表随机初始化之后，但是sess.run()的从总表中拿数据，则需要在这个函数之后\n",
    "    words_num = to_be_assigned.shape[0].value\n",
    "    words_dim = to_be_assigned.shape[1].value\n",
    "    init_emb = np.random.uniform(-1.0,1.0,(words_num,words_dim))\n",
    "    \n",
    "    new_weights = old_weights\n",
    "    \n",
    "    assert os.path.isfile(emb_path)\n",
    "    print('Loading pretrained embeddings from {}...'.format(emb_path))\n",
    "    \n",
    "    pre_trained = {}\n",
    "    with open(emb_path,\"r+\",encoding=\"utf-8\") as file:\n",
    "        for line in file:\n",
    "            content = line.strip().split()\n",
    "            if len(content)>2:\n",
    "                pre_trained[content[0]] = np.array([float(each) for each in content[1:]],dtype=np.float32)\n",
    "    \n",
    "    for idx,word in enumerate(old_weights.keys()):\n",
    "        remove_special_characters = re.sub(\"[^\\w]\",\"\",word) #把非数字字母下划线 中文(\\w能识别中文) 的特殊字符抹去\n",
    "        if word in pre_trained:\n",
    "            value = pre_trained[word]\n",
    "        elif remove_special_characters in pre_trained:\n",
    "            value = pre_trained[remove_special_characters]\n",
    "        elif word.lower() in pre_trained:\n",
    "            value = pre_trained[word.lower()]\n",
    "        elif re.sub('\\d', '0', word) in pre_trained:\n",
    "            value = pre_trained[re.sub('\\d', '0', word)]\n",
    "        else:\n",
    "            value = old_weights[word]\n",
    "        init_emb[idx] = np.asarray(value).astype(np.float32)\n",
    "    \n",
    "    pre_trained=dict()\n",
    "    gc.collect()\n",
    "    \n",
    "    sess.run(to_be_assigned.assign(init_emb))\n",
    "    "
   ]
  },
  {
   "cell_type": "code",
   "execution_count": 4,
   "metadata": {},
   "outputs": [
    {
     "name": "stdout",
     "output_type": "stream",
     "text": [
      "Loading pretrained embeddings from ./emb.txt...\n",
      "{'a': array([1., 2., 3., 4., 5.], dtype=float32), 'd': array([4., 2., 3., 4., 5.], dtype=float32), 'g': array(88., dtype=float32), 'i': array(99., dtype=float32)}\n"
     ]
    }
   ],
   "source": [
    "# test for load_word2vec_1\n",
    "emb_path = \"./emb.txt\"\n",
    "old_weights = {\"a\":66,\"d\":77,\"g\":88,\"i\":99}\n",
    "new_weight = load_word2vec_1(emb_path,old_weights)\n",
    "print(new_weight)"
   ]
  },
  {
   "cell_type": "code",
   "execution_count": 5,
   "metadata": {},
   "outputs": [
    {
     "name": "stdout",
     "output_type": "stream",
     "text": [
      "[[ 0.  1.  2.  3.  4.]\n",
      " [ 5.  6.  7.  8.  9.]\n",
      " [10. 11. 12. 13. 14.]\n",
      " [15. 16. 17. 18. 19.]] \n",
      "\n",
      "old_weights:\n",
      " {'a': array([8., 8., 8., 8., 8.], dtype=float32), 'b': array([8., 8., 8., 8., 8.], dtype=float32), 'g': array([8., 8., 8., 8., 8.], dtype=float32), 'h': array([8., 8., 8., 8., 8.], dtype=float32)} \n",
      "\n",
      "Loading pretrained embeddings from ./emb.txt...\n",
      "[[1. 2. 3. 4. 5.]\n",
      " [2. 2. 3. 4. 5.]\n",
      " [8. 8. 8. 8. 8.]\n",
      " [8. 8. 8. 8. 8.]]\n"
     ]
    }
   ],
   "source": [
    "# test for load_word2vec_2\n",
    "emb_path = \"./emb.txt\"\n",
    "to_be_assigned = tf.Variable(dtype=tf.float32,name=\"origin\",initial_value=np.arange(20).reshape(4,5))\n",
    "sess.run(tf.global_variables_initializer())  #因为又定义了一个tf.Variable,所以这里需要再初始化一下\n",
    "print(sess.run(to_be_assigned),\"\\n\")   #未被修改之前\n",
    "value = np.array([8,8,8,8,8],dtype=np.float32)\n",
    "old_weights = {\"a\":value,\"b\":value,\"g\":value,\"h\":value}\n",
    "print(\"old_weights:\\n\",old_weights,\"\\n\")\n",
    "load_word2vec_2(sess,emb_path,old_weights,to_be_assigned)\n",
    "print(sess.run(to_be_assigned))   #被修改之后"
   ]
  },
  {
   "cell_type": "code",
   "execution_count": null,
   "metadata": {},
   "outputs": [],
   "source": []
  }
 ],
 "metadata": {
  "kernelspec": {
   "display_name": "Python 3",
   "language": "python",
   "name": "python3"
  },
  "language_info": {
   "codemirror_mode": {
    "name": "ipython",
    "version": 3
   },
   "file_extension": ".py",
   "mimetype": "text/x-python",
   "name": "python",
   "nbconvert_exporter": "python",
   "pygments_lexer": "ipython3",
   "version": "3.6.4"
  }
 },
 "nbformat": 4,
 "nbformat_minor": 2
}
