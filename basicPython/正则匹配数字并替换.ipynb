{
 "cells": [
  {
   "cell_type": "code",
   "execution_count": 1,
   "metadata": {},
   "outputs": [],
   "source": [
    "import re"
   ]
  },
  {
   "cell_type": "code",
   "execution_count": 2,
   "metadata": {},
   "outputs": [
    {
     "name": "stdout",
     "output_type": "stream",
     "text": [
      "0000\n",
      "0\n",
      "0\n",
      "0\n",
      "0000\n"
     ]
    }
   ],
   "source": [
    "data = \"2018\"\n",
    "print(re.sub('\\d','0',data)) #匹配数字，并替换成0\n",
    "print(re.sub('\\d*','0',data)) #匹配零个或多个数字，并替换成0\n",
    "print(re.sub('\\d+','0',data)) #匹配一个或多个数字\n",
    "print(re.sub('\\d.*','0',data))  #\".*\",贪婪式匹配数字，遇到符合条件的，一直往前\n",
    "print(re.sub('\\d.*?','0',data))  #\".*?\",非贪婪式匹配数字，遇到即停"
   ]
  },
  {
   "cell_type": "code",
   "execution_count": null,
   "metadata": {},
   "outputs": [],
   "source": []
  }
 ],
 "metadata": {
  "kernelspec": {
   "display_name": "Python 3",
   "language": "python",
   "name": "python3"
  },
  "language_info": {
   "codemirror_mode": {
    "name": "ipython",
    "version": 3
   },
   "file_extension": ".py",
   "mimetype": "text/x-python",
   "name": "python",
   "nbconvert_exporter": "python",
   "pygments_lexer": "ipython3",
   "version": "3.6.4"
  }
 },
 "nbformat": 4,
 "nbformat_minor": 2
}
