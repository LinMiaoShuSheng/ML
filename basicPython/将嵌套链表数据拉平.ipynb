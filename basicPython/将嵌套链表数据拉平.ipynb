{
 "cells": [
  {
   "cell_type": "code",
   "execution_count": 1,
   "metadata": {},
   "outputs": [],
   "source": [
    "import itertools"
   ]
  },
  {
   "cell_type": "code",
   "execution_count": 2,
   "metadata": {},
   "outputs": [],
   "source": [
    "#拉平双层内容\n",
    "list1 = [[\"abc\"],['hij']]"
   ]
  },
  {
   "cell_type": "code",
   "execution_count": 3,
   "metadata": {},
   "outputs": [
    {
     "name": "stdout",
     "output_type": "stream",
     "text": [
      "['abc', 'hij']\n",
      "['abc', 'hij']\n",
      "['abc', 'hij']\n"
     ]
    }
   ],
   "source": [
    "res1 = list(itertools.chain.from_iterable(list1))\n",
    "print(res1)\n",
    "\n",
    "res2 = []\n",
    "for each in list1:\n",
    "    res2.extend(each)\n",
    "print(res2)\n",
    "\n",
    "res3=[]\n",
    "[res3.extend(each) for each in list1]\n",
    "print(res3)"
   ]
  },
  {
   "cell_type": "code",
   "execution_count": 4,
   "metadata": {},
   "outputs": [],
   "source": [
    "#拉平多层内容\n",
    "list2 = [1, \"汉字\", [3, 4, [5, 6]], [\"abc\", \"def\"]]  "
   ]
  },
  {
   "cell_type": "code",
   "execution_count": 5,
   "metadata": {},
   "outputs": [
    {
     "name": "stdout",
     "output_type": "stream",
     "text": [
      "[1, '汉字', 3, 4, 5, 6, 'abc', 'def']\n"
     ]
    }
   ],
   "source": [
    "def flatten(myList):  \n",
    "    for contents in myList:  \n",
    "        if hasattr(contents, \"__iter__\") and not isinstance(contents, str): \n",
    "            for sub in flatten(contents):  \n",
    "                yield sub  \n",
    "        else:  \n",
    "            yield contents  \n",
    "            \n",
    "res4 = [x for x in flatten(list2)]\n",
    "print(res4)"
   ]
  },
  {
   "cell_type": "code",
   "execution_count": null,
   "metadata": {},
   "outputs": [],
   "source": []
  }
 ],
 "metadata": {
  "kernelspec": {
   "display_name": "Python 3",
   "language": "python",
   "name": "python3"
  },
  "language_info": {
   "codemirror_mode": {
    "name": "ipython",
    "version": 3
   },
   "file_extension": ".py",
   "mimetype": "text/x-python",
   "name": "python",
   "nbconvert_exporter": "python",
   "pygments_lexer": "ipython3",
   "version": "3.6.4"
  }
 },
 "nbformat": 4,
 "nbformat_minor": 2
}
