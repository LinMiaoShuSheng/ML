{
 "cells": [
  {
   "cell_type": "code",
   "execution_count": 1,
   "metadata": {},
   "outputs": [],
   "source": [
    "import re"
   ]
  },
  {
   "cell_type": "code",
   "execution_count": 2,
   "metadata": {},
   "outputs": [],
   "source": [
    "s_1 = \"LinMiao_123,你好,@#$\""
   ]
  },
  {
   "cell_type": "code",
   "execution_count": 3,
   "metadata": {},
   "outputs": [
    {
     "name": "stdout",
     "output_type": "stream",
     "text": [
      "True\n",
      "['LinMiao_123', '你好']\n"
     ]
    }
   ],
   "source": [
    "#匹配数字字母下划线,也会将中文字符匹配进来\n",
    "pattern1 = re.compile(\"\\w+\")\n",
    "if pattern1.findall(s_1):\n",
    "    print(True)\n",
    "print(pattern1.findall(s_1))"
   ]
  },
  {
   "cell_type": "code",
   "execution_count": 4,
   "metadata": {},
   "outputs": [
    {
     "name": "stdout",
     "output_type": "stream",
     "text": [
      "['LinMiao_123']\n"
     ]
    }
   ],
   "source": [
    "#纯数字字母下划线匹配\n",
    "pattern2 = re.compile(\"[a-zA-Z\\d_]+\")\n",
    "print(pattern2.findall(s_1))"
   ]
  },
  {
   "cell_type": "code",
   "execution_count": 5,
   "metadata": {},
   "outputs": [
    {
     "name": "stdout",
     "output_type": "stream",
     "text": [
      "True\n",
      "['你好']\n"
     ]
    }
   ],
   "source": [
    "#纯中文字符匹配\n",
    "pattern3 = re.compile('[\\u4e00-\\u9fa5]+')\n",
    "if pattern3.findall(s_1):\n",
    "    print(True)\n",
    "print(pattern3.findall(s_1))"
   ]
  },
  {
   "cell_type": "code",
   "execution_count": 6,
   "metadata": {},
   "outputs": [
    {
     "name": "stdout",
     "output_type": "stream",
     "text": [
      "LinMiao_123,你好,@#$\n",
      "LinMiao_123,66,@#$\n",
      "LinMiao_!!!,你好,@#$\n"
     ]
    }
   ],
   "source": [
    "#替换中文字符\n",
    "s_2 = re.sub('[\\u4e00-\\u9fa5]',\"6\",s_1)\n",
    "print(s_1)\n",
    "print(s_2)\n",
    "#替换数字\n",
    "s_3 = re.sub(\"\\d\",\"!\",s_1)\n",
    "print(s_3)"
   ]
  },
  {
   "cell_type": "code",
   "execution_count": 7,
   "metadata": {},
   "outputs": [
    {
     "name": "stdout",
     "output_type": "stream",
     "text": [
      "Hello!\n"
     ]
    }
   ],
   "source": [
    "#替换空格\n",
    "s_2 = \"H   e  ll o   ! \"\n",
    "res = re.sub(\"\\s+\",\"\",s_2)\n",
    "print(res)"
   ]
  },
  {
   "cell_type": "code",
   "execution_count": null,
   "metadata": {},
   "outputs": [],
   "source": []
  }
 ],
 "metadata": {
  "kernelspec": {
   "display_name": "Python 3",
   "language": "python",
   "name": "python3"
  },
  "language_info": {
   "codemirror_mode": {
    "name": "ipython",
    "version": 3
   },
   "file_extension": ".py",
   "mimetype": "text/x-python",
   "name": "python",
   "nbconvert_exporter": "python",
   "pygments_lexer": "ipython3",
   "version": "3.6.4"
  }
 },
 "nbformat": 4,
 "nbformat_minor": 2
}
