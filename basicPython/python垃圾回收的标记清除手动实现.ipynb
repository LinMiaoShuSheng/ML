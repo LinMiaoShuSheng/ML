{
 "cells": [
  {
   "cell_type": "code",
   "execution_count": 1,
   "metadata": {},
   "outputs": [],
   "source": [
    "#标记清除：\n",
    "# 容器：所有可以引用其他对象的对象都叫容器，只有容器之间会存在循环引用，非容器对象可以引用，但不会出现循环引用\n",
    "# 1、用双向列表存储所有容器对象，初始化所有容器的gc_ref值，初始化为其对应的引用计数值\n",
    "# 2、遍历所有的容器对象，将其所有引用的对象的gc_ref值进行减1，如A引用B和C，则对B和C的gc_ref值减一\n",
    "# 3、将所有gc_ref值大于0的容器放到一个集合里，大于0，则表明还存在非容器对象对其引用，故而不能回收\n",
    "# 4、将集合中所有容器所引用的对象也收集起来，因为还存在引用，故而不能回收\n",
    "# 5、将剩余的容器进行垃圾回收操作，表明都是循环引用，可以回收"
   ]
  },
  {
   "cell_type": "code",
   "execution_count": 2,
   "metadata": {},
   "outputs": [],
   "source": [
    "#首先需要自己实现一个双向列表，基本功能包括：\n",
    "#左添加：append_left(node)\n",
    "#右添加：append_right(node)\n",
    "#左删除：remove_left()\n",
    "#右删除：remove_right()\n",
    "#删除指定节点：delete_node(node)\n",
    "#获取长度：get_length()\n",
    "#清除所有：clear()\n",
    "#做完后发现，其实功能不需要那么多，append_right(node)，get_length()，clear()三个就足够了。"
   ]
  },
  {
   "cell_type": "code",
   "execution_count": 3,
   "metadata": {},
   "outputs": [],
   "source": [
    "class Node:\n",
    "    def __init__(self,node_value=None,ref_value=None):\n",
    "        self.pre_node = None\n",
    "        self.next_node = None\n",
    "        self.node_value = node_value   #int\n",
    "        self.ref_value = ref_value     #list\n",
    "class myLinkedList:\n",
    "    def __init__(self):\n",
    "        self.head = Node()\n",
    "        self.tail = self.head\n",
    "        self.head.next_node = self.tail\n",
    "        self.tail.pre_node = self.head\n",
    "        self.length = 0\n",
    "    def append_left(self,node):\n",
    "        if self.length == 0:\n",
    "            self.head.node_value = node.node_value   \n",
    "            self.head.ref_value = node.ref_value     \n",
    "        else:\n",
    "            self.head.pre_node = node\n",
    "            node.next_node = self.head\n",
    "            self.head = node\n",
    "        self.length += 1\n",
    "    def append_right(self,node):\n",
    "        if self.length == 0:\n",
    "            self.head.node_value = node.node_value   \n",
    "            self.head.ref_value = node.ref_value     \n",
    "        else:\n",
    "            self.tail.next_node = node\n",
    "            node.pre_node = self.tail\n",
    "            self.tail = node\n",
    "        self.length += 1\n",
    "    def remove_left(self):\n",
    "        removed_head = self.head\n",
    "        self.head = self.head.next_node\n",
    "        self.length -= 1\n",
    "        return removed_head\n",
    "    def remove_right(self):\n",
    "        removed_tail = self.tail\n",
    "        self.tail = self.tail.pre_node\n",
    "        self.length -= 1\n",
    "        return removed_tail\n",
    "    def delete_node(self,node):\n",
    "        temp = self.head\n",
    "        for idx in range(self.lenght):\n",
    "            if temp.node_value == node.node_value:\n",
    "                target = temp\n",
    "                break\n",
    "            temp = temp.next\n",
    "        if target:\n",
    "            target.pre_node.next = target.next\n",
    "            target.next.pre_node = target.pre_node\n",
    "            self.length -= 1\n",
    "        else:\n",
    "            print(\"No such node\")\n",
    "    def get_length(self):\n",
    "        return self.length\n",
    "    def clear(self):\n",
    "        import gc\n",
    "        temp = self.head\n",
    "        while temp.next_node:\n",
    "            next_node = temp.next_node\n",
    "            del temp\n",
    "            temp = next_node\n",
    "        del temp\n",
    "        gc.collect()\n",
    "        self.length = 0"
   ]
  },
  {
   "cell_type": "code",
   "execution_count": 4,
   "metadata": {},
   "outputs": [
    {
     "name": "stdout",
     "output_type": "stream",
     "text": [
      "9\n"
     ]
    }
   ],
   "source": [
    "#初始化引用情况\n",
    "reference_dict = {1:[2],2:[1],3:[4],4:[5],5:[3],6:[7,8],7:[8,9],8:[9,10],9:[10]}\n",
    "#这里表示容器1引用了容器2，容器2引用了容器1，有相互引用，3，4，5之间有相互引用，6，7，8，9，10之间不存在相互引用\n",
    "count_dict = {1:1,2:1,3:1,4:1,5:1,6:0,7:2,8:2,9:2,10:3}\n",
    "#这里是每个容器对应的引用计数，如1被一个引用，2被一个引用，6被0个引用，7被2个引用，一个是容器6，另一个是非容器对象\n",
    "#所以应该清扫1，2，3，4，5这五个,1，2存在循环引用，3，4，5存在循环引用。再加一个6，因为6虽然引用了7，8，但不存在容器引用6，故而不再需要了。\n",
    "#故而最终应该只剩下7，8，9，10四个\n",
    "dire_list = myLinkedList()\n",
    "for key,value in reference_dict.items():\n",
    "    node = Node(node_value = key,ref_value = value)\n",
    "    dire_list.append_right(node)\n",
    "print(dire_list.get_length())"
   ]
  },
  {
   "cell_type": "code",
   "execution_count": 5,
   "metadata": {},
   "outputs": [
    {
     "name": "stdout",
     "output_type": "stream",
     "text": [
      "1\n",
      "[7, 8, 9]\n",
      "[7, 8, 9, 10]\n",
      "4\n"
     ]
    }
   ],
   "source": [
    "dc_ref_dict = count_dict\n",
    "head = dire_list.head\n",
    "print(head.node_value)\n",
    "while head:\n",
    "    ref_list = head.ref_value\n",
    "    #print(ref_list)\n",
    "    for value in ref_list:\n",
    "        dc_ref_dict.update({value:dc_ref_dict.get(value)-1})\n",
    "    head = head.next_node\n",
    "#检查是否有大于1的容器,有则先拿出来，这里会将7先拿出来。\n",
    "sortedList = []\n",
    "head = dire_list.head\n",
    "while head:\n",
    "    node_value = head.node_value\n",
    "    if dc_ref_dict[node_value] > 0:\n",
    "        sortedList.append(head)\n",
    "    head = head.next_node\n",
    "#print(len(sortedList))\n",
    "sortedNodes = []\n",
    "\n",
    "#将保存在列表里的容器所对应的引用容器都拿出来\n",
    "for node in sortedList:\n",
    "    node_value = node.node_value\n",
    "    ref_list = node.ref_value\n",
    "    sortedNodes.append(node_value)\n",
    "    sortedNodes.extend(ref_list)\n",
    "\n",
    "print(sortedNodes) #7引用8和9，故而这里会存在7，8，9\n",
    "    \n",
    "while True:\n",
    "    before_length = len(sortedNodes)\n",
    "    for each in sortedNodes:\n",
    "        refrences = reference_dict.get(each)\n",
    "        if refrences:\n",
    "            #print(refrences)\n",
    "            [sortedNodes.append(ref) for ref in refrences if ref not in set(sortedNodes)]\n",
    "    after_length = len(sortedNodes)    \n",
    "    if before_length == after_length:\n",
    "        break\n",
    "\n",
    "print(sortedNodes)  #此时会发现7，8，9，10都保留了下来\n",
    "print(len(sortedNodes))\n",
    "\n",
    "dire_list.clear() #把双向列表的内容都清除即可"
   ]
  },
  {
   "cell_type": "code",
   "execution_count": null,
   "metadata": {},
   "outputs": [],
   "source": []
  }
 ],
 "metadata": {
  "kernelspec": {
   "display_name": "Python 3",
   "language": "python",
   "name": "python3"
  },
  "language_info": {
   "codemirror_mode": {
    "name": "ipython",
    "version": 3
   },
   "file_extension": ".py",
   "mimetype": "text/x-python",
   "name": "python",
   "nbconvert_exporter": "python",
   "pygments_lexer": "ipython3",
   "version": "3.6.4"
  }
 },
 "nbformat": 4,
 "nbformat_minor": 2
}
