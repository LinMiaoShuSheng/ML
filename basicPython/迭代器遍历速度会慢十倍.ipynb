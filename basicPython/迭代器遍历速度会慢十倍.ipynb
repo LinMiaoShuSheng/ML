{
 "cells": [
  {
   "cell_type": "code",
   "execution_count": null,
   "metadata": {},
   "outputs": [],
   "source": [
    "#记录这个并不是说迭代式遍历会更好\n",
    "#而是速度会比正常的慢十倍。因为用迭代式遍历看上去更专业，易读性也更好，平常使用的代码也会多，但是为了效率看到这个要给它改回来，实在太慢了。"
   ]
  },
  {
   "cell_type": "code",
   "execution_count": 1,
   "metadata": {},
   "outputs": [],
   "source": [
    "import numpy as np\n",
    "import time,math"
   ]
  },
  {
   "cell_type": "code",
   "execution_count": 2,
   "metadata": {},
   "outputs": [],
   "source": [
    "def batch_iter(x,y,batch_size=10,shuffle=True):\n",
    "    data_len = len(x)\n",
    "    num_batch = math.ceil(data_len/batch_size)    \n",
    "    \n",
    "    index = np.random.permutation(range(data_len))\n",
    "    x_shuffled = x[index] if shuffle else x\n",
    "    y_shuffled = y[index] if shuffle else y\n",
    "    \n",
    "    for idx in range(data_len):\n",
    "        start = idx * num_batch\n",
    "        end = min((idx+1)*num_batch,data_len)\n",
    "        yield x_shuffled[start:end],y_shuffled[start:end]"
   ]
  },
  {
   "cell_type": "code",
   "execution_count": 3,
   "metadata": {},
   "outputs": [
    {
     "name": "stdout",
     "output_type": "stream",
     "text": [
      "1.9009203910827637\n"
     ]
    }
   ],
   "source": [
    "x = np.random.randint(1,10,(10000,100))\n",
    "y = np.random.randint(0,2,(10000,1))\n",
    "epoch = 100\n",
    "start_time = time.time()\n",
    "\n",
    "for num in range(epoch):\n",
    "    batch_datas = batch_iter(x,y)\n",
    "    for x_batch,y_batch in batch_datas:\n",
    "        pass\n",
    "        #print(x_batch,\" \",y_batch)\n",
    "    \n",
    "end_time = time.time()\n",
    "print(end_time-start_time)"
   ]
  },
  {
   "cell_type": "code",
   "execution_count": 4,
   "metadata": {},
   "outputs": [],
   "source": [
    "def batch_iter_2(x,y,batch_size=10,shuffle=True):\n",
    "    data_len = len(x)\n",
    "    num_batch = math.ceil(data_len/batch_size)    \n",
    "    \n",
    "    index = np.random.permutation(range(data_len))\n",
    "    x_shuffled = x[index] if shuffle else x\n",
    "    y_shuffled = y[index] if shuffle else y\n",
    "    \n",
    "    return x_shuffled,y_shuffled"
   ]
  },
  {
   "cell_type": "code",
   "execution_count": 5,
   "metadata": {},
   "outputs": [
    {
     "name": "stdout",
     "output_type": "stream",
     "text": [
      "0.17955756187438965\n"
     ]
    }
   ],
   "source": [
    "x = np.random.randint(1,10,(10000,100))\n",
    "y = np.random.randint(0,2,(10000,1))\n",
    "epoch = 100\n",
    "start_time = time.time()\n",
    "\n",
    "x_shuffled,y_shuffled = batch_iter_2(x,y)\n",
    "batch_size = 10\n",
    "data_len = len(x_shuffled)\n",
    "\n",
    "for num in range(epoch):\n",
    "    num_batch = math.ceil(data_len/batch_size)\n",
    "    for idx in range(num_batch):\n",
    "        start = idx * num_batch\n",
    "        end = min((idx+1)*num_batch,data_len)\n",
    "        x_batch,y_batch = x_shuffled[start:end],y_shuffled[start:end]\n",
    "        pass\n",
    "    \n",
    "end_time = time.time()\n",
    "print(end_time-start_time)"
   ]
  },
  {
   "cell_type": "code",
   "execution_count": null,
   "metadata": {},
   "outputs": [],
   "source": []
  }
 ],
 "metadata": {
  "kernelspec": {
   "display_name": "Python 3",
   "language": "python",
   "name": "python3"
  },
  "language_info": {
   "codemirror_mode": {
    "name": "ipython",
    "version": 3
   },
   "file_extension": ".py",
   "mimetype": "text/x-python",
   "name": "python",
   "nbconvert_exporter": "python",
   "pygments_lexer": "ipython3",
   "version": "3.6.4"
  }
 },
 "nbformat": 4,
 "nbformat_minor": 2
}
