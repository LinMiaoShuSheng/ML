{
 "cells": [
  {
   "cell_type": "code",
   "execution_count": 1,
   "metadata": {},
   "outputs": [],
   "source": [
    "from operator import itemgetter #用了两个指针实现，能够加快迭代速度"
   ]
  },
  {
   "cell_type": "code",
   "execution_count": 2,
   "metadata": {},
   "outputs": [],
   "source": [
    "dict1 = {\"经\":10,\"典\":8,\"的\":12,\"python\":9,\"示\":11,\"例\":666,\"b\":20,\"a\":20}"
   ]
  },
  {
   "cell_type": "code",
   "execution_count": 3,
   "metadata": {},
   "outputs": [
    {
     "name": "stdout",
     "output_type": "stream",
     "text": [
      "[('典', 8), ('python', 9), ('经', 10), ('示', 11), ('的', 12), ('a', 20), ('b', 20), ('例', 666)]\n",
      "{'例': 666, 'b': 20, 'a': 20, '的': 12, '示': 11, '经': 10, 'python': 9, '典': 8}\n"
     ]
    }
   ],
   "source": [
    "#从小到大排序\n",
    "res1 = sorted(dict1.items(),key=itemgetter(1,0)) #先按第第一个维度，即数字进行排序，若相同，则按第0个维度进行排序\n",
    "print(res1)\n",
    "#从大到小排序，即添加一个逆置\n",
    "res2 = sorted(dict1.items(),key=itemgetter(1,0),reverse=True)\n",
    "print(dict(res2))"
   ]
  },
  {
   "cell_type": "code",
   "execution_count": null,
   "metadata": {},
   "outputs": [],
   "source": []
  }
 ],
 "metadata": {
  "kernelspec": {
   "display_name": "Python 3",
   "language": "python",
   "name": "python3"
  },
  "language_info": {
   "codemirror_mode": {
    "name": "ipython",
    "version": 3
   },
   "file_extension": ".py",
   "mimetype": "text/x-python",
   "name": "python",
   "nbconvert_exporter": "python",
   "pygments_lexer": "ipython3",
   "version": "3.6.4"
  }
 },
 "nbformat": 4,
 "nbformat_minor": 2
}
