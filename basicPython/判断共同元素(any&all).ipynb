{
 "cells": [
  {
   "cell_type": "code",
   "execution_count": 1,
   "metadata": {},
   "outputs": [],
   "source": [
    "#本例阐述两个问题\n",
    "#一个是any和all的使用\n",
    "#另一个是set的查询比list的查询高效。O(1)和O(n)的速度比"
   ]
  },
  {
   "cell_type": "code",
   "execution_count": 2,
   "metadata": {},
   "outputs": [],
   "source": [
    "import time"
   ]
  },
  {
   "cell_type": "code",
   "execution_count": 3,
   "metadata": {},
   "outputs": [
    {
     "name": "stdout",
     "output_type": "stream",
     "text": [
      "['a', 'b', 'c', 'd', 'e', 'f', 'g', 'h', 'i', 'j', 'k', 'l', 'm', 'n', 'o', 'p', 'q', 'r', 's', 't', 'u', 'v', 'w', 'x', 'y', 'z', 1000000]\n",
      "True\n",
      "False\n",
      "0.8543765544891357\n"
     ]
    }
   ],
   "source": [
    "start1 = time.time()\n",
    "list1 = list(range(1,1000001)) #数字那么多是为了放大效果\n",
    "list2 = [chr(ord('a')+num) for num in range(26)] + [1000000]\n",
    "res1 = any(x in list1 for x in list2) #list2中存在可以在list1中找到的元素,换句话说，即判断两个列表是否有公共元素\n",
    "res2 = all(x in list1 for x in list2) #是否list2中所有元素都可以在list1中找到\n",
    "print(list2)\n",
    "print(res1)\n",
    "print(res2)\n",
    "print(time.time()-start1)"
   ]
  },
  {
   "cell_type": "code",
   "execution_count": 4,
   "metadata": {},
   "outputs": [
    {
     "name": "stdout",
     "output_type": "stream",
     "text": [
      "['a', 'b', 'c', 'd', 'e', 'f', 'g', 'h', 'i', 'j', 'k', 'l', 'm', 'n', 'o', 'p', 'q', 'r', 's', 't', 'u', 'v', 'w', 'x', 'y', 'z', 1000000]\n",
      "True\n",
      "False\n",
      "0.13473892211914062\n"
     ]
    }
   ],
   "source": [
    "start2 = time.time()\n",
    "list1 = list(range(1,1000001))\n",
    "list1 = set(list1)  #直接在上一步做set转换也可以，这么写更能说明set效率高，并且即使是list转set，效率也高\n",
    "list2 = [chr(ord('a')+num) for num in range(26)] + [1000000]\n",
    "res1 = any(x in list1 for x in list2) #判断两个列表是否有公共元素\n",
    "res2 = all(x in list1 for x in list2) #是否list2中所有元素都可以在list1中找到\n",
    "print(list2)\n",
    "print(res1)\n",
    "print(res2)\n",
    "print(time.time()-start2)"
   ]
  },
  {
   "cell_type": "code",
   "execution_count": null,
   "metadata": {},
   "outputs": [],
   "source": []
  }
 ],
 "metadata": {
  "kernelspec": {
   "display_name": "Python 3",
   "language": "python",
   "name": "python3"
  },
  "language_info": {
   "codemirror_mode": {
    "name": "ipython",
    "version": 3
   },
   "file_extension": ".py",
   "mimetype": "text/x-python",
   "name": "python",
   "nbconvert_exporter": "python",
   "pygments_lexer": "ipython3",
   "version": "3.6.4"
  }
 },
 "nbformat": 4,
 "nbformat_minor": 2
}
