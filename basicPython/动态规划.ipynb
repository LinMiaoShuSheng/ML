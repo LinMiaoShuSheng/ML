{
 "cells": [
  {
   "cell_type": "code",
   "execution_count": 1,
   "metadata": {},
   "outputs": [],
   "source": [
    "# 动态规划最重要找到当前位置和前一步的递推关系。\n",
    "# 或者说找到当前步子与前n-1步之间的关系，当前问题，怎么可以通过前n-1个问题里的某个或某几个通过细微变化就可以得到结果了\n",
    "# 这个，也就是所谓的递推关系，也是最重要的一步。\n",
    "# 然后要确认最初始的状态是什么，然后就可以从头到尾了\n",
    "# 最后的最后，一般来说可能需要用到二维数组，也可能一维的就ok了，还是取决于递推关系。"
   ]
  },
  {
   "cell_type": "code",
   "execution_count": 2,
   "metadata": {},
   "outputs": [],
   "source": [
    "#1、你要去一条街上偷钱，每一户人家都有一定量的钱，但是你不能偷相邻两家的，因为相邻的两家有安保系统相连，偷了你就被警察叔叔带走了\n",
    "#  给定一个非负数组，代表每家有多少钱。求出在不被警察叔叔带走的情况下，你今晚最多能偷多少钱。\n",
    "#  思路1、使用列表即可，依次遍历每家的钱\n",
    "#  思路2、递推式子：money[idx] = max(money[idx-2]+num_list[idx],money[idx-1])"
   ]
  },
  {
   "cell_type": "code",
   "execution_count": 3,
   "metadata": {},
   "outputs": [],
   "source": [
    "def get_money(num_list):\n",
    "    if not num_list:\n",
    "        return\n",
    "    if len(num_list)<=2:\n",
    "        return max(num_list)\n",
    "    money = [-1]*len(num_list)\n",
    "    money[0],money[1] = num_list[0],num_list[1]\n",
    "    for idx in range(2,len(num_list)):\n",
    "        money[idx] = max(money[idx-2]+num_list[idx],money[idx-1])\n",
    "    return money[-1]"
   ]
  },
  {
   "cell_type": "code",
   "execution_count": 4,
   "metadata": {},
   "outputs": [
    {
     "name": "stdout",
     "output_type": "stream",
     "text": [
      "9\n",
      "9\n",
      "8\n"
     ]
    }
   ],
   "source": [
    "num_list = [1,2,3,4,5]\n",
    "num_list_2 = [2,1,3,5,4]\n",
    "num_list_3 = [1,3,2,4,5]\n",
    "print(get_money(num_list))\n",
    "print(get_money(num_list_2))\n",
    "print(get_money(num_list_3))"
   ]
  },
  {
   "cell_type": "code",
   "execution_count": 5,
   "metadata": {},
   "outputs": [],
   "source": [
    "#2、在上面的数字三角形中寻找一条从顶部到底边的路径，使得路径上所经过的数字之和最大。\n",
    "#   路径上的每一步都只能往左下或 右下走。只需要求出这个最大和即可，不必给出具体路径。 \n",
    "#   三角形的行数大于1小于等于100，数字为 0 - 99\n",
    "#   思路1、使用二维数组，每个位置只能是上方或者左上方过来的。\n",
    "#   思路2、递推式子：array[i][j] = max(array[i-1][j-1],array[i-1][j])+num_list[i][j]"
   ]
  },
  {
   "cell_type": "code",
   "execution_count": 6,
   "metadata": {},
   "outputs": [],
   "source": [
    "def get_largest_num(num_list):\n",
    "    row,column = len(num_list),len(num_list[0])\n",
    "    init_Vec = [ [-1] * column for _ in range(row) ]\n",
    "    for idx_r in range(row):\n",
    "        for idx_c in range(column):\n",
    "            if num_list[idx_r][idx_c] not in set(range(100)):\n",
    "                break\n",
    "            num_up_left = 0 if idx_c == 0 or idx_r == 0 else init_Vec[idx_r-1][idx_c-1]\n",
    "            num_up = 0 if idx_r == 0 else init_Vec[idx_r-1][idx_c]\n",
    "            init_Vec[idx_r][idx_c] = max(num_up_left,num_up) + num_list[idx_r][idx_c]\n",
    "    return max(init_Vec[-1])"
   ]
  },
  {
   "cell_type": "code",
   "execution_count": 7,
   "metadata": {},
   "outputs": [
    {
     "name": "stdout",
     "output_type": "stream",
     "text": [
      "30\n"
     ]
    }
   ],
   "source": [
    "num_list = [[7,-1,-1,-1,-1],[3,8,-1,-1,-1],[8,1,0,-1,-1],[2,7,4,4,-1],[4,5,2,6,5]]\n",
    "print(get_largest_num(num_list))"
   ]
  },
  {
   "cell_type": "code",
   "execution_count": 8,
   "metadata": {},
   "outputs": [],
   "source": [
    "#3、给出两个字符串，求出这样的一个最长的公共子序列的长度：子序列中的每个字符都能在两个原串中找到。\n",
    "#  而且每个字符的先后顺序和原串中的先后顺序一致。\n",
    "#  思路1、使用二维数组，横向代表A串，纵向代表B串\n",
    "#  思路2、递推式子：res[i][j] = res[i-1][j-1] + 1 if B[i] == A[j] else max(res[i-1][j],res[i][j-1])"
   ]
  },
  {
   "cell_type": "code",
   "execution_count": 9,
   "metadata": {},
   "outputs": [],
   "source": [
    "def max_length_common(A,B):\n",
    "    row,column = len(B),len(A)\n",
    "    res = [ [-1]*column for _ in range(row) ]\n",
    "    for idx_r in range(row):\n",
    "        for idx_c in range(column):\n",
    "            if idx_c == idx_r == 0 :\n",
    "                res[idx_r][idx_c] = 1 if A[idx_c] == B[idx_r] else 0\n",
    "                continue\n",
    "            if A[idx_c] == B[idx_r]:\n",
    "                res[idx_r][idx_c] = res[idx_r-1][idx_c-1] + 1 if idx_r > 0 and idx_c > 0 else 1\n",
    "            else:\n",
    "                res[idx_r][idx_c] = max(res[idx_r-1][idx_c] if idx_r>0 else 0,res[idx_r][idx_c-1] if idx_c>0 else 0)\n",
    "    #下面是根据这个结果矩阵得到目标串\n",
    "    each = 1\n",
    "    target = res[-1][-1]\n",
    "    res_str = []\n",
    "    idx = 0\n",
    "    while each<=target:\n",
    "        if res[-1][idx] == each:\n",
    "            res_str.append(A[idx])\n",
    "            each += 1\n",
    "        idx += 1\n",
    "    return res[-1][-1],\"\".join(res_str)"
   ]
  },
  {
   "cell_type": "code",
   "execution_count": 10,
   "metadata": {},
   "outputs": [
    {
     "name": "stdout",
     "output_type": "stream",
     "text": [
      "(3, 'acg')\n",
      "(3, 'cdg')\n"
     ]
    }
   ],
   "source": [
    "A = \"abcdefg\"\n",
    "B = \"aaacchig\"\n",
    "print(max_length_common(A,B))\n",
    "A = \"abcdefg\"\n",
    "B = \"ccdhig\"\n",
    "print(max_length_common(A,B))"
   ]
  },
  {
   "cell_type": "code",
   "execution_count": 11,
   "metadata": {},
   "outputs": [],
   "source": [
    "#4、求最长公共子串的长度：这里是子串，是连续的\n",
    "#  思路1、使用二维数组，横向代表A串，纵向代表B串\n",
    "#  思路2、res[idx_r][idx_c] = res[idx_r-1][idx_c-1]+1 if A[idx_c] == B[idx_r] else 0\n",
    "#        idx_r表示B串，idx_c表示A串，若相等，则两个串各退回一步时的匹配长度\n",
    "#        因为是找最大的，可能在中间时候碰到，所以需要一个largest来记录。"
   ]
  },
  {
   "cell_type": "code",
   "execution_count": 12,
   "metadata": {},
   "outputs": [],
   "source": [
    "def get_largest_length(A,B):\n",
    "    row,column = len(B),len(A)\n",
    "    res = [ [1]*column for _ in range(row) ]\n",
    "    largest = 0\n",
    "    for idx_r in range(row):\n",
    "        for idx_c in range(column):\n",
    "            if idx_r == idx_c == 0:\n",
    "                res[idx_r][idx_c] = 1 if A[idx_c] == B[idx_r] else 0\n",
    "                continue\n",
    "            if A[idx_c] == B[idx_r]:\n",
    "                res[idx_r][idx_c] = res[idx_r-1][idx_c-1]+1 if idx_r>0 and idx_c>0 else 1\n",
    "                largest = max(largest,res[idx_r][idx_c])\n",
    "            else:\n",
    "                res[idx_r][idx_c] = 0\n",
    "    return largest"
   ]
  },
  {
   "cell_type": "code",
   "execution_count": 13,
   "metadata": {},
   "outputs": [
    {
     "name": "stdout",
     "output_type": "stream",
     "text": [
      "3\n"
     ]
    }
   ],
   "source": [
    "A = \"abcdefg\"\n",
    "B = \"bcaaaefg\"\n",
    "print(get_largest_length(A,B))"
   ]
  },
  {
   "cell_type": "code",
   "execution_count": 14,
   "metadata": {},
   "outputs": [],
   "source": [
    "#5、就是对于给定的序列，求出最长上升子序列的长度。\n",
    "#   比如，对于序列(1, 7, 3, 5, 9, 4, 8)， 有它的一些上升子序列，如(1, 7), (3, 4, 8)等等。\n",
    "#   这些子序列中最长的长度是4，比如子序列(1, 3, 5, 8)。\n",
    "# 思路1、使用一个一维数组，对应每个位置一个结果\n",
    "# 思路2、res[idx] = max([res[i] for i in range(idx) if num_list[i]<num_list[idx] ])+1\n",
    "# 思路2解析：当前结果位置值等于前面最大的结果位置值+1，但是必须满足当前位置的序列数字要比前面位置的序列数字要大\n",
    "# 思路2解析：结果位置值即res[idx]，序列数字即num_list[idx]"
   ]
  },
  {
   "cell_type": "code",
   "execution_count": 34,
   "metadata": {},
   "outputs": [],
   "source": [
    "def get_largest_length(num_list):\n",
    "    if len(num_list)<=1:\n",
    "        return len(num_list) \n",
    "    res = [1]*len(num_list)\n",
    "    for idx in range(1,len(num_list)):\n",
    "        res[idx] = max([res[i] if num_list[i]<num_list[idx] else 0 for i in range(idx) ]) + 1\n",
    "    return max(res)"
   ]
  },
  {
   "cell_type": "code",
   "execution_count": 35,
   "metadata": {},
   "outputs": [
    {
     "name": "stdout",
     "output_type": "stream",
     "text": [
      "4\n",
      "1\n"
     ]
    }
   ],
   "source": [
    "num_list = [1,7,3,5,9,4,8]\n",
    "print(get_largest_length(num_list))\n",
    "num_list = [4,3,2,1]\n",
    "print(get_largest_length(num_list))"
   ]
  },
  {
   "cell_type": "code",
   "execution_count": 17,
   "metadata": {},
   "outputs": [],
   "source": [
    "#6、给出一个1到n的排列，每次可以移动一个数到一个任意位置。问要达到状态1,2,3……n至少移动多少次？ \n",
    "#   思路：求出最长上升子序列，然后用总长度减去它即可"
   ]
  },
  {
   "cell_type": "code",
   "execution_count": 18,
   "metadata": {},
   "outputs": [],
   "source": [
    "#7、剪绳子问题\n",
    "# 给你一根长度为N的绳子，请把绳子剪成M段（m,n都是整数），每段绳子的长度记为k[0],k[1],k[2]…. \n",
    "# 请问如何剪绳子使得k[0],k[1],k[2]。。。的乘积最大，给定一个N，返回最大乘积\n",
    "# 思路一：长度为8的，可以拆成1和7，2和6，3和5，4和4，\n",
    "#        那么res[idx] = max(max([ init_vec[j]*init_vec[idx-j] for j in range(1,idx//2+1)]),idx)\n",
    "#        但是这里有局限性，比如res[3]得到的是3，但是实际上res[3]应该是2。\n",
    "#        这里把不拆也加进去了，因为认为N是要拆的，所以小于N的部分都可以不拆，但是这就没法共用，要求两个N的话就得重新构建一遍\n",
    "# 思路二：每一个都拆，但是计算后面数字的时候，会取前面的max(结果值，位置下标)，从而获取到了拆和不拆的综合情况。\n",
    "#        init_vec[idx] = max([ max(res[j],j)*max(res[idx-j],idx-j) for j in range(1,idx//2+1) ])\n",
    "#        故而思路二会优于思路一，因为构造了数组之后，每个位置对应的值，即为该长度的最佳值。"
   ]
  },
  {
   "cell_type": "code",
   "execution_count": 19,
   "metadata": {},
   "outputs": [],
   "source": [
    "def get_largest_num(N):\n",
    "    init_vec = [1]*N\n",
    "    for idx in range(2,N):\n",
    "        init_vec[idx] = max(max([ init_vec[j]*init_vec[idx-j] for j in range(1,idx//2+1)]),idx)\n",
    "    res = max(init_vec[idx]*init_vec[N-idx] for idx in range(1,N))\n",
    "    return res\n",
    "def get_largest_num_2(N):\n",
    "    res = [1]*(N+1)\n",
    "    for idx in range(2,N+1):\n",
    "        res[idx] = max([ max(res[j],j)*max(res[idx-j],idx-j) for j in range(1,idx//2+1) ])\n",
    "    return res[-1]"
   ]
  },
  {
   "cell_type": "code",
   "execution_count": 20,
   "metadata": {},
   "outputs": [
    {
     "name": "stdout",
     "output_type": "stream",
     "text": [
      "18\n",
      "18\n"
     ]
    }
   ],
   "source": [
    "N = 8\n",
    "print(get_largest_num(N))\n",
    "N = 8\n",
    "print(get_largest_num_2(N))"
   ]
  },
  {
   "cell_type": "code",
   "execution_count": 21,
   "metadata": {},
   "outputs": [],
   "source": [
    "#8、假设有几种硬币，如1、3、5，并且数量无限。请找出能够组成某个数目所使用最少的硬币数。 \n",
    "#  思路一：假如要凑8，那么8可以拆成1和7，2和6，3和5，4和4，所以只要找前面组合中最小的和。\n",
    "#  思路二：比如要凑成3，虽然拆成1和2，但是本身3可以被整除，所以能被整除时，求最小值需要把整除的数一起比较\n",
    "#         if num[i]%(3,5)!=0 : res[i]=min(res[idx]+res[i-idx] for idx in range(1,i//2+1))\n",
    "#         else res[i]=min(min(res[idx]+res[i-idx] for idx in range(1,i//2+1)),i//5 if i%5==0 else i//3)  #这里5的优先级高"
   ]
  },
  {
   "cell_type": "code",
   "execution_count": 22,
   "metadata": {},
   "outputs": [],
   "source": [
    "def get_min_number(number):\n",
    "    res = [0]*(number+1)\n",
    "    res[1] = 1\n",
    "    for i in range(2,number+1):\n",
    "        if i%3==0 or i%5==0:\n",
    "            res[i] = min(min(res[idx]+res[i-idx] for idx in range(1,i//2+1)),i//5 if i%5==0 else i//3)\n",
    "        else:\n",
    "            res[i] = min(res[idx]+res[i-idx] for idx in range(1,i//2+1))\n",
    "    return res[-1]"
   ]
  },
  {
   "cell_type": "code",
   "execution_count": 23,
   "metadata": {},
   "outputs": [
    {
     "name": "stdout",
     "output_type": "stream",
     "text": [
      "2\n",
      "6\n"
     ]
    }
   ],
   "source": [
    "number = 8\n",
    "print(get_min_number(number))\n",
    "number = 30\n",
    "print(get_min_number(number))"
   ]
  },
  {
   "cell_type": "code",
   "execution_count": 24,
   "metadata": {},
   "outputs": [],
   "source": [
    "#9、一个矩形区域被划分为N*M个小矩形格子，在格子(i,j)中有A[i][j]个苹果。\n",
    "# 现在从左上角的格子(1,1)出发，要求每次只能向右走一步或向下走一步，最后到达(N,M)，每经过一个格子就把其中的苹果全部拿走。\n",
    "# 请找出能拿到最多苹果数的路线。\n",
    "# 思路一：这个题一看就是用二维数组\n",
    "# 思路二：每一步都只和上一步和前一步有关系，故而取大即可\n",
    "#        res[i][j] = max((res[i-1][j] if i>0 else 0),(res[i][j-1] if j>0 else 0))+num_list[i][j]"
   ]
  },
  {
   "cell_type": "code",
   "execution_count": 25,
   "metadata": {},
   "outputs": [],
   "source": [
    "def get_largest_number(num_list):\n",
    "    row,column = len(num_list),len(num_list[0])\n",
    "    res = [ [1]*column for _ in range(row) ]\n",
    "    for idx_r in range(row):\n",
    "        for idx_c in range(column):\n",
    "            if idx_r == idx_c == 0:\n",
    "                res[idx_r][idx_c] = num_list[0][0]\n",
    "                continue\n",
    "            res[idx_r][idx_c] = max((res[idx_r-1][idx_c] if idx_r>0 else 0),(res[idx_r][idx_c-1] if idx_c>0 else 0))+num_list[idx_r][idx_c]\n",
    "    return res[-1][-1]"
   ]
  },
  {
   "cell_type": "code",
   "execution_count": 26,
   "metadata": {},
   "outputs": [
    {
     "name": "stdout",
     "output_type": "stream",
     "text": [
      "[[1 2 3 4]\n",
      " [2 3 1 4]\n",
      " [3 1 4 2]\n",
      " [1 3 2 4]]\n",
      "20\n"
     ]
    }
   ],
   "source": [
    "num_list = [[1,2,3,4],[2,3,1,4],[3,1,4,2],[1,3,2,4]]\n",
    "import numpy as np\n",
    "array = np.array(num_list)\n",
    "print(array)  #看起来先横着走完，再纵向走完即最大，应该是20\n",
    "print(get_largest_number(num_list))"
   ]
  },
  {
   "cell_type": "code",
   "execution_count": 27,
   "metadata": {},
   "outputs": [],
   "source": [
    "#10、对于序列S和T，它们之间距离定义为：对二者其一进行几次以下的操作(1)删去一个字符；(2)插入一个字符；(3)改变一个字符。\n",
    "#   每进行一次操作，计数增加1。将S和T变为同一个字符串的最小计数即为它们的距离。给出相应算法。\n",
    "#   思路1、一看，嗯，是个二维数组，首位若相等则为0，不相等，则为1\n",
    "#   思路2、res[i][j] = res[i-1][j-1] if A[j] == B[i] else min(res[i-1][j],res[i][j-1],res[i-1][j-1])+1\n",
    "#        注意第0行和第0列，因为取的是min，所以要加上一个float(\"inf),这个表示正无穷，btw，float(\"-inf\")表示负无穷"
   ]
  },
  {
   "cell_type": "code",
   "execution_count": 28,
   "metadata": {},
   "outputs": [],
   "source": [
    "def get_min_distance(A,B):\n",
    "    row,column = len(B),len(A)\n",
    "    res = [ [-1]*column for _ in range(row) ]\n",
    "    for idx_r in range(row):\n",
    "        for idx_c in range(column):\n",
    "            if idx_r == idx_c == 0:\n",
    "                res[idx_r][idx_c] = 0 if A[0] == B[0] else 1\n",
    "                continue\n",
    "            if A[idx_c] == B[idx_r]:\n",
    "                res[idx_r][idx_c] = res[idx_r-1][idx_c-1] if idx_r>0 and idx_c>0 \\\n",
    "                                                        else (res[idx_r-1][idx_c] if idx_r>0 else res[idx_r][idx_c-1])\n",
    "            else:\n",
    "                res[idx_r][idx_c] = min(res[idx_r-1][idx_c] if idx_r>0 else float(\"inf\"),\n",
    "                                        res[idx_r][idx_c-1] if idx_c>0 else float(\"inf\"),\n",
    "                                        res[idx_r-1][idx_c-1] if idx_r>0 and idx_c>0 else float(\"inf\"))+1\n",
    "    print(np.array(res))\n",
    "    return res[-1][-1]"
   ]
  },
  {
   "cell_type": "code",
   "execution_count": 29,
   "metadata": {},
   "outputs": [
    {
     "name": "stdout",
     "output_type": "stream",
     "text": [
      "[[1 1 2 3 4 5 6]\n",
      " [2 2 1 2 3 4 5]\n",
      " [3 3 2 2 3 4 5]\n",
      " [4 4 3 2 3 4 5]\n",
      " [5 5 4 3 3 4 4]]\n",
      "4\n"
     ]
    }
   ],
   "source": [
    "A = \"abcdefg\"\n",
    "B = \"bccdg\"\n",
    "print(get_min_distance(A,B))"
   ]
  }
 ],
 "metadata": {
  "kernelspec": {
   "display_name": "Python 3",
   "language": "python",
   "name": "python3"
  },
  "language_info": {
   "codemirror_mode": {
    "name": "ipython",
    "version": 3
   },
   "file_extension": ".py",
   "mimetype": "text/x-python",
   "name": "python",
   "nbconvert_exporter": "python",
   "pygments_lexer": "ipython3",
   "version": "3.6.4"
  }
 },
 "nbformat": 4,
 "nbformat_minor": 2
}
