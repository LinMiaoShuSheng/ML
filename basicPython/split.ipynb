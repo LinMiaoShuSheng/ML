{
 "cells": [
  {
   "cell_type": "code",
   "execution_count": 1,
   "metadata": {},
   "outputs": [],
   "source": [
    "#简单分词\n",
    "#1、根据尾缀，将相同尾缀的中文放在一起，其中B-ORG的尾缀是ORG，B-Tes的尾缀是Tes\n",
    "#2、BI?代表一个完整的词，o可以是单体，进一步分出每个完整的词，比如：“四肢”，“肌张力”"
   ]
  },
  {
   "cell_type": "code",
   "execution_count": 2,
   "metadata": {},
   "outputs": [],
   "source": [
    "data = [\"四 B-ORG\",\"肢 I-ORG\",\"肌 B-Tes\",\"张 I-Tes\",\"力 I-Tes\",\"正 o\",\"常 o\",\"肢 B-ORG\",\"体 I-ORG\"]\n",
    "#要求输出为：{'ORG': ['四肢', '肢体'], 'Tes': ['肌张力'], 'o': ['正常']}"
   ]
  },
  {
   "cell_type": "code",
   "execution_count": 3,
   "metadata": {},
   "outputs": [
    {
     "name": "stdout",
     "output_type": "stream",
     "text": [
      "{'ORG': ['四', '肢', ',', '肢', '体'], 'Tes': ['肌', '张', '力'], 'o': ['正', '常']}\n",
      "{'ORG': ['四肢', '肢体'], 'Tes': ['肌张力'], 'o': ['正常']}\n"
     ]
    }
   ],
   "source": [
    "def myfun(data):\n",
    "    import re\n",
    "    afters = {}\n",
    "    for each in data:\n",
    "        chinese,label = re.split(\"\\\\s\",each.strip())\n",
    "        if len(label) == 1:\n",
    "            if label not in afters:\n",
    "                afters.update({label:[]})\n",
    "            afters[label].append(chinese)\n",
    "        else:\n",
    "            pre,after = label.split(\"-\")\n",
    "            if after not in afters:\n",
    "                afters.update({after:[]})\n",
    "            if pre == 'B' and len(afters[after]) > 0:\n",
    "                afters[after].append(\",\")\n",
    "                afters[after].append(chinese)\n",
    "            else:\n",
    "                afters[after].append(chinese)\n",
    "    print(afters)\n",
    "    for key,value in afters.items():\n",
    "        eachres = []\n",
    "        temp=[]\n",
    "        for index in range(len(value)+1):\n",
    "            each = value[index] if index < len(value) else \"\"\n",
    "            if each == \",\" or index == len(value):\n",
    "                eachres.append(''.join(temp))\n",
    "                temp=[]\n",
    "            else:\n",
    "                temp.append(each)\n",
    "        #print(eachres)\n",
    "        afters[key]=eachres\n",
    "    print(afters)\n",
    "\n",
    "myfun(data)"
   ]
  },
  {
   "cell_type": "code",
   "execution_count": null,
   "metadata": {},
   "outputs": [],
   "source": []
  }
 ],
 "metadata": {
  "kernelspec": {
   "display_name": "Python 3",
   "language": "python",
   "name": "python3"
  },
  "language_info": {
   "codemirror_mode": {
    "name": "ipython",
    "version": 3
   },
   "file_extension": ".py",
   "mimetype": "text/x-python",
   "name": "python",
   "nbconvert_exporter": "python",
   "pygments_lexer": "ipython3",
   "version": "3.6.4"
  }
 },
 "nbformat": 4,
 "nbformat_minor": 2
}
