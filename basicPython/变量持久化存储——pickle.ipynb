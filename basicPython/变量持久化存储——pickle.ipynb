{
 "cells": [
  {
   "cell_type": "code",
   "execution_count": 1,
   "metadata": {},
   "outputs": [],
   "source": [
    "import pickle"
   ]
  },
  {
   "cell_type": "code",
   "execution_count": 2,
   "metadata": {},
   "outputs": [
    {
     "name": "stdout",
     "output_type": "stream",
     "text": [
      "a:apple  b:{'one': 1, 'two': 2, 'three': 3}  c:[1, 2, 3, 4, 5, 6, 7, 8, 9, 10]\n"
     ]
    }
   ],
   "source": [
    "a = \"apple\"\n",
    "b = {\"one\":1,\"two\":2,\"three\":3}\n",
    "c = list(range(1,11))\n",
    "print(\"a:{}  b:{}  c:{}\".format(a,b,c))"
   ]
  },
  {
   "cell_type": "code",
   "execution_count": 3,
   "metadata": {},
   "outputs": [],
   "source": [
    "fileA = open(\"temp.pkl\",\"wb\")\n",
    "pickle.dump(a,fileA,True)\n",
    "pickle.dump(b,fileA,True)\n",
    "pickle.dump(c,fileA,True)\n",
    "fileA.close()\n",
    "with open(\"temp.pkl\",\"ab+\") as f: #一次存储多个变量，但读的时候也会一次被读出来\n",
    "    pickle.dump([a,b,c],f,True)"
   ]
  },
  {
   "cell_type": "code",
   "execution_count": 4,
   "metadata": {},
   "outputs": [
    {
     "name": "stdout",
     "output_type": "stream",
     "text": [
      " a2:apple  b2:{'one': 1, 'two': 2, 'three': 3}  c2:[1, 2, 3, 4, 5, 6, 7, 8, 9, 10] \n",
      " res:['apple', {'one': 1, 'two': 2, 'three': 3}, [1, 2, 3, 4, 5, 6, 7, 8, 9, 10]]\n"
     ]
    }
   ],
   "source": [
    "fileB = open(\"temp.pkl\",\"rb\")\n",
    "a2 = pickle.load(fileB)\n",
    "b2 = pickle.load(fileB)\n",
    "c2 = pickle.load(fileB)\n",
    "res = pickle.load(fileB)\n",
    "fileB.close()\n",
    "print(\" a2:{}  b2:{}  c2:{} \\n res:{}\".format(a2,b2,c2,res))"
   ]
  },
  {
   "cell_type": "code",
   "execution_count": null,
   "metadata": {},
   "outputs": [],
   "source": []
  }
 ],
 "metadata": {
  "kernelspec": {
   "display_name": "Python 3",
   "language": "python",
   "name": "python3"
  },
  "language_info": {
   "codemirror_mode": {
    "name": "ipython",
    "version": 3
   },
   "file_extension": ".py",
   "mimetype": "text/x-python",
   "name": "python",
   "nbconvert_exporter": "python",
   "pygments_lexer": "ipython3",
   "version": "3.6.4"
  }
 },
 "nbformat": 4,
 "nbformat_minor": 2
}
