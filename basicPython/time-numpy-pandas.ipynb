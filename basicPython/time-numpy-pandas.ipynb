{
 "cells": [
  {
   "cell_type": "code",
   "execution_count": 1,
   "metadata": {},
   "outputs": [],
   "source": [
    "import time"
   ]
  },
  {
   "cell_type": "code",
   "execution_count": 8,
   "metadata": {},
   "outputs": [
    {
     "name": "stdout",
     "output_type": "stream",
     "text": [
      "1544771521.5637908\n",
      "time.struct_time(tm_year=2018, tm_mon=12, tm_mday=14, tm_hour=15, tm_min=12, tm_sec=1, tm_wday=4, tm_yday=348, tm_isdst=0)\n",
      "time.struct_time(tm_year=2018, tm_mon=12, tm_mday=14, tm_hour=15, tm_min=12, tm_sec=1, tm_wday=4, tm_yday=348, tm_isdst=0)\n",
      "1544771521.0\n"
     ]
    }
   ],
   "source": [
    "#时间戳形式：\n",
    "# 1544771482.7639842\n",
    "#时间元组形式：\n",
    "# time.struct_time(tm_year=2018, tm_mon=12, tm_mday=14, tm_hour=14, tm_min=55, tm_sec=2, tm_wday=4, tm_yday=348, tm_isdst=0)\n",
    "\n",
    "# 得到时间戳\n",
    "timeStamp_1 = time.time()\n",
    "print(timeStamp_1)\n",
    "# 得到时间元组\n",
    "timeTuple_1 = time.localtime() #无参数默认以当前时间戳来处理\n",
    "print(timeTuple_1)\n",
    "\n",
    "# 时间戳转时间元组\n",
    "timeTuple_2 = time.localtime(timeStamp_1)\n",
    "print(timeTuple_2)\n",
    "# 时间元组转时间戳\n",
    "timeStamp_2 = time.mktime(timeTuple_2)\n",
    "print(timeStamp_2)"
   ]
  },
  {
   "cell_type": "code",
   "execution_count": 18,
   "metadata": {},
   "outputs": [
    {
     "name": "stdout",
     "output_type": "stream",
     "text": [
      "time.struct_time(tm_year=2018, tm_mon=12, tm_mday=14, tm_hour=15, tm_min=12, tm_sec=1, tm_wday=4, tm_yday=348, tm_isdst=-1)\n",
      "time.struct_time(tm_year=2018, tm_mon=12, tm_mday=14, tm_hour=15, tm_min=12, tm_sec=1, tm_wday=4, tm_yday=348, tm_isdst=-1)\n",
      "time.struct_time(tm_year=2018, tm_mon=12, tm_mday=14, tm_hour=0, tm_min=0, tm_sec=0, tm_wday=4, tm_yday=348, tm_isdst=-1)\n",
      "time.struct_time(tm_year=1900, tm_mon=1, tm_mday=1, tm_hour=15, tm_min=12, tm_sec=10, tm_wday=0, tm_yday=1, tm_isdst=-1)\n",
      "(2018, 12, 14)\n",
      "12\n",
      "<class 'time.struct_time'>\n"
     ]
    }
   ],
   "source": [
    "# 给定时间字符串，转换成时间元组 : strptime\n",
    "# 需要指定时间形式\n",
    "str_1 = \"2018/12/14 15:12:1\"\n",
    "str_2 = \"15:12:1 2018/12/14\"\n",
    "str_3 = \"2018-12-14\"\n",
    "str_4 = \"15:12:10\"\n",
    "time_tuple_1 = time.strptime(str_1,\"%Y/%m/%d %H:%M:%S\")\n",
    "time_tuple_2 = time.strptime(str_2,\"%H:%M:%S %Y/%m/%d\")\n",
    "time_tuple_3 = time.strptime(str_3,\"%Y-%m-%d\")\n",
    "time_tuple_4 = time.strptime(str_4,\"%H:%M:%S\")\n",
    "print(time_tuple_1)\n",
    "print(time_tuple_2)\n",
    "print(time_tuple_3)\n",
    "print(time_tuple_4)\n",
    "print(time_tuple_1[:3])\n",
    "print(time_tuple_1[4])\n",
    "print(type(time_tuple_1))"
   ]
  },
  {
   "cell_type": "code",
   "execution_count": 17,
   "metadata": {},
   "outputs": [
    {
     "name": "stdout",
     "output_type": "stream",
     "text": [
      "2018/12/14 15:31:57 Friday\n",
      "15:31:57 2018/12/14\n",
      "2018-12-14\n",
      "Fri 15:31:57\n"
     ]
    }
   ],
   "source": [
    "# 给定时间元组，转换成字符串 : strftime\n",
    "time_tuple = time.localtime()\n",
    "time_str_1 = time.strftime(\"%Y/%m/%d %H:%M:%S %A\",time_tuple)\n",
    "time_str_2 = time.strftime(\"%H:%M:%S %Y/%m/%d\",time_tuple)\n",
    "time_str_3 = time.strftime(\"%Y-%m-%d\",time_tuple)\n",
    "time_str_4 = time.strftime(\"%a %H:%M:%S\",time_tuple)\n",
    "print(time_str_1)\n",
    "print(time_str_2)\n",
    "print(time_str_3)\n",
    "print(time_str_4)"
   ]
  },
  {
   "cell_type": "code",
   "execution_count": 19,
   "metadata": {},
   "outputs": [
    {
     "name": "stdout",
     "output_type": "stream",
     "text": [
      "15:31:57 2018-12-14\n"
     ]
    }
   ],
   "source": [
    "# 将 “2018/12/14 15:31:57 Friday” 修改成 \"15:31:57 2018-12-14\"\n",
    "#分两步，第一步，将字符串转时间元组，strptime。第二步，将时间元组转字符串，并指定输出形式,strftime。\n",
    "str_time = \"2018/12/14 15:31:57 Friday\"\n",
    "temp_tuple = time.strptime(str_time,\"%Y/%m/%d %H:%M:%S %A\")\n",
    "new_str_time = time.strftime(\"%H:%M:%S %Y-%m-%d\",temp_tuple)\n",
    "print(new_str_time)"
   ]
  },
  {
   "cell_type": "code",
   "execution_count": 2,
   "metadata": {},
   "outputs": [],
   "source": [
    "import numpy as np"
   ]
  },
  {
   "cell_type": "code",
   "execution_count": 24,
   "metadata": {},
   "outputs": [
    {
     "name": "stdout",
     "output_type": "stream",
     "text": [
      "[[1 2 3]\n",
      " [4 5 6]] \n",
      " ==========\n",
      "[[1 2 3]\n",
      " [4 5 6]] \n",
      " ==========\n",
      "[0. 0. 0.] \n",
      " ==========\n",
      "[[0. 0. 0.]\n",
      " [0. 0. 0.]] \n",
      " ==========\n",
      "[1. 1.] \n",
      " ==========\n",
      "[[1. 1. 1.]\n",
      " [1. 1. 1.]] \n",
      " ==========\n",
      "[[1. 0.]\n",
      " [0. 1.]] \n",
      " ==========\n"
     ]
    }
   ],
   "source": [
    "#初始化矩阵\n",
    "vec_1 = np.array([[1,2,3],[4,5,6]])\n",
    "vec_2 = np.arange(1,7).reshape(2,3)\n",
    "vec_3 = np.zeros(3) #一维\n",
    "vec_4 = np.zeros((2,3))\n",
    "vec_5 = np.ones(2)\n",
    "vec_6 = np.ones((2,3))\n",
    "\n",
    "print(vec_1,\"\\n\",\"=\"*10)\n",
    "print(vec_2,\"\\n\",\"=\"*10)\n",
    "print(vec_3,\"\\n\",\"=\"*10)\n",
    "print(vec_4,\"\\n\",\"=\"*10)\n",
    "print(vec_5,\"\\n\",\"=\"*10)\n",
    "print(vec_6,\"\\n\",\"=\"*10)"
   ]
  },
  {
   "cell_type": "code",
   "execution_count": 10,
   "metadata": {},
   "outputs": [
    {
     "name": "stdout",
     "output_type": "stream",
     "text": [
      "[[0 1 2]\n",
      " [3 4 5]] \n",
      " ==========\n",
      "[[1 2 3]\n",
      " [4 5 6]] \n",
      " ==========\n",
      "[[2 4]\n",
      " [6 8]] \n",
      " ==========\n",
      "[1. 2. 3. 4. 5. 6. 7.] \n",
      " ==========\n",
      "[ 1.  4. 16.] \n",
      " ==========\n",
      "[[0.60100381 0.18638079 0.3871607 ]\n",
      " [0.82379782 0.18471237 0.65749406]] \n",
      " ==========\n",
      "[[0.94482949 0.73528298 0.16618219]\n",
      " [0.89547714 0.46218512 0.64290658]] \n",
      " ==========\n",
      "[[3 1 6]\n",
      " [2 6 1]] \n",
      " ==========\n"
     ]
    }
   ],
   "source": [
    "array_1 = np.arange(6).reshape(2,3) #生成0到6的数，尺寸为2行3列\n",
    "array_1_1 = np.arange(1,7).reshape(2,3) #生成1到7之间的数，重排尺寸为2行3列\n",
    "array_1_2 = np.arange(2,10,2).reshape(2,2) #生成2到10之间的数，步长为2，重排尺寸为2行2列\n",
    "array_2 = np.linspace(1,7,7)   #等差数列，1到7，默认包含右边值，共要7个数，若要不包含，则endpoint=False\n",
    "array_3 = np.logspace(0,4,3,base=2)  #等比数列，2的0次到2的4次，共要3个数，base控制底数，默认为10\n",
    "array_4 = np.random.random((2,3)) #生成0到1之间的随机数，尺寸为2行3列\n",
    "array_5 = np.random.rand(2,3) #和上面一个等价，但是可以少写一层括号\n",
    "array_6 = np.random.randint(1,10,(2,3)) #生成1到10之间的随机数，尺寸为2行3列\n",
    "print(array_1,\"\\n\",\"=\"*10)\n",
    "print(array_1_1,\"\\n\",\"=\"*10)\n",
    "print(array_1_2,\"\\n\",\"=\"*10)\n",
    "print(array_2,\"\\n\",\"=\"*10)\n",
    "print(array_3,\"\\n\",\"=\"*10)\n",
    "print(array_4,\"\\n\",\"=\"*10)\n",
    "print(array_5,\"\\n\",\"=\"*10)\n",
    "print(array_6,\"\\n\",\"=\"*10)"
   ]
  },
  {
   "cell_type": "code",
   "execution_count": 15,
   "metadata": {},
   "outputs": [
    {
     "name": "stdout",
     "output_type": "stream",
     "text": [
      "[[1. 0.]\n",
      " [0. 1.]] \n",
      " ==========\n",
      "[[1 0 0]\n",
      " [0 2 0]\n",
      " [0 0 3]] \n",
      " ==========\n",
      "[[1 2]\n",
      " [3 4]\n",
      " [5 6]] \n",
      " ==========\n",
      "(3, 2)\n",
      "[[ 1  2]\n",
      " [ 6  8]\n",
      " [15 18]] \n",
      " ==========\n",
      "[[-1.33333333 -0.33333333  0.66666667]\n",
      " [ 1.08333333  0.33333333 -0.41666667]] \n",
      " ==========\n",
      "[[1 3 5]\n",
      " [2 4 6]] \n",
      " ==========\n"
     ]
    }
   ],
   "source": [
    "vec_1 = np.identity(2)  #单位矩阵\n",
    "vec_2 = np.diag((1,2,3)) #对角矩阵，元素分别为1，2，3\n",
    "vec_3 = np.mat(\"1,2;3,4;5,6\")  #mat之后变成矩阵，可以进行矩阵点积运算\n",
    "vec_4 = np.dot(vec_2,vec_3) #dot为点积运算\n",
    "vec_5 = vec_3.I   #I表示求逆矩阵\n",
    "vec_6 = vec_3.T   #T表示求转置\n",
    "print(vec_1,\"\\n\",\"=\"*10)\n",
    "print(vec_2,\"\\n\",\"=\"*10)\n",
    "print(vec_3,\"\\n\",\"=\"*10)\n",
    "print(vec_3.shape)\n",
    "print(vec_4,\"\\n\",\"=\"*10)\n",
    "print(vec_5,\"\\n\",\"=\"*10)\n",
    "print(vec_6,\"\\n\",\"=\"*10)"
   ]
  },
  {
   "cell_type": "code",
   "execution_count": 19,
   "metadata": {},
   "outputs": [
    {
     "name": "stdout",
     "output_type": "stream",
     "text": [
      "[4 5 6 7 8]\n",
      "[ 2  4  6  8 10]\n",
      "[10.          5.          3.33333333  2.5         2.        ]\n",
      "[ 1  4  9 16 25]\n",
      "[ 2  4  8 16 32]\n",
      "====================\n",
      "[6 6 6 6 6]\n",
      "[-4 -2  0  2  4]\n",
      "[5 8 9 8 5]\n",
      "[0.2 0.5 1.  2.  5. ]\n",
      "[ 1 16 27 16  5]\n"
     ]
    }
   ],
   "source": [
    "#numpy之间基本运算\n",
    "#每个元素的对应操作\n",
    "arr_1 = np.array([1,2,3,4,5])\n",
    "print(arr_1+3)\n",
    "print(arr_1*2)\n",
    "print(10/arr_1)\n",
    "print(arr_1**2)\n",
    "print(2**arr_1)\n",
    "print(\"=\"*20)\n",
    "#对应元素操作\n",
    "arr_2 = np.array([5,4,3,2,1])\n",
    "print(arr_1+arr_2)\n",
    "print(arr_1-arr_2)\n",
    "print(arr_1*arr_2)\n",
    "print(arr_1/arr_2)\n",
    "print(arr_1**arr_2)"
   ]
  },
  {
   "cell_type": "code",
   "execution_count": 28,
   "metadata": {},
   "outputs": [
    {
     "name": "stdout",
     "output_type": "stream",
     "text": [
      "[[ 6  6  6]\n",
      " [10 10 10]] \n",
      " ==========\n",
      "[[ 5  8  9]\n",
      " [25 24 21]] \n",
      " ==========\n",
      "[[[0 1 2]\n",
      "  [3 4 5]]] \n",
      " ==========\n",
      "[1 2 3] \n",
      " ==========\n",
      "[[0 1 2]\n",
      " [3 4 5]] \n",
      " ==========\n",
      "[[[1 3 5]\n",
      "  [4 6 8]]] \n",
      " ==========\n",
      "[[[ 0  2  4]\n",
      "  [ 6  8 10]]] \n",
      " ==========\n"
     ]
    }
   ],
   "source": [
    "#广播\n",
    "#若一个矩阵维度是a*b,另一个矩阵或者是a*b，或者是b，都可以运算。\n",
    "#       若是a*b，则对应元素运算，若是b，则为广播\n",
    "#若一个矩阵维度是a*b*c,则另一个矩阵或者是a*b*c，或者是b*c，或者是c，都可以运算，第一个是对应元素运算，后面两个是广播。\n",
    "\n",
    "arr1 = np.array([[1,2,3],[5,6,7]]) #维度是2*3\n",
    "arr2 = np.array([5,4,3]) #维度是3\n",
    "print(arr1+arr2,\"\\n\",\"=\"*10) #一个是2*3，一个是3，所以可以运算，即广播运算\n",
    "print(arr1*arr2,\"\\n\",\"=\"*10) #对运算符号没有要求，只是尺寸的问题，故而对应元素乘等也是一样\n",
    "\n",
    "arr3 = np.arange(6).reshape(1,2,3)\n",
    "arr4 = np.array([1,2,3])\n",
    "arr5 = np.arange(6).reshape(2,3)\n",
    "print(arr3,\"\\n\",\"=\"*10)\n",
    "print(arr4,\"\\n\",\"=\"*10)\n",
    "print(arr5,\"\\n\",\"=\"*10)\n",
    "print(arr3+arr4,\"\\n\",\"=\"*10)\n",
    "print(arr3+arr5,\"\\n\",\"=\"*10)"
   ]
  },
  {
   "cell_type": "code",
   "execution_count": 39,
   "metadata": {},
   "outputs": [
    {
     "name": "stdout",
     "output_type": "stream",
     "text": [
      "[[[ 0  1  2  3]\n",
      "  [ 4  5  6  7]\n",
      "  [ 8  9 10 11]]\n",
      "\n",
      " [[12 13 14 15]\n",
      "  [16 17 18 19]\n",
      "  [20 21 22 23]]] \n",
      " ==========\n",
      "[ 2  6 10] \n",
      " ==========\n",
      "[[ 1  5  9]\n",
      " [13 17 21]] \n",
      " ==========\n",
      "[4 5 6 7] \n",
      " ==========\n",
      "[[ 8  9 10 11]\n",
      " [20 21 22 23]] \n",
      " ==========\n",
      "[5 6] \n",
      " ==========\n",
      "[[ 5  6]\n",
      " [ 9 10]] \n",
      " ==========\n",
      "[[ 5  6]\n",
      " [17 18]] \n",
      " ==========\n"
     ]
    }
   ],
   "source": [
    "#切片，选数\n",
    "arr = np.arange(24).reshape(2,3,4)\n",
    "print(arr,\"\\n\",\"=\"*10)\n",
    "# [[[ 0  1  2  3]\n",
    "#   [ 4  5  6  7]\n",
    "#   [ 8  9 10 11]]\n",
    "\n",
    "#  [[12 13 14 15]\n",
    "#   [16 17 18 19]\n",
    "#   [20 21 22 23]]] \n",
    "#选择2，6，10\n",
    "res_1 = arr[0][:,2]\n",
    "print(res_1,\"\\n\",\"=\"*10)\n",
    "#选择1，5，9，13，17，21\n",
    "res_2 = arr[:,:,1]\n",
    "print(res_2,\"\\n\",\"=\"*10)\n",
    "#选择4，5，6，7\n",
    "res_3 = arr[0][1]\n",
    "print(res_3,\"\\n\",\"=\"*10)\n",
    "#选择8，9，10，11，20，21，22，23\n",
    "res_4 = arr[:,-1,:]\n",
    "print(res_4,\"\\n\",\"=\"*10)\n",
    "#选择5，6\n",
    "res_5 = arr[0][1][1:3]\n",
    "print(res_5,\"\\n\",\"=\"*10)\n",
    "#选择5，6，9，10\n",
    "res_6 = arr[0][1:,1:3]\n",
    "print(res_6,\"\\n\",\"=\"*10)\n",
    "#选择5，6，17，18\n",
    "res_7 = arr[:,1,1:3]\n",
    "print(res_7,\"\\n\",\"=\"*10)"
   ]
  },
  {
   "cell_type": "code",
   "execution_count": 41,
   "metadata": {},
   "outputs": [
    {
     "name": "stdout",
     "output_type": "stream",
     "text": [
      "[1. 2. 3. 4.] [0.2 0.3 0.4 0.5]\n"
     ]
    }
   ],
   "source": [
    "#拆分小数和整数\n",
    "arr = np.array([1.2,2.3,3.4,4.5])\n",
    "float_num,int_num = np.modf(arr)\n",
    "print(int_num,float_num)"
   ]
  },
  {
   "cell_type": "code",
   "execution_count": 46,
   "metadata": {},
   "outputs": [
    {
     "name": "stdout",
     "output_type": "stream",
     "text": [
      "[[ 1  2  3  4]\n",
      " [ 7  8  9 10]]\n",
      "1\n",
      "10\n",
      "5.5\n",
      "3.2015621187164243\n",
      "3.2015621187164243\n",
      "[4. 5. 6. 7.]\n",
      "[10 34]\n"
     ]
    }
   ],
   "source": [
    "arr = np.array([[1,2,3,4],[7,8,9,10]])\n",
    "print(arr)\n",
    "print(arr.min())\n",
    "print(arr.max())\n",
    "print(arr.mean())\n",
    "print(arr.std())\n",
    "print(np.sqrt(np.sum(np.power(arr-arr.mean(),2))/arr.size))\n",
    "print(arr.mean(axis=0))\n",
    "print(arr.sum(axis=1))"
   ]
  },
  {
   "cell_type": "code",
   "execution_count": 48,
   "metadata": {},
   "outputs": [
    {
     "name": "stdout",
     "output_type": "stream",
     "text": [
      "[-2.1, -2.2, -1.3, 1.4, -2.5]\n",
      "[-2.1 -2.2 -1.3  1.4 -2.5]\n"
     ]
    }
   ],
   "source": [
    "#np.where(condition,A,B)\n",
    "#condition表示条件，如果为True，则选择A中的值，否则选择B中的值\n",
    "xarr = np.array([-1.1,-1.2,-1.3,1.4,-1.5])\n",
    "yarr = np.array([-2.1,-2.2,2.3,2.4,-2.5])\n",
    "condition = xarr < yarr\n",
    "res_1 = [x if c else y for x,y,c in zip(xarr,yarr,condition)]   #list\n",
    "res_2 = np.where(condition,xarr,yarr)   #ndarray\n",
    "print(res_1)\n",
    "print(res_2)"
   ]
  },
  {
   "cell_type": "code",
   "execution_count": 50,
   "metadata": {},
   "outputs": [
    {
     "name": "stdout",
     "output_type": "stream",
     "text": [
      "[[ 1.          2.          0.          4.        ]\n",
      " [ 4.          5.          6.          0.        ]\n",
      " [ 7.          8.          9.          0.        ]\n",
      " [ 0.          2.71828183  3.14159265 66.        ]]\n"
     ]
    }
   ],
   "source": [
    "#将异常值替换为0\n",
    "arr = np.array([\n",
    "    [1,2,np.NAN,4],\n",
    "    [4,5,6,np.NAN],\n",
    "    [7,8,9,np.Inf],\n",
    "    [np.inf,np.e,np.pi,66]\n",
    "])\n",
    "condition = np.isnan(arr) | np.isinf(arr)\n",
    "res = np.where(condition,0,arr) #condition为True时对应值为0，不然就选择arr对应的值\n",
    "print(res)"
   ]
  },
  {
   "cell_type": "code",
   "execution_count": 51,
   "metadata": {},
   "outputs": [
    {
     "name": "stdout",
     "output_type": "stream",
     "text": [
      "[1 2 3 4 5 6]\n",
      "['a' 'b' 'c']\n"
     ]
    }
   ],
   "source": [
    "#去重\n",
    "arr_1 = np.array([[1,2,3,4,5],[2,3,4,5,6]])\n",
    "arr_2 = np.array(['a','b','c','c','b'])\n",
    "print(np.unique(arr_1))\n",
    "print(np.unique(arr_2))"
   ]
  },
  {
   "cell_type": "code",
   "execution_count": 58,
   "metadata": {},
   "outputs": [
    {
     "name": "stdout",
     "output_type": "stream",
     "text": [
      "[2 9 6 4 0 3 1 7 8 5]\n",
      "[0 1 2 3 4 5 6 7 8 9]\n",
      "[9 8 7]\n"
     ]
    }
   ],
   "source": [
    "#排序1：直接排序\n",
    "array = np.arange(10)\n",
    "np.random.seed(1)\n",
    "np.random.shuffle(array)\n",
    "print(array)\n",
    "sort_array = np.sort(array)\n",
    "print(sort_array)\n",
    "print(sort_array[-1:-4:-1]) #排序后倒数3个，即最大三个"
   ]
  },
  {
   "cell_type": "code",
   "execution_count": 59,
   "metadata": {},
   "outputs": [
    {
     "name": "stdout",
     "output_type": "stream",
     "text": [
      "[2 9 6 4 0 3 1 7 8 5]\n",
      "[4 6 0 5 3 9 2 7 8 1]\n",
      "[1 8 7]\n",
      "[0 1 2 3 4 5 6 7 8 9]\n",
      "[9 8 7]\n"
     ]
    }
   ],
   "source": [
    "#排序2：以索引排序\n",
    "array = np.arange(10)\n",
    "np.random.seed(1)\n",
    "np.random.shuffle(array)\n",
    "print(array)\n",
    "sort_arr = np.argsort(array) #得到的也是从小到大的数，但是这个得到的是索引位置\n",
    "print(sort_arr)\n",
    "print(sort_arr[-1:-4:-1]) \n",
    "print(array[sort_arr])  #所以通过进一步用索引位也可以得到数的顺序\n",
    "print(array[sort_arr[-1:-4:-1]])"
   ]
  },
  {
   "cell_type": "code",
   "execution_count": 63,
   "metadata": {},
   "outputs": [
    {
     "name": "stdout",
     "output_type": "stream",
     "text": [
      "[9 8 7 6 5 4 3 2 1 0]\n",
      "0\n",
      "9\n",
      "[9 8 7 6 5 4 3 2 1 0]\n",
      "[0 1 2 3 4 5 6 7 8 9]\n"
     ]
    }
   ],
   "source": [
    "#找对应位置，arg\n",
    "array = np.arange(10)[-1::-1]\n",
    "print(array)\n",
    "print(np.argmax(array))\n",
    "print(np.argmin(array))\n",
    "print(np.argsort(array))   #找到从小到大的数对应的索引位\n",
    "print(array[np.argsort(array)])   #对元素进行排序，返回的是对应索引位置"
   ]
  },
  {
   "cell_type": "code",
   "execution_count": 1,
   "metadata": {},
   "outputs": [],
   "source": [
    "import pandas as pd\n",
    "#pandas里主要有series和dataframe\n",
    "#其中series是类似于一维数组的结构，即只有一组数据以及其相应的标签组成\n",
    "#而dataframe则类似于表格，可以有多组数据，既有行索引，也有列索引"
   ]
  },
  {
   "cell_type": "code",
   "execution_count": 7,
   "metadata": {},
   "outputs": [
    {
     "name": "stdout",
     "output_type": "stream",
     "text": [
      "0     1.0\n",
      "1     3.0\n",
      "2     5.0\n",
      "3     NaN\n",
      "4    10.0\n",
      "dtype: float64 \n",
      " ==========\n",
      "[ 1.  3.  5. nan 10.] \n",
      " ==========\n",
      "float64 \n",
      " ==========\n",
      "RangeIndex(start=0, stop=5, step=1) \n",
      " ==========\n"
     ]
    }
   ],
   "source": [
    "arr = np.array([1,3,5,np.NAN,10])\n",
    "series_1 = pd.Series(arr)\n",
    "print(series_1,\"\\n\",\"=\"*10)\n",
    "print(series_1.values,\"\\n\",\"=\"*10)\n",
    "print(series_1.dtype,\"\\n\",\"=\"*10)\n",
    "print(series_1.index,\"\\n\",\"=\"*10)"
   ]
  },
  {
   "cell_type": "code",
   "execution_count": 15,
   "metadata": {},
   "outputs": [
    {
     "name": "stdout",
     "output_type": "stream",
     "text": [
      "语文    90\n",
      "数学    91\n",
      "英语    92\n",
      "dtype: int64 \n",
      " ==========\n",
      "语文    90\n",
      "数学    91\n",
      "英语    92\n",
      "dtype: int64 \n",
      " ==========\n",
      "数学    93\n",
      "英语    94\n",
      "语文    92\n",
      "dtype: int64 \n",
      " ==========\n"
     ]
    }
   ],
   "source": [
    "#单项设定，分布初始化\n",
    "series_2 = pd.Series([90,91,92])\n",
    "series_2.index = [u'语文',u'数学',u'英语']\n",
    "print(series_2,\"\\n\",\"=\"*10)\n",
    "#以一次性设定所有属性值来初始化\n",
    "series_3 = pd.Series(data=[90,91,92],index=[u'语文',u'数学',u'英语'],dtype=np.int64)\n",
    "print(series_3,\"\\n\",\"=\"*10)\n",
    "#以字典的形式创建\n",
    "num_dict = {u'语文':92,u'数学':93,u'英语':94}\n",
    "series_4 = pd.Series(num_dict)\n",
    "print(series_4,\"\\n\",\"=\"*10)"
   ]
  },
  {
   "cell_type": "code",
   "execution_count": 19,
   "metadata": {},
   "outputs": [
    {
     "name": "stdout",
     "output_type": "stream",
     "text": [
      "语文    90\n",
      "数学    91\n",
      "英语    92\n",
      "dtype: int64 \n",
      " ==========\n",
      "[Index(['语文', '数学', '英语'], dtype='object', name='series_3_index')] \n",
      " ==========\n",
      "3 \n",
      " ==========\n",
      "series_3_index\n",
      "语文    90\n",
      "数学    91\n",
      "Name: series_3, dtype: int64 \n",
      " ==========\n",
      "series_3_index\n",
      "数学    91\n",
      "英语    92\n",
      "Name: series_3, dtype: int64 \n",
      " ==========\n"
     ]
    }
   ],
   "source": [
    "#series的一些属性\n",
    "series_3 = pd.Series(data=[90,91,92],index=[u'语文',u'数学',u'英语'],dtype=np.int64)\n",
    "print(series_3,\"\\n\",\"=\"*10)\n",
    "series_3.name = \"series_3\"\n",
    "series_3.index.name = \"series_3_index\"\n",
    "print(series_3.axes,\"\\n\",\"=\"*10) #打印出表信息\n",
    "print(series_3.size,\"\\n\",\"=\"*10) #返回表个数\n",
    "print(series_3.head(2),\"\\n\",\"=\"*10)\n",
    "print(series_3.tail(2),\"\\n\",\"=\"*10)"
   ]
  },
  {
   "cell_type": "code",
   "execution_count": 18,
   "metadata": {},
   "outputs": [
    {
     "name": "stdout",
     "output_type": "stream",
     "text": [
      "语文    90\n",
      "数学    91\n",
      "英语    92\n",
      "dtype: int64 \n",
      " ==========\n",
      "90 \n",
      " ==========\n",
      "90 \n",
      " ==========\n",
      "92 \n",
      " ==========\n",
      "语文    90\n",
      "数学    91\n",
      "dtype: int64 \n",
      " ==========\n",
      "语文    90\n",
      "数学    91\n",
      "英语    92\n",
      "dtype: int64 \n",
      " ==========\n"
     ]
    }
   ],
   "source": [
    "#series值的获取\n",
    "series_3 = pd.Series(data=[90,91,92],index=[u'语文',u'数学',u'英语'],dtype=np.int64)\n",
    "print(series_3,\"\\n\",\"=\"*10)\n",
    "print(series_3[u'语文'],\"\\n\",\"=\"*10)\n",
    "print(series_3[0],\"\\n\",\"=\"*10)\n",
    "print(series_3[-1],\"\\n\",\"=\"*10)\n",
    "print(series_3[0:-1],\"\\n\",\"=\"*10)\n",
    "print(series_3[u'语文':u'英语'],\"\\n\",\"=\"*10)"
   ]
  },
  {
   "cell_type": "code",
   "execution_count": null,
   "metadata": {},
   "outputs": [],
   "source": []
  }
 ],
 "metadata": {
  "kernelspec": {
   "display_name": "Python 3",
   "language": "python",
   "name": "python3"
  },
  "language_info": {
   "codemirror_mode": {
    "name": "ipython",
    "version": 3
   },
   "file_extension": ".py",
   "mimetype": "text/x-python",
   "name": "python",
   "nbconvert_exporter": "python",
   "pygments_lexer": "ipython3",
   "version": "3.6.4"
  }
 },
 "nbformat": 4,
 "nbformat_minor": 2
}
