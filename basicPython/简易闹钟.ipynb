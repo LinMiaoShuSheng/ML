{
 "cells": [
  {
   "cell_type": "code",
   "execution_count": 1,
   "metadata": {},
   "outputs": [],
   "source": [
    "from playsound import playsound\n",
    "import time\n",
    "from tqdm import tqdm"
   ]
  },
  {
   "cell_type": "code",
   "execution_count": 2,
   "metadata": {},
   "outputs": [],
   "source": [
    "def myclock(minutes):\n",
    "    start = time.time()\n",
    "    while True: #会一直占用cpu\n",
    "        current = time.time()\n",
    "        dif = minutes * 60\n",
    "        if current - start >= dif:\n",
    "            playsound(\"fukua.mp3\")"
   ]
  },
  {
   "cell_type": "code",
   "execution_count": 3,
   "metadata": {},
   "outputs": [],
   "source": [
    "def myclock_2(minutes):\n",
    "    start = time.time()\n",
    "    sleep_time = int(minutes*60)\n",
    "    for i in tqdm(range(sleep_time)): #会让出CPU\n",
    "        time.sleep(1)\n",
    "    print(\"total time:\",(time.time()-start)) #会有一点误差，但很小。1分钟误差不到0.01s\n",
    "    playsound(\"fukua.mp3\")"
   ]
  },
  {
   "cell_type": "code",
   "execution_count": null,
   "metadata": {},
   "outputs": [],
   "source": [
    "myclock_2(1)"
   ]
  },
  {
   "cell_type": "code",
   "execution_count": null,
   "metadata": {},
   "outputs": [],
   "source": []
  }
 ],
 "metadata": {
  "kernelspec": {
   "display_name": "Python 3",
   "language": "python",
   "name": "python3"
  },
  "language_info": {
   "codemirror_mode": {
    "name": "ipython",
    "version": 3
   },
   "file_extension": ".py",
   "mimetype": "text/x-python",
   "name": "python",
   "nbconvert_exporter": "python",
   "pygments_lexer": "ipython3",
   "version": "3.6.4"
  }
 },
 "nbformat": 4,
 "nbformat_minor": 2
}
