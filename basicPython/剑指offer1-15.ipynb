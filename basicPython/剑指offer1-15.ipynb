{
 "cells": [
  {
   "cell_type": "code",
   "execution_count": 1,
   "metadata": {},
   "outputs": [],
   "source": [
    "import numpy as np"
   ]
  },
  {
   "cell_type": "code",
   "execution_count": 2,
   "metadata": {},
   "outputs": [],
   "source": [
    "#1、在一个二维数组中（每个一维数组的长度相同。\n",
    "#  每一行都按照从左到右递增的顺序排序，每一列都按照从上到下递增的顺序排序。\n",
    "#  请完成一个函数，输入这样的一个二维数组和一个整数，判断数组中是否含有该整数。\n",
    "def Find(target, array):\n",
    "    column,row = array.shape\n",
    "    idx_x,idx_y = column-1,0\n",
    "    while idx_x >= 0 and idx_y < row:\n",
    "        if target == array[idx_x,idx_y]:\n",
    "            return idx_x,idx_y\n",
    "        elif target < array[idx_x,idx_y]:\n",
    "            idx_x -= 1\n",
    "        else:\n",
    "            idx_y += 1\n",
    "    return -1,-1"
   ]
  },
  {
   "cell_type": "code",
   "execution_count": 3,
   "metadata": {},
   "outputs": [
    {
     "name": "stdout",
     "output_type": "stream",
     "text": [
      "(3, 2)\n"
     ]
    }
   ],
   "source": [
    "array = np.array([[1,2,3,4,5],[2,3,4,5,6],[3,4,5,6,7],[4,5,6,7,8]],dtype=int)\n",
    "target = 6\n",
    "print(Find(target,array))"
   ]
  },
  {
   "cell_type": "code",
   "execution_count": 4,
   "metadata": {},
   "outputs": [],
   "source": [
    "#2、实现一个函数，将一个字符串中的每个空格替换成“%20”。\n",
    "#例如，当字符串为We Are Happy.则经过替换之后的字符串为We%20Are%20Happy。\n",
    "def replaceSpace(s):\n",
    "#     import re\n",
    "#     return re.sub(\"\\s\",\"%20\",s)\n",
    "    length = len(s)\n",
    "    s_list = list(s)\n",
    "    for idx in range(length):\n",
    "        if s_list[idx] == \" \":\n",
    "            s_list[idx] = \"%20\"\n",
    "    return \"\".join(s_list)"
   ]
  },
  {
   "cell_type": "code",
   "execution_count": 5,
   "metadata": {},
   "outputs": [
    {
     "name": "stdout",
     "output_type": "stream",
     "text": [
      "We%20Are%20Happy\n"
     ]
    }
   ],
   "source": [
    "string = \"We Are Happy\"\n",
    "print(replaceSpace(string))"
   ]
  },
  {
   "cell_type": "code",
   "execution_count": 6,
   "metadata": {},
   "outputs": [],
   "source": [
    "#3、输入一个链表，按链表值从尾到头的顺序返回一个ArrayList\n",
    "class ListNode:\n",
    "    def __init__(self, x):\n",
    "        self.val = x\n",
    "        self.next = None\n",
    "def printListFromTailToHead(listNode):\n",
    "    res = []\n",
    "    head = listNode\n",
    "    while head:\n",
    "        res.insert(0,head.val)\n",
    "        head = head.next\n",
    "    return res"
   ]
  },
  {
   "cell_type": "code",
   "execution_count": 7,
   "metadata": {},
   "outputs": [
    {
     "name": "stdout",
     "output_type": "stream",
     "text": [
      "[4, 3, 2, 1, 0]\n"
     ]
    }
   ],
   "source": [
    "head = temp = ListNode(0)\n",
    "for i in range(1,5):\n",
    "    cur = ListNode(i)\n",
    "    temp.next = cur\n",
    "    temp = cur\n",
    "print(printListFromTailToHead(head))"
   ]
  },
  {
   "cell_type": "code",
   "execution_count": 8,
   "metadata": {},
   "outputs": [],
   "source": [
    "#4、输入某二叉树的前序遍历和中序遍历的结果，请重建出该二叉树。\n",
    "#   假设输入的前序遍历和中序遍历的结果中都不含重复的数字。\n",
    "#   例如输入前序遍历序列{1,2,4,7,3,5,6,8}和中序遍历序列{4,7,2,1,5,3,8,6}，则重建二叉树并返回。\n",
    "class TreeNode:\n",
    "    def __init__(self, x):\n",
    "        self.val = x\n",
    "        self.left = None\n",
    "        self.right = None\n",
    "def reConstructBinaryTree(pre, tin): #pre为前序遍历，tin为中序遍历\n",
    "    if not pre or not tin:\n",
    "        return \n",
    "    root = TreeNode(pre[0])\n",
    "    idx = tin.index(root.val)\n",
    "    root.left = reConstructBinaryTree(pre[1:idx+1],tin[:idx])\n",
    "    root.right = reConstructBinaryTree(pre[idx+1:],tin[idx+1:])\n",
    "    return root"
   ]
  },
  {
   "cell_type": "code",
   "execution_count": 9,
   "metadata": {},
   "outputs": [
    {
     "name": "stdout",
     "output_type": "stream",
     "text": [
      "['1', '2', '4', '7', '3', '5', '6', '8']\n"
     ]
    }
   ],
   "source": [
    "list_1 = [1,2,4,7,3,5,6,8]\n",
    "list_2 = [4,7,2,1,5,3,8,6]\n",
    "pre,tin = [],[]\n",
    "for num in list_1:\n",
    "    pre.append(num)\n",
    "for num in list_2:\n",
    "    tin.append(num)\n",
    "res = reConstructBinaryTree(pre,tin)\n",
    "def getNodes(head):#先根遍历获取结果\n",
    "    if head is None:\n",
    "        return \n",
    "    res = []\n",
    "    res.extend(str(head.val))\n",
    "    left,right = head.left,head.right\n",
    "    if left:\n",
    "        res.extend(getNodes(left))\n",
    "    if right:\n",
    "        res.extend(getNodes(right))\n",
    "    return res\n",
    "print(getNodes(res))"
   ]
  },
  {
   "cell_type": "code",
   "execution_count": 11,
   "metadata": {},
   "outputs": [],
   "source": [
    "#5、用两个栈来实现一个队列，完成队列的Push和Pop操作。 队列中的元素为int类型。\n",
    "class Solution:\n",
    "    def __init__(self):\n",
    "        self.stack1 = []\n",
    "        self.stack2 = []\n",
    "    def push(self, node):\n",
    "        self.stack1.append(node)\n",
    "    def pop(self):\n",
    "        if len(self.stack2)>0:\n",
    "            res = self.stack2.pop(0)\n",
    "        else:\n",
    "            while len(self.stack1)>0:\n",
    "                self.stack2.append(self.stack1.pop(0))\n",
    "            res = self.stack2.pop(0)\n",
    "        return res"
   ]
  },
  {
   "cell_type": "code",
   "execution_count": 12,
   "metadata": {},
   "outputs": [
    {
     "name": "stdout",
     "output_type": "stream",
     "text": [
      "1\n",
      "2\n",
      "3\n",
      "4\n",
      "5\n"
     ]
    }
   ],
   "source": [
    "myqueue = Solution()\n",
    "num_list = [1,2,3,4,5]\n",
    "for num in num_list:\n",
    "    myqueue.push(num)\n",
    "for _ in range(len(num_list)):\n",
    "    print(myqueue.pop())"
   ]
  },
  {
   "cell_type": "code",
   "execution_count": 17,
   "metadata": {},
   "outputs": [],
   "source": [
    "#6、把一个数组最开始的若干个元素搬到数组的末尾，我们称之为数组的旋转。 \n",
    "#   输入一个非减排序的数组的一个旋转，输出旋转数组的最小元素。 \n",
    "#   例如数组{3,4,5,1,2}为{1,2,3,4,5}的一个旋转，该数组的最小值为1。 \n",
    "#   NOTE：给出的所有元素都大于0，若数组大小为0，请返回0\n",
    "def minNumberInRotateArray(rotateArray):\n",
    "    if not rotateArray:\n",
    "        return 0\n",
    "    if rotateArray[0] < rotateArray[-1]:\n",
    "        return rotateArray[0]\n",
    "    if rotateArray[0] == rotateArray[-1]:\n",
    "        return min(rotateArray)\n",
    "    left,right = 0,len(rotateArray)-1\n",
    "    mid = (left+right)//2\n",
    "    while left !=mid :\n",
    "        if rotateArray[left]>rotateArray[mid]:\n",
    "            left = mid\n",
    "        else:\n",
    "            right = mid\n",
    "        mid = (left+right)//2\n",
    "    return rotateArray[left]"
   ]
  },
  {
   "cell_type": "code",
   "execution_count": 19,
   "metadata": {},
   "outputs": [
    {
     "name": "stdout",
     "output_type": "stream",
     "text": [
      "1\n",
      "1\n",
      "3\n"
     ]
    }
   ],
   "source": [
    "rotateArray_1 = list(np.ones(10,dtype=int))\n",
    "rotateArray_2 = [2,2,2,2,1,2,2]\n",
    "rotateArray_3 = [3,4,5,1,2]\n",
    "print(minNumberInRotateArray(rotateArray_1))\n",
    "print(minNumberInRotateArray(rotateArray_2))\n",
    "print(minNumberInRotateArray(rotateArray_3))"
   ]
  },
  {
   "cell_type": "code",
   "execution_count": 20,
   "metadata": {},
   "outputs": [],
   "source": [
    "#7、大家都知道斐波那契数列。\n",
    "#   现在要求输入一个整数n，请你输出斐波那契数列的第n项（从0开始，第0项为0）。n<=39 \n",
    "def feibo(n):\n",
    "    if n <= 0:\n",
    "        return 0\n",
    "    elif n<=2:\n",
    "        return 1\n",
    "    pre = post = 1\n",
    "    for idx in range(3,n+1):\n",
    "        cur = pre + post\n",
    "        pre = post\n",
    "        post = cur\n",
    "    return cur"
   ]
  },
  {
   "cell_type": "code",
   "execution_count": 22,
   "metadata": {},
   "outputs": [
    {
     "name": "stdout",
     "output_type": "stream",
     "text": [
      "0 1 1 2 3 5 8 13 21 34 "
     ]
    }
   ],
   "source": [
    "for idx in range(10):\n",
    "    print(feibo(idx),end=\" \")"
   ]
  },
  {
   "cell_type": "code",
   "execution_count": 23,
   "metadata": {},
   "outputs": [],
   "source": [
    "#8、一只青蛙一次可以跳上1级台阶，也可以跳上2级。\n",
    "#   求该青蛙跳上一个n级的台阶总共有多少种跳法（先后次序不同算不同的结果）。\n",
    "def jump(n):\n",
    "    if n<=0:\n",
    "        return -1\n",
    "    if n <= 2:\n",
    "        return n\n",
    "    pre,post = 1,2\n",
    "    for _ in range(3,n+1):\n",
    "        cur = pre+post\n",
    "        pre = post\n",
    "        post = cur\n",
    "    return cur"
   ]
  },
  {
   "cell_type": "code",
   "execution_count": 26,
   "metadata": {},
   "outputs": [
    {
     "name": "stdout",
     "output_type": "stream",
     "text": [
      "1 2 3 5 8 13 21 34 55 "
     ]
    }
   ],
   "source": [
    "for idx in range(1,10):\n",
    "    print(jump(idx),end=\" \")"
   ]
  },
  {
   "cell_type": "code",
   "execution_count": 27,
   "metadata": {},
   "outputs": [],
   "source": [
    "#9、一只青蛙一次可以跳上1级台阶，也可以跳上2级……它也可以跳上n级。\n",
    "#   求该青蛙跳上一个n级的台阶总共有多少种跳法。\n",
    "def jump_2(n):\n",
    "    if n<=0:\n",
    "        return -1\n",
    "    elif n<=2:\n",
    "        return n\n",
    "    cur = 2\n",
    "    for _ in range(3,n+1):\n",
    "        cur *= 2\n",
    "    return cur"
   ]
  },
  {
   "cell_type": "code",
   "execution_count": 28,
   "metadata": {},
   "outputs": [
    {
     "name": "stdout",
     "output_type": "stream",
     "text": [
      "1 2 4 8 16 32 64 128 256 "
     ]
    }
   ],
   "source": [
    "for idx in range(1,10):\n",
    "    print(jump_2(idx),end=\" \")"
   ]
  },
  {
   "cell_type": "code",
   "execution_count": 29,
   "metadata": {},
   "outputs": [],
   "source": [
    "#10、我们可以用2*1的小矩形横着或者竖着去覆盖更大的矩形。\n",
    "#    请问用n个2*1的小矩形无重叠地覆盖一个2*n的大矩形，总共有多少种方法？\n",
    "#画一下图，发现仍然是斐波那契数列，代码同#8，jump"
   ]
  },
  {
   "cell_type": "code",
   "execution_count": 30,
   "metadata": {},
   "outputs": [],
   "source": [
    "#11、输入一个整数，输出该数二进制表示中1的个数。其中负数用补码表示。\n",
    "#思路：n与n-1相与，能消去一个1\n",
    "def get_ones(n):\n",
    "    count = 0\n",
    "    while n != 0:\n",
    "        n = n & (n-1)\n",
    "        count  += 1\n",
    "    return count"
   ]
  },
  {
   "cell_type": "code",
   "execution_count": 34,
   "metadata": {},
   "outputs": [
    {
     "name": "stdout",
     "output_type": "stream",
     "text": [
      "0b1 0b10 0b11 0b100 0b101 0b110 0b111 0b1000 0b1001 \n",
      " ====================\n",
      "1 1 2 1 2 2 3 1 2 "
     ]
    }
   ],
   "source": [
    "for idx in range(1,10):\n",
    "    print(bin(idx),end=\" \")\n",
    "print(\"\\n\",\"=\"*20)\n",
    "for idx in range(1,10):\n",
    "    print(get_ones(idx),end=\" \")"
   ]
  },
  {
   "cell_type": "code",
   "execution_count": 36,
   "metadata": {},
   "outputs": [],
   "source": [
    "#12、给定一个double类型的浮点数base和int类型的整数exponent。求base的exponent次方。\n",
    "#这题醉了。。。难道不是一句话就解决的事吗: return base**exponent\n",
    "def my_power(base,exponent):\n",
    "    res = 1.0\n",
    "    if exponent == 0:\n",
    "        return 1\n",
    "    elif exponent > 0:\n",
    "        for _ in range(exponent):\n",
    "            res *= base\n",
    "    else:\n",
    "        for _ in range(-exponent):\n",
    "            res /= base\n",
    "    return res"
   ]
  },
  {
   "cell_type": "code",
   "execution_count": 38,
   "metadata": {},
   "outputs": [
    {
     "name": "stdout",
     "output_type": "stream",
     "text": [
      "8.0\n",
      "0.5\n"
     ]
    }
   ],
   "source": [
    "print(my_power(2,3))\n",
    "print(my_power(2,-1))"
   ]
  },
  {
   "cell_type": "code",
   "execution_count": 43,
   "metadata": {},
   "outputs": [],
   "source": [
    "#13、输入一个整数数组，实现一个函数来调整该数组中数字的顺序。\n",
    "#    使得所有的奇数位于数组的前半部分，所有的偶数位于数组的后半部分。\n",
    "#    并保证奇数和奇数，偶数和偶数之间的相对位置不变。\n",
    "def change_order(num_list):\n",
    "    temp_1,temp_2 = [],[]\n",
    "    for num in num_list:\n",
    "        if num % 2 == 0:\n",
    "            temp_1.append(num)\n",
    "        else:\n",
    "            temp_2.append(num)\n",
    "    temp_2.extend(temp_1)\n",
    "    return temp_2"
   ]
  },
  {
   "cell_type": "code",
   "execution_count": 46,
   "metadata": {},
   "outputs": [
    {
     "name": "stdout",
     "output_type": "stream",
     "text": [
      "before:  [1, 2, 3, 4, 5, 6, 7, 8, 9]\n",
      "after:   [1, 3, 5, 7, 9, 2, 4, 6, 8]\n"
     ]
    }
   ],
   "source": [
    "num_list = list(range(1,10))\n",
    "print(\"before: \",num_list)\n",
    "print(\"after:  \",change_order(num_list))"
   ]
  },
  {
   "cell_type": "code",
   "execution_count": 49,
   "metadata": {},
   "outputs": [],
   "source": [
    "#14、输入一个链表，输出该链表中倒数第k个结点。\n",
    "#两种方式：1、依次放到一个list里，直接读取倒数第k个元素\n",
    "#2、用两个指针，pre和post，先让post走k个，然后同时同步往后走，post走到头时，pre即为对应第倒数k个。\n",
    "class ListNode:\n",
    "    def __init__(self, x):\n",
    "        self.val = x\n",
    "        self.next = None\n",
    "def FindKthToTail_1(head, k):\n",
    "    temp = []\n",
    "    while head is not None:\n",
    "        temp.append(head)\n",
    "        head = head.next\n",
    "    return temp[-k]\n",
    "def FindKthToTail_2(head, k):\n",
    "    pre,post = head,head\n",
    "    idx = 0\n",
    "    while post is not None and idx < k:\n",
    "        post = post.next\n",
    "        idx += 1\n",
    "    if not post:\n",
    "        return\n",
    "    while post is not None:\n",
    "        pre = pre.next\n",
    "        post = post.next\n",
    "    return pre"
   ]
  },
  {
   "cell_type": "code",
   "execution_count": 51,
   "metadata": {},
   "outputs": [
    {
     "name": "stdout",
     "output_type": "stream",
     "text": [
      "7\n",
      "7\n"
     ]
    }
   ],
   "source": [
    "head = cur = ListNode(0)\n",
    "for idx in range(1,10):\n",
    "    temp = ListNode(idx)\n",
    "    cur.next = temp\n",
    "    cur = temp\n",
    "print(FindKthToTail_1(head,3).val)\n",
    "print(FindKthToTail_2(head,3).val)"
   ]
  },
  {
   "cell_type": "code",
   "execution_count": 3,
   "metadata": {},
   "outputs": [],
   "source": [
    "#15、输入一个链表，反转链表后，输出新链表的表头。\n",
    "#思路：除了head，还需要两个指针\n",
    "class ListNode:\n",
    "    def __init__(self, x):\n",
    "        self.val = x\n",
    "        self.next = None\n",
    "def ReverseList(pHead):\n",
    "    if not pHead or not pHead.next:\n",
    "        return pHead\n",
    "    temp = pHead.next\n",
    "    last = temp.next\n",
    "    head.next = None\n",
    "    while last is not None:\n",
    "        temp.next = pHead\n",
    "        pHead = temp\n",
    "        temp = last\n",
    "        last = temp.next\n",
    "    temp.next = pHead\n",
    "    return temp"
   ]
  },
  {
   "cell_type": "code",
   "execution_count": 4,
   "metadata": {},
   "outputs": [
    {
     "name": "stdout",
     "output_type": "stream",
     "text": [
      "9 8 7 6 5 4 3 2 1 0 "
     ]
    }
   ],
   "source": [
    "head = ListNode(0)\n",
    "cur = head\n",
    "for idx in range(1,10):\n",
    "    temp = ListNode(idx)\n",
    "    cur.next = temp\n",
    "    cur = temp\n",
    "reversed_head = ReverseList(head)\n",
    "while reversed_head:\n",
    "    print(reversed_head.val,end=\" \")\n",
    "    reversed_head = reversed_head.next"
   ]
  },
  {
   "cell_type": "code",
   "execution_count": null,
   "metadata": {},
   "outputs": [],
   "source": []
  }
 ],
 "metadata": {
  "kernelspec": {
   "display_name": "Python 3",
   "language": "python",
   "name": "python3"
  },
  "language_info": {
   "codemirror_mode": {
    "name": "ipython",
    "version": 3
   },
   "file_extension": ".py",
   "mimetype": "text/x-python",
   "name": "python",
   "nbconvert_exporter": "python",
   "pygments_lexer": "ipython3",
   "version": "3.6.4"
  }
 },
 "nbformat": 4,
 "nbformat_minor": 2
}
