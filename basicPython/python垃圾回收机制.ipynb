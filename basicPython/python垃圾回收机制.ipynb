{
 "cells": [
  {
   "cell_type": "code",
   "execution_count": null,
   "metadata": {},
   "outputs": [],
   "source": [
    "# 首先什么是内存泄露\n",
    "# 即存在某些变量，当前已经不再被使用，但是又没有被释放。故而这个时候需要做垃圾回收操作。\n",
    "\n",
    "# 哪些情况下会有内存泄露\n",
    "# 1、对象被另一个生命周期特别长的对象所引用，比如某个全局对象统一管理了若干个子对象，部分子对象使用过一次后就不再被使用了\n",
    "# 2、循环引用中的对象定义了__del__函数，关于循环引用对象，下面再提\n",
    "\n",
    "# 垃圾回收在实际工程中的应用：\n",
    "# 1、写代码过程中注意及时释放未来不再使用的变量：\n",
    "#               比如执行del来手动地删除掉带有大量数据的变量，然后执行gc.collect()，从而能够及时释放出资源，从而提升内存的利用率\n",
    "# 2、当发生了内存溢出时，或者有内存泄露时，可以用来排查问题。\n",
    "#               下面有示例，即主要使用gc.set_debug(gc.DEBUG_COLLECTABLE)和gc.collect()配合使用来初步查看循环引用对象\n",
    "#                或者使用gc.set_debug(gc.DEBUG_SAVEALL)、gc.collect()和gc.garbage遍历来精确查找，并使用objgraph.show_backrefs来形象展示观看\n",
    "# 3、当然，最重要的是，了解了问题本质，也能防范于未然"
   ]
  },
  {
   "cell_type": "code",
   "execution_count": null,
   "metadata": {},
   "outputs": [],
   "source": [
    "#在python中，主要是使用三大技术来做垃圾清理回收：1、引用计数 2、分代收集 3、标记清除\n",
    "\n",
    "# 从大体上来说\n",
    "# 引用计数 主要用于统计对象被引用的变量数，即主要用于判定，判定该对象是否可以被删除\n",
    "# 分代收集 有点触发器的感觉，即达到每一代的域值条件会触发垃圾回收的执行\n",
    "# 标记清除 则是对引用计数的弥补，因为引用计数解决不了“循环引用”类型的垃圾，故而标记清除主要用于解决循环引用问题"
   ]
  },
  {
   "cell_type": "code",
   "execution_count": null,
   "metadata": {},
   "outputs": [],
   "source": [
    "# 引用计数（References count）：每个Python对象都有一个计数器，记录着当前有多少个变量指向这个对象。\n",
    "# 将一个对象直接或者间接赋值给一个变量时，对象的计数器会加1；当变量被del删除，或者离开变量所在作用域时，对象的引用计数器会减1。\n",
    "# 当计数器归零的时候，代表这个对象再也没有地方可能使用了，因此可以将对象安全的销毁，也就是可以被删了，但是并不是达到即删。\n",
    "# 引用计数虽然需要一个额外的字段来统计每个对象的引用情况，但这只是很小的开销，相比内存泄露还是性价比很高。"
   ]
  },
  {
   "cell_type": "code",
   "execution_count": null,
   "metadata": {},
   "outputs": [],
   "source": [
    "# 分代回收：\n",
    "# 首先，Python将所有对象根据\"生存时间\"分为3代, 从0到2。\n",
    "# 新创建的对象都分配为第0代。\n",
    "# 每一代的清理频率有所差别，可以通过gc.set_threshold(threshold0[, threshold1[, threshold2]])来自己设定\n",
    "# 当新增对象数量减去被删除对象数量的结果值大于threshold0时, Python会对第0代对象执行一次垃圾回收，这里的删除指的是手动del，并不是垃圾回收的删除\n",
    "# 对第0代经过一次垃圾回收之后，第0代中未被清理掉的会被放入第1代中\n",
    "# 当第0代被检查的次数超过了threshold1时, 第1代对象就会被执行一次垃圾回收。对第1代经过一次垃圾回收之后，第1代中未被清理掉的会被放入第2代中。\n",
    "# 当第1代被检查的次数超过了threshold2时, 第2代对象也会被执行一次垃圾回收\n",
    "\n",
    "#分代回收的原理依据是：认为，越年轻的越容易死去，比如局部对象。越年长的越容易存活，比如全局对象，类对象等。"
   ]
  },
  {
   "cell_type": "code",
   "execution_count": null,
   "metadata": {},
   "outputs": [],
   "source": [
    "# 标记清除：\n",
    "# 首先，标记清除是对引用计数的一个补充，其目的是为了解决那些引用计数解决不了的存在“循环引用”的对象\n",
    "# 在Python中, 所有能够引用其他对象的对象都被称为容器，因此只有容器之间才可能形成循环引用，非容器对象也可以引用，但不会构成循环引用\n",
    "# Python用双向链表来存储所有容器, 因为方便中插入和删除对象\n",
    "# 因此在垃圾回收时，按以下步骤来处理那些循环引用对象\n",
    "# 1、对每个容器对象, 设置一个gc_refs值, 初始化为该对象的引用计数值\n",
    "# 2、对每个容器对象, 找到所有其引用的对象, 将被引用对象的gc_refs值减1。 比如A引用了B和C，则对B和C的gc_refs值减1，表示去掉与A的联系\n",
    "# 3、执行完第2步后，所有gc_refs值还大于0的对象，表明至少存在一个非循环引用还在引用着，故而不能删，放到一个集合中\n",
    "# 4、第三步被拎出来的对象，其引用着的对象也不能删，故而再拎出来一批\n",
    "# 5、剩下的则是属于循环引用对象了，释放掉。"
   ]
  },
  {
   "cell_type": "code",
   "execution_count": null,
   "metadata": {},
   "outputs": [],
   "source": [
    "#垃圾回收被触发的三种情况：\n",
    "#   1、达到了垃圾回收的阈值，Python虚拟机自动执行\n",
    "#   2、手动调用gc.collect()\n",
    "#   3、Python虚拟机退出的时候"
   ]
  },
  {
   "cell_type": "code",
   "execution_count": null,
   "metadata": {},
   "outputs": [],
   "source": [
    "#另外一些垃圾回收中的常见概念：\n",
    "# 1、对象不可达(unreachable)：存在某些对象，不能通过任何变量找到这些对象，但它们仍没有被释放，那么该对象则可能存在循环引用，此时即为不可达。\n",
    "#                            对象可达(reachable)即对应不可达正好相反。\n",
    "\n",
    "# 2、对象可回收(collectable):可回收和不可回收主要针对于循环引用的对象而言。\n",
    "#                            可回收的主要即循环引用的对象并没有自己定义__del__方法,回收时主要通过标记清除来搞定。\n",
    "#                            如果循环引用中的对象自己定义了__del__，就是不可回收的。python垃圾回收对这种无能为力。\n",
    "#                            但是python3.4开始据说已经可以自动处理带有__del__的循环引用了。。。"
   ]
  },
  {
   "cell_type": "code",
   "execution_count": null,
   "metadata": {},
   "outputs": [],
   "source": []
  },
  {
   "cell_type": "code",
   "execution_count": null,
   "metadata": {},
   "outputs": [],
   "source": [
    "#落到实处是代码\n",
    "#首先要了解python一些基本数据类型对应的存储方式\n",
    "#python基本数据类型：数值、字符串、元组、集合、列表、字典\n",
    "#可变类型只有列表和字典，其它均为不可变类型"
   ]
  },
  {
   "cell_type": "code",
   "execution_count": null,
   "metadata": {},
   "outputs": [],
   "source": [
    "#1、不可变类型无法在原地进行修改，原地即原始地址，故而一旦修改，本质上是指向了新的空间地址\n",
    "a = 5\n",
    "print(id(a))\n",
    "a = 6\n",
    "print(id(a))"
   ]
  },
  {
   "cell_type": "code",
   "execution_count": null,
   "metadata": {},
   "outputs": [],
   "source": [
    "#2、可变类型可以在原地进行修改\n",
    "list_1 = [1,2]\n",
    "print(id(list_1))\n",
    "list_1[0],list_1[1] = 7,11\n",
    "list_1.append(\"nice\")\n",
    "print(id(list_1))"
   ]
  },
  {
   "cell_type": "code",
   "execution_count": null,
   "metadata": {},
   "outputs": [],
   "source": [
    "#3、python有自己的对象缓冲池，里面存放着不可变类型数据，目的是为了避免频繁的创建和销毁\n",
    "#故而对于不可变对象，上来寻找或者赋值时，会先寻找缓冲池中是否存在该值，若存在，则直接对应连接，不存在，再新生\n",
    "#而对于可变对象，则是属于即时赋值\n",
    "b,c = 5,5\n",
    "print(b==c)  # “==”是用于判断是否值相同\n",
    "print(id(b)==id(c)) # 都是指向对象缓冲区的某个地址\n",
    "print(id(b)) # 这个ID，和最上面的a=5所对应的id仍是一个，前提是对象缓冲区的值还存在\n",
    "print(b is c) # 因为地址相同，故而会认为是相同的对象\n",
    "\n",
    "print(\"=\"*20)\n",
    "\n",
    "list_2,list_3 = [1,2,3],[1,2,3]\n",
    "print(list_2 == list_3) #\n",
    "print(id(list_2)!=id(list_3))\n",
    "print(list_2 is not list_3)  #因为地址不同，故而认为不是相同的对象"
   ]
  },
  {
   "cell_type": "code",
   "execution_count": null,
   "metadata": {},
   "outputs": [],
   "source": [
    "#通过sys.getrefcount(obj)对象可以获得一个对象的引用数目，可以发现常见的不可变对象被很多变量所引用着\n",
    "import sys\n",
    "s_1 = \"test\"\n",
    "print(sys.getrefcount(s_1))\n",
    "s_2 = 1\n",
    "print(sys.getrefcount(s_2))"
   ]
  },
  {
   "cell_type": "code",
   "execution_count": null,
   "metadata": {},
   "outputs": [],
   "source": [
    "#关于gc模块常见的一些API\n",
    "import gc\n",
    "\n",
    "# gc.enable()    #开启gc，默认会开启\n",
    "# gc.disable()    #关闭gc\n",
    "print(gc.isenabled())  #判断是否在开启状态\n",
    "\n",
    "gc.collect()   #执行一遍垃圾回收操作，无论gc开启与否都可直接执行\n",
    "\n",
    "#gc.set_threshold(t0, t1, t2)  #设置垃圾回收的阈值，一般不自己设置\n",
    "print(gc.get_threshold())   #获取垃圾回收的域值\n",
    "\n",
    "print(len(gc.get_objects()))  # 返回所有被垃圾回收器（collector）管理的对象，因为被管理对象多，一般执行起来会比较耗时\n",
    "\n",
    "#发生内存泄露后调试利器，三个往往使用前两个或者第三个，同时也可以，但主要目的不一样\n",
    "gc.set_debug(gc.DEBUG_COLLECTABLE) # 设置调试选项，非常有用 打印可以被垃圾回收器回收的对象\n",
    "gc.set_debug(gc.DEBUG_UNCOLLECTABLE) # 打印不能被垃圾回收器回收的对象\n",
    "gc.set_debug(gc.DEBUG_SAVEALL) #设置了这个参数以后，执行gc.collect()时并不会真的做垃圾回收清空，而是放到gc.garbage这个列表里面，用于调试使用"
   ]
  },
  {
   "cell_type": "code",
   "execution_count": null,
   "metadata": {},
   "outputs": [],
   "source": []
  },
  {
   "cell_type": "code",
   "execution_count": 1,
   "metadata": {},
   "outputs": [],
   "source": [
    "#循环引用示例\n",
    "class test:\n",
    "    pass\n",
    "def block():\n",
    "    a,b = test(),test()\n",
    "    a.next = b\n",
    "    b.next = a"
   ]
  },
  {
   "cell_type": "code",
   "execution_count": 3,
   "metadata": {},
   "outputs": [
    {
     "name": "stderr",
     "output_type": "stream",
     "text": [
      "gc: collectable <test 0x0000021689061630>\n",
      "gc: collectable <test 0x00000216890615F8>\n",
      "gc: collectable <dict 0x000002168905D1B0>\n",
      "gc: collectable <dict 0x000002168905D120>\n"
     ]
    },
    {
     "data": {
      "text/plain": [
       "4"
      ]
     },
     "execution_count": 3,
     "metadata": {},
     "output_type": "execute_result"
    }
   ],
   "source": [
    "#通过debug模式使得能够看到有哪些对象是属于不可达(存在循环引用)而又可收集的。\n",
    "#可以初步看出哪些对象是有问题的\n",
    "import gc\n",
    "gc.set_debug(gc.DEBUG_COLLECTABLE)\n",
    "block()\n",
    "gc.collect() #设置完debug模式后，执行gc.collect会有输出，但输出的都是那些“循环引用并且是可收集的”对象\n",
    "#可以发现有两个test对象属于“不可达并且可收集”的，test对象即我们自己构建的循环引用的对象\n",
    "#但此时可以看到的同时，也会被垃圾回收走，故而想要看图是没法看的"
   ]
  },
  {
   "cell_type": "code",
   "execution_count": null,
   "metadata": {},
   "outputs": [],
   "source": [
    "#为了进一步画出环装图，可以通过编号来画，更形象些\n",
    "#但是和上面一步是互斥的，需要重新debug一遍\n",
    "import gc\n",
    "gc.set_debug(gc.DEBUG_SAVEALL) #即接下来执行gc.collect()之后不会真的被回收走\n",
    "block()\n",
    "print(gc.garbage) #先看一眼垃圾箱中有没有内容，此时应该是没有内容的\n",
    "print(gc.collect()) #进行一次垃圾回收处理，此时被回收的垃圾会先放在gc.garbage里,返回的数字代表unreachable object即存在循环引用的数量\n",
    "for eachObject in gc.garbage:\n",
    "    print(eachObject) #此时找到那个对应的对象，然后根据对应的编码可以看图，因为此时还没有被垃圾回收掉，故而可以看到"
   ]
  },
  {
   "cell_type": "code",
   "execution_count": 4,
   "metadata": {},
   "outputs": [
    {
     "data": {
      "image/svg+xml": [
       "<?xml version=\"1.0\" encoding=\"UTF-8\" standalone=\"no\"?>\r\n",
       "<!DOCTYPE svg PUBLIC \"-//W3C//DTD SVG 1.1//EN\"\r\n",
       " \"http://www.w3.org/Graphics/SVG/1.1/DTD/svg11.dtd\">\r\n",
       "<!-- Generated by graphviz version 2.38.0 (20140413.2041)\r\n",
       " -->\r\n",
       "<!-- Title: ObjectGraph Pages: 1 -->\r\n",
       "<svg width=\"398pt\" height=\"566pt\"\r\n",
       " viewBox=\"0.00 0.00 397.50 566.00\" xmlns=\"http://www.w3.org/2000/svg\" xmlns:xlink=\"http://www.w3.org/1999/xlink\">\r\n",
       "<g id=\"graph0\" class=\"graph\" transform=\"scale(1 1) rotate(0) translate(4 562)\">\r\n",
       "<title>ObjectGraph</title>\r\n",
       "<polygon fill=\"white\" stroke=\"none\" points=\"-4,4 -4,-562 393.5,-562 393.5,4 -4,4\"/>\r\n",
       "<!-- o2757474233592 -->\r\n",
       "<g id=\"node1\" class=\"node\"><title>o2757474233592</title>\r\n",
       "<polygon fill=\"#ffffff\" stroke=\"black\" points=\"389.5,-305 125.5,-305 125.5,-267 389.5,-267 389.5,-305\"/>\r\n",
       "<text text-anchor=\"middle\" x=\"257.5\" y=\"-289.8\" font-family=\"Times New Roman,serif\" font-size=\"14.00\" fill=\"red\">test</text>\r\n",
       "<text text-anchor=\"middle\" x=\"257.5\" y=\"-274.8\" font-family=\"Times New Roman,serif\" font-size=\"14.00\" fill=\"red\">&lt;__main__.test object at 0x000002820645A</text>\r\n",
       "</g>\r\n",
       "<!-- o2757474272168 -->\r\n",
       "<g id=\"node8\" class=\"node\"><title>o2757474272168</title>\r\n",
       "<polygon fill=\"#939393\" stroke=\"black\" points=\"285.5,-216 229.5,-216 229.5,-178 285.5,-178 285.5,-216\"/>\r\n",
       "<text text-anchor=\"middle\" x=\"257.5\" y=\"-200.8\" font-family=\"Times New Roman,serif\" font-size=\"14.00\">dict</text>\r\n",
       "<text text-anchor=\"middle\" x=\"257.5\" y=\"-185.8\" font-family=\"Times New Roman,serif\" font-size=\"14.00\">1 items</text>\r\n",
       "</g>\r\n",
       "<!-- o2757474233592&#45;&gt;o2757474272168 -->\r\n",
       "<g id=\"edge11\" class=\"edge\"><title>o2757474233592&#45;&gt;o2757474272168</title>\r\n",
       "<path fill=\"none\" stroke=\"black\" d=\"M257.5,-266.974C257.5,-255.192 257.5,-239.561 257.5,-226.158\"/>\r\n",
       "<polygon fill=\"black\" stroke=\"black\" points=\"261,-226.003 257.5,-216.003 254,-226.003 261,-226.003\"/>\r\n",
       "<text text-anchor=\"middle\" x=\"283.5\" y=\"-237.8\" font-family=\"Times New Roman,serif\" font-size=\"14.00\">__dict__</text>\r\n",
       "</g>\r\n",
       "<!-- o2757406506632 -->\r\n",
       "<g id=\"node2\" class=\"node\"><title>o2757406506632</title>\r\n",
       "<polygon fill=\"#dbdbdb\" stroke=\"black\" points=\"113.5,-380 43.5,-380 43.5,-342 113.5,-342 113.5,-380\"/>\r\n",
       "<text text-anchor=\"middle\" x=\"78.5\" y=\"-364.8\" font-family=\"Times New Roman,serif\" font-size=\"14.00\">list</text>\r\n",
       "<text text-anchor=\"middle\" x=\"78.5\" y=\"-349.8\" font-family=\"Times New Roman,serif\" font-size=\"14.00\">146 items</text>\r\n",
       "</g>\r\n",
       "<!-- o2757406506632&#45;&gt;o2757474233592 -->\r\n",
       "<g id=\"edge1\" class=\"edge\"><title>o2757406506632&#45;&gt;o2757474233592</title>\r\n",
       "<path fill=\"none\" stroke=\"black\" d=\"M113.865,-345.578C139.496,-335.125 174.615,-320.802 203.711,-308.936\"/>\r\n",
       "<polygon fill=\"black\" stroke=\"black\" points=\"205.387,-312.033 213.325,-305.016 202.743,-305.551 205.387,-312.033\"/>\r\n",
       "</g>\r\n",
       "<!-- o2757474272240 -->\r\n",
       "<g id=\"node3\" class=\"node\"><title>o2757474272240</title>\r\n",
       "<polygon fill=\"#dbdbdb\" stroke=\"black\" points=\"201.5,-38 145.5,-38 145.5,-0 201.5,-0 201.5,-38\"/>\r\n",
       "<text text-anchor=\"middle\" x=\"173.5\" y=\"-22.8\" font-family=\"Times New Roman,serif\" font-size=\"14.00\">dict</text>\r\n",
       "<text text-anchor=\"middle\" x=\"173.5\" y=\"-7.8\" font-family=\"Times New Roman,serif\" font-size=\"14.00\">1 items</text>\r\n",
       "</g>\r\n",
       "<!-- o2757406506632&#45;&gt;o2757474272240 -->\r\n",
       "<g id=\"edge5\" class=\"edge\"><title>o2757406506632&#45;&gt;o2757474272240</title>\r\n",
       "<path fill=\"none\" stroke=\"black\" d=\"M48.6634,-341.845C31.5759,-328.957 13.5,-309.909 13.5,-287 13.5,-287 13.5,-287 13.5,-107 13.5,-51.7677 87.9971,-31.4035 135.325,-24.0392\"/>\r\n",
       "<polygon fill=\"black\" stroke=\"black\" points=\"135.859,-27.4985 145.264,-22.6195 134.869,-20.5689 135.859,-27.4985\"/>\r\n",
       "</g>\r\n",
       "<!-- o2757474233536 -->\r\n",
       "<g id=\"node6\" class=\"node\"><title>o2757474233536</title>\r\n",
       "<polygon fill=\"#b7b7b7\" stroke=\"black\" points=\"305.5,-127 41.5,-127 41.5,-89 305.5,-89 305.5,-127\"/>\r\n",
       "<text text-anchor=\"middle\" x=\"173.5\" y=\"-111.8\" font-family=\"Times New Roman,serif\" font-size=\"14.00\">test</text>\r\n",
       "<text text-anchor=\"middle\" x=\"173.5\" y=\"-96.8\" font-family=\"Times New Roman,serif\" font-size=\"14.00\">&lt;__main__.test object at 0x000002820645A</text>\r\n",
       "</g>\r\n",
       "<!-- o2757406506632&#45;&gt;o2757474233536 -->\r\n",
       "<g id=\"edge8\" class=\"edge\"><title>o2757406506632&#45;&gt;o2757474233536</title>\r\n",
       "<path fill=\"none\" stroke=\"black\" d=\"M78.952,-341.763C79.8599,-322.71 82.555,-292.148 90.5,-267 105.981,-218 136.237,-166.178 155.628,-135.754\"/>\r\n",
       "<polygon fill=\"black\" stroke=\"black\" points=\"158.781,-137.325 161.269,-127.026 152.901,-133.525 158.781,-137.325\"/>\r\n",
       "</g>\r\n",
       "<!-- o2757406506632&#45;&gt;o2757474272168 -->\r\n",
       "<g id=\"edge10\" class=\"edge\"><title>o2757406506632&#45;&gt;o2757474272168</title>\r\n",
       "<path fill=\"none\" stroke=\"black\" d=\"M81.8721,-341.809C86.4973,-321.37 96.6072,-288.277 116.5,-267 144.548,-237.001 188.431,-218.411 219.789,-208.193\"/>\r\n",
       "<polygon fill=\"black\" stroke=\"black\" points=\"220.99,-211.485 229.494,-205.166 218.906,-204.802 220.99,-211.485\"/>\r\n",
       "</g>\r\n",
       "<!-- o2757474272240&#45;&gt;o2757474233592 -->\r\n",
       "<g id=\"edge2\" class=\"edge\"><title>o2757474272240&#45;&gt;o2757474233592</title>\r\n",
       "<path fill=\"none\" stroke=\"black\" d=\"M201.652,-24.6928C235.206,-31.958 289.83,-49.4624 314.5,-89 352.144,-149.332 347.832,-186.724 313.5,-249 311.242,-253.096 308.298,-256.797 304.942,-260.125\"/>\r\n",
       "<polygon fill=\"black\" stroke=\"black\" points=\"302.406,-257.686 297.043,-266.824 306.934,-263.025 302.406,-257.686\"/>\r\n",
       "<text text-anchor=\"middle\" x=\"352.5\" y=\"-148.8\" font-family=\"Times New Roman,serif\" font-size=\"14.00\">next</text>\r\n",
       "</g>\r\n",
       "<!-- o2757428221848 -->\r\n",
       "<g id=\"node4\" class=\"node\"><title>o2757428221848</title>\r\n",
       "<polygon fill=\"#b7b7b7\" stroke=\"black\" points=\"63,-469 0,-469 0,-431 63,-431 63,-469\"/>\r\n",
       "<text text-anchor=\"middle\" x=\"31.5\" y=\"-453.8\" font-family=\"Times New Roman,serif\" font-size=\"14.00\">dict</text>\r\n",
       "<text text-anchor=\"middle\" x=\"31.5\" y=\"-438.8\" font-family=\"Times New Roman,serif\" font-size=\"14.00\">26 items</text>\r\n",
       "</g>\r\n",
       "<!-- o2757428221848&#45;&gt;o2757406506632 -->\r\n",
       "<g id=\"edge3\" class=\"edge\"><title>o2757428221848&#45;&gt;o2757406506632</title>\r\n",
       "<path fill=\"none\" stroke=\"black\" d=\"M34.3345,-430.735C36.4246,-420.638 39.9036,-408.125 45.5,-398 47.429,-394.51 49.763,-391.087 52.2881,-387.825\"/>\r\n",
       "<polygon fill=\"black\" stroke=\"black\" points=\"55.0408,-389.99 58.8367,-380.099 49.7009,-385.464 55.0408,-389.99\"/>\r\n",
       "<text text-anchor=\"middle\" x=\"67.5\" y=\"-401.8\" font-family=\"Times New Roman,serif\" font-size=\"14.00\">garbage</text>\r\n",
       "</g>\r\n",
       "<!-- o2757428221920 -->\r\n",
       "<g id=\"node5\" class=\"node\"><title>o2757428221920</title>\r\n",
       "<polygon fill=\"#b7b7b7\" stroke=\"black\" points=\"144,-469 81,-469 81,-431 144,-431 144,-469\"/>\r\n",
       "<text text-anchor=\"middle\" x=\"112.5\" y=\"-453.8\" font-family=\"Times New Roman,serif\" font-size=\"14.00\">dict</text>\r\n",
       "<text text-anchor=\"middle\" x=\"112.5\" y=\"-438.8\" font-family=\"Times New Roman,serif\" font-size=\"14.00\">26 items</text>\r\n",
       "</g>\r\n",
       "<!-- o2757428221920&#45;&gt;o2757406506632 -->\r\n",
       "<g id=\"edge4\" class=\"edge\"><title>o2757428221920&#45;&gt;o2757406506632</title>\r\n",
       "<path fill=\"none\" stroke=\"black\" d=\"M105.455,-430.974C100.76,-418.958 94.4996,-402.94 89.1942,-389.365\"/>\r\n",
       "<polygon fill=\"black\" stroke=\"black\" points=\"92.4357,-388.043 85.5358,-380.003 85.9159,-390.591 92.4357,-388.043\"/>\r\n",
       "<text text-anchor=\"middle\" x=\"120.5\" y=\"-401.8\" font-family=\"Times New Roman,serif\" font-size=\"14.00\">garbage</text>\r\n",
       "</g>\r\n",
       "<!-- o2757474233536&#45;&gt;o2757474272240 -->\r\n",
       "<g id=\"edge6\" class=\"edge\"><title>o2757474233536&#45;&gt;o2757474272240</title>\r\n",
       "<path fill=\"none\" stroke=\"black\" d=\"M173.5,-88.9735C173.5,-77.1918 173.5,-61.5607 173.5,-48.1581\"/>\r\n",
       "<polygon fill=\"black\" stroke=\"black\" points=\"177,-48.0033 173.5,-38.0034 170,-48.0034 177,-48.0033\"/>\r\n",
       "<text text-anchor=\"middle\" x=\"199.5\" y=\"-59.8\" font-family=\"Times New Roman,serif\" font-size=\"14.00\">__dict__</text>\r\n",
       "</g>\r\n",
       "<!-- o2757428233944 -->\r\n",
       "<g id=\"node7\" class=\"node\"><title>o2757428233944</title>\r\n",
       "<polygon fill=\"#1d9300\" stroke=\"black\" points=\"60.5,-558 2.5,-558 2.5,-520 60.5,-520 60.5,-558\"/>\r\n",
       "<text text-anchor=\"middle\" x=\"31.5\" y=\"-542.8\" font-family=\"Times New Roman,serif\" font-size=\"14.00\">module</text>\r\n",
       "<text text-anchor=\"middle\" x=\"31.5\" y=\"-527.8\" font-family=\"Times New Roman,serif\" font-size=\"14.00\">gc</text>\r\n",
       "</g>\r\n",
       "<!-- o2757428233944&#45;&gt;o2757428221848 -->\r\n",
       "<g id=\"edge7\" class=\"edge\"><title>o2757428233944&#45;&gt;o2757428221848</title>\r\n",
       "<path fill=\"none\" stroke=\"black\" d=\"M31.5,-519.974C31.5,-508.192 31.5,-492.561 31.5,-479.158\"/>\r\n",
       "<polygon fill=\"black\" stroke=\"black\" points=\"35.0001,-479.003 31.5,-469.003 28.0001,-479.003 35.0001,-479.003\"/>\r\n",
       "<text text-anchor=\"middle\" x=\"57.5\" y=\"-490.8\" font-family=\"Times New Roman,serif\" font-size=\"14.00\">__dict__</text>\r\n",
       "</g>\r\n",
       "<!-- o2757474272168&#45;&gt;o2757474233536 -->\r\n",
       "<g id=\"edge9\" class=\"edge\"><title>o2757474272168&#45;&gt;o2757474233536</title>\r\n",
       "<path fill=\"none\" stroke=\"black\" d=\"M240.095,-177.974C227.931,-165.375 211.518,-148.375 198.029,-134.406\"/>\r\n",
       "<polygon fill=\"black\" stroke=\"black\" points=\"200.346,-131.766 190.883,-127.003 195.311,-136.628 200.346,-131.766\"/>\r\n",
       "<text text-anchor=\"middle\" x=\"232.5\" y=\"-148.8\" font-family=\"Times New Roman,serif\" font-size=\"14.00\">next</text>\r\n",
       "</g>\r\n",
       "</g>\r\n",
       "</svg>\r\n"
      ],
      "text/plain": [
       "<graphviz.files.Source at 0x2820645ac50>"
      ]
     },
     "execution_count": 4,
     "metadata": {},
     "output_type": "execute_result"
    }
   ],
   "source": [
    "#这一句即主要是根据上面得到的编码进行看图，前提条件就是设置了gc.set_debug(gc.DEBUG_SAVEALL)，从而执行gc.collect()之后不会被真的清除\n",
    "import objgraph\n",
    "objgraph.show_backrefs(objgraph.at(0x000002820645ACF8), max_depth=5, filename = './obj.png') \n",
    "#对应编码是从上面看出来的\n",
    "#max_depth表示要展示的深度，5一般够，不够再加大\n",
    "#此时从红色部分看，可以看出红色周边的引用情况，从而确定谁引用了它，红色对象即为问题对象，从它入手"
   ]
  },
  {
   "cell_type": "code",
   "execution_count": null,
   "metadata": {},
   "outputs": [],
   "source": [
    "#另外的，objgraph还有一些常用的函数\n",
    "#show_most_common_types(limits = 10)   #打印实例最多的前N（limits）个对象\n",
    "#比如：objgraph.show_most_common_types(20) 即查看实例最多的20个对象\n",
    "\n",
    "#有一个show_growth()的函数，其作用是统计自上次调用以来增加得最多的对象，这个函数非常有利于发现潜在的内存泄露。\n",
    "#函数内部调用了gc.collect()，因此即使有循环引用也不会对判断造成影响。\n",
    "#但是它主要用于预判，对于循环引用的对象没法用它来找出\n",
    "\n",
    "#故而debug的时候也可以使用它来进行debug\n",
    "#即在最开始或者还没有问题的地方执行一下objgraph.show_growth()\n",
    "#在有问题了之后再执行一下objgraph.show_growth()，中间不需要去刻意执行gc.collect()\n",
    "#比如这里可以直接这样：\n",
    "# objgraph.show_growth()\n",
    "# block()\n",
    "# objgraph.show_growth()\n",
    "\n",
    "#当两个循环引用对象，a引用b，b引用a时，要删除，则需要将两个都删除，比如del a; del b；然后再执行gc.collect()"
   ]
  }
 ],
 "metadata": {
  "kernelspec": {
   "display_name": "Python 3",
   "language": "python",
   "name": "python3"
  },
  "language_info": {
   "codemirror_mode": {
    "name": "ipython",
    "version": 3
   },
   "file_extension": ".py",
   "mimetype": "text/x-python",
   "name": "python",
   "nbconvert_exporter": "python",
   "pygments_lexer": "ipython3",
   "version": "3.6.4"
  }
 },
 "nbformat": 4,
 "nbformat_minor": 2
}
