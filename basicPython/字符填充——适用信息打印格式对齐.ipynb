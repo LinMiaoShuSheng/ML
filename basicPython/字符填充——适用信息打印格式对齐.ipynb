{
 "cells": [
  {
   "cell_type": "code",
   "execution_count": 1,
   "metadata": {},
   "outputs": [],
   "source": [
    "#使用场景：比如打印日志时，可以统一格式\n",
    "#比如print(\"{}:\\t{}\".format(k.ljust(15), v))\n",
    "#即不同的key和value都会有一个左对齐效果"
   ]
  },
  {
   "cell_type": "code",
   "execution_count": 2,
   "metadata": {},
   "outputs": [],
   "source": [
    "ss = \"12345\""
   ]
  },
  {
   "cell_type": "code",
   "execution_count": 3,
   "metadata": {},
   "outputs": [
    {
     "name": "stdout",
     "output_type": "stream",
     "text": [
      "1234500000\n",
      "0000012345\n"
     ]
    }
   ],
   "source": [
    "#ljust：左对齐，rjust：右对齐。不够补0\n",
    "print(ss.ljust(10,\"0\"))\n",
    "print(ss.rjust(10,\"0\"))"
   ]
  },
  {
   "cell_type": "code",
   "execution_count": 4,
   "metadata": {},
   "outputs": [
    {
     "name": "stdout",
     "output_type": "stream",
     "text": [
      "12345     \n",
      "10\n",
      "a    :\t1\n",
      "aa   :\t11\n",
      "aaa  :\t111\n",
      "aaaa :\t1111\n"
     ]
    }
   ],
   "source": [
    "#空格填充，左对齐\n",
    "print(ss.ljust(10))\n",
    "print(len(ss.ljust(10)))\n",
    "#示例：这个比较实用\n",
    "dict1 = {\"a\":1,\"aa\":11,\"aaa\":111,\"aaaa\":1111}\n",
    "for key,value in dict1.items():\n",
    "    print(\"{}:\\t{}\".format(key.ljust(5),value))"
   ]
  },
  {
   "cell_type": "code",
   "execution_count": 5,
   "metadata": {},
   "outputs": [
    {
     "name": "stdout",
     "output_type": "stream",
     "text": [
      "     12345\n",
      "10\n"
     ]
    }
   ],
   "source": [
    "#空格填充，右对齐\n",
    "print(ss.rjust(10))\n",
    "print(len(ss.rjust(10)))"
   ]
  },
  {
   "cell_type": "code",
   "execution_count": null,
   "metadata": {},
   "outputs": [],
   "source": []
  }
 ],
 "metadata": {
  "kernelspec": {
   "display_name": "Python 3",
   "language": "python",
   "name": "python3"
  },
  "language_info": {
   "codemirror_mode": {
    "name": "ipython",
    "version": 3
   },
   "file_extension": ".py",
   "mimetype": "text/x-python",
   "name": "python",
   "nbconvert_exporter": "python",
   "pygments_lexer": "ipython3",
   "version": "3.6.4"
  }
 },
 "nbformat": 4,
 "nbformat_minor": 2
}
