{
 "cells": [
  {
   "cell_type": "code",
   "execution_count": 1,
   "metadata": {},
   "outputs": [],
   "source": [
    "import time"
   ]
  },
  {
   "cell_type": "code",
   "execution_count": 2,
   "metadata": {},
   "outputs": [],
   "source": [
    "list1 = list(\"aaaabbbccd\"*1000*1000) #千万级别单词\n",
    "#print(list1)"
   ]
  },
  {
   "cell_type": "code",
   "execution_count": 3,
   "metadata": {},
   "outputs": [
    {
     "name": "stdout",
     "output_type": "stream",
     "text": [
      "['a', 'b', 'c', 'd']\n",
      "spent time:0.144912\n"
     ]
    }
   ],
   "source": [
    "#看起来这种方式既简单，又省时。优选\n",
    "start_1 = time.time()\n",
    "res_1 = list(set(list1))\n",
    "res_1.sort(key=list1.index)  #回归到原始顺序\n",
    "spend_1 = time.time() -start_1\n",
    "print(res_1)\n",
    "print(\"spent time:%0.6f\"%spend_1)"
   ]
  },
  {
   "cell_type": "code",
   "execution_count": 4,
   "metadata": {},
   "outputs": [
    {
     "name": "stdout",
     "output_type": "stream",
     "text": [
      "['a', 'b', 'c', 'd']\n",
      "spent time:0.352784\n"
     ]
    }
   ],
   "source": [
    "start_2 = time.time()\n",
    "temp = {}\n",
    "res_2 = list(temp.fromkeys(list1).keys())\n",
    "spend_2 = time.time() - start_2\n",
    "print(res_2)\n",
    "print(\"spent time:%0.6f\"%spend_2)"
   ]
  },
  {
   "cell_type": "code",
   "execution_count": 5,
   "metadata": {},
   "outputs": [
    {
     "name": "stdout",
     "output_type": "stream",
     "text": [
      "['a', 'b', 'c', 'd']\n",
      "spent time:1.586024\n"
     ]
    }
   ],
   "source": [
    "start_3 = time.time()\n",
    "res_3 = []\n",
    "for each in list1:\n",
    "    if each not in res_3:\n",
    "        res_3.append(each) \n",
    "spend_3 = time.time() - start_3\n",
    "print(res_3)\n",
    "print(\"spent time:%0.6f\"%spend_3)"
   ]
  },
  {
   "cell_type": "code",
   "execution_count": null,
   "metadata": {},
   "outputs": [],
   "source": []
  }
 ],
 "metadata": {
  "kernelspec": {
   "display_name": "Python 3",
   "language": "python",
   "name": "python3"
  },
  "language_info": {
   "codemirror_mode": {
    "name": "ipython",
    "version": 3
   },
   "file_extension": ".py",
   "mimetype": "text/x-python",
   "name": "python",
   "nbconvert_exporter": "python",
   "pygments_lexer": "ipython3",
   "version": "3.6.4"
  }
 },
 "nbformat": 4,
 "nbformat_minor": 2
}
