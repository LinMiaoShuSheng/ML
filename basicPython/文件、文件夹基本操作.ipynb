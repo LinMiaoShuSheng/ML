{
 "cells": [
  {
   "cell_type": "code",
   "execution_count": null,
   "metadata": {},
   "outputs": [],
   "source": [
    "#比较常用两个模块：os和shutil"
   ]
  },
  {
   "cell_type": "code",
   "execution_count": null,
   "metadata": {},
   "outputs": [],
   "source": [
    "import os\n",
    "import shutil"
   ]
  },
  {
   "cell_type": "code",
   "execution_count": null,
   "metadata": {},
   "outputs": [],
   "source": [
    "#删除文件\n",
    "os.remove(filePath)\n",
    "\n",
    "#用os来 递归删除目录,但是必须要求该目录下都是空文件夹，不能有非空文件\n",
    "os.removedirs(directory)\n",
    "\n",
    "#用shutil来 递归删除文件夹，无视是否存在子文件，故而这个用来删除目录较多\n",
    "shutil.rmtree(filePath)"
   ]
  },
  {
   "cell_type": "code",
   "execution_count": null,
   "metadata": {},
   "outputs": [],
   "source": [
    "#创建目录\n",
    "if not os.path.isdir(directory):\n",
    "    os.mkdir(directory)\n",
    "    \n",
    "#创建文件 \n",
    "file = open(\"test.txt\",\"w\",encoding=\"utf-8\") #即打开文件，若没有，直接创建\n",
    "\n",
    "#判断文件是否存在\n",
    "if not os.path.isfile(emb_path):\n",
    "    print(\"not exists\")\n",
    "    \n",
    "#获取工程所在的当前位置\n",
    "import os\n",
    "root_path=os.getcwd()+os.sep"
   ]
  },
  {
   "cell_type": "code",
   "execution_count": null,
   "metadata": {},
   "outputs": [],
   "source": [
    "#os.walk\n",
    "#root 所指的是当前正在遍历的这个文件夹的本身的地址\n",
    "#dirs 是一个 list ，内容是该文件夹中所有的目录的名字(不包括子目录)\n",
    "#files 同样是 list , 内容是该文件夹中所有的文件(不包括子目录)\n",
    "\n",
    "for root, dirs, files in os.walk(\".\", topdown=False):\n",
    "    for name in files:\n",
    "        print(os.path.join(root, name))\n",
    "    for name in dirs:\n",
    "        print(os.path.join(root, name))\n",
    "        \n",
    "#寻找当前文件夹下所有以db结尾的文件\n",
    "db_paths = []\n",
    "input_dir = \".\"\n",
    "for dirpath, dirs, filenames in os.walk(input_dir):\n",
    "    for filename in (x for x in sorted(filenames) if x.endswith('.db')):\n",
    "        db_path = os.path.join(dirpath, filename)\n",
    "        db_paths.append(db_path)"
   ]
  },
  {
   "cell_type": "code",
   "execution_count": null,
   "metadata": {},
   "outputs": [],
   "source": [
    "#读取zip文件，读取内容\n",
    "def read_data(filename):\n",
    "    \"\"\"Extract the first file enclosed in a zip file as a list of words\"\"\"\n",
    "    with zipfile.ZipFile(filename) as f:\n",
    "        data = tf.compat.as_str(f.read(f.namelist()[0])).split() #读的是zip解压后列表里的第0和文件，作为一个字符串进行按空格分隔\n",
    "    return data\n",
    "\n",
    "words = read_data(filename)"
   ]
  }
 ],
 "metadata": {
  "kernelspec": {
   "display_name": "Python 3",
   "language": "python",
   "name": "python3"
  },
  "language_info": {
   "codemirror_mode": {
    "name": "ipython",
    "version": 3
   },
   "file_extension": ".py",
   "mimetype": "text/x-python",
   "name": "python",
   "nbconvert_exporter": "python",
   "pygments_lexer": "ipython3",
   "version": "3.6.4"
  }
 },
 "nbformat": 4,
 "nbformat_minor": 2
}
