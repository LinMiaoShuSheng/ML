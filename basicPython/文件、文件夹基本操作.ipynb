{
 "cells": [
  {
   "cell_type": "code",
   "execution_count": 1,
   "metadata": {},
   "outputs": [],
   "source": [
    "#比较常用两个模块：os和shutil"
   ]
  },
  {
   "cell_type": "code",
   "execution_count": 2,
   "metadata": {},
   "outputs": [],
   "source": [
    "import os\n",
    "import shutil"
   ]
  },
  {
   "cell_type": "code",
   "execution_count": null,
   "metadata": {},
   "outputs": [],
   "source": [
    "#删除文件\n",
    "os.remove(filePath)\n",
    "\n",
    "#用os来 递归删除目录\n",
    "os.removedirs(directory)\n",
    "\n",
    "#用shutil来 递归删除文件夹\n",
    "shutil.rmtree(filePath)"
   ]
  },
  {
   "cell_type": "code",
   "execution_count": null,
   "metadata": {},
   "outputs": [],
   "source": [
    "#创建目录\n",
    "if not os.path.isdir(directory):\n",
    "    os.mkdir(directory)\n",
    "    \n",
    "#创建文件 \n",
    "file = open(\"test.txt\",\"w\",encoding=\"utf-8\") #即打开文件，若没有，直接创建\n",
    "\n",
    "#判断文件是否存在\n",
    "if not os.path.isfile(emb_path):\n",
    "    print(\"not exists\")\n",
    "    \n",
    "#获取工程所在的当前位置\n",
    "import os\n",
    "root_path=os.getcwd()+os.sep"
   ]
  }
 ],
 "metadata": {
  "kernelspec": {
   "display_name": "Python 3",
   "language": "python",
   "name": "python3"
  },
  "language_info": {
   "codemirror_mode": {
    "name": "ipython",
    "version": 3
   },
   "file_extension": ".py",
   "mimetype": "text/x-python",
   "name": "python",
   "nbconvert_exporter": "python",
   "pygments_lexer": "ipython3",
   "version": "3.6.4"
  }
 },
 "nbformat": 4,
 "nbformat_minor": 2
}
