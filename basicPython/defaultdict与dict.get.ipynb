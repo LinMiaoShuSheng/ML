{
 "cells": [
  {
   "cell_type": "code",
   "execution_count": 1,
   "metadata": {},
   "outputs": [],
   "source": [
    "#defaultdict本质上也是一个字典\n",
    "#但是它与字典的区别即查找key时不会报错：\n",
    "#如果寻找字典中不存在的key，普通字典会报错，而defaultdict会根据value类型进行初始化相应内容"
   ]
  },
  {
   "cell_type": "code",
   "execution_count": 2,
   "metadata": {},
   "outputs": [],
   "source": [
    "from collections import defaultdict"
   ]
  },
  {
   "cell_type": "code",
   "execution_count": 3,
   "metadata": {},
   "outputs": [],
   "source": [
    "dict_1 = {}\n",
    "dict_2 = defaultdict(int)\n",
    "dict_3 = defaultdict(set)\n",
    "dict_4 = defaultdict(str)\n",
    "dict_5 = defaultdict(list)"
   ]
  },
  {
   "cell_type": "code",
   "execution_count": 4,
   "metadata": {},
   "outputs": [
    {
     "name": "stdout",
     "output_type": "stream",
     "text": [
      "Error message: <class 'KeyError'>\n",
      "res: 0\n",
      "res: set()\n",
      "res: \n",
      "res: []\n"
     ]
    }
   ],
   "source": [
    "def printInfo(mydict):\n",
    "    try:\n",
    "        res = mydict[\"a\"]\n",
    "        print(\"res:\",res)\n",
    "    except KeyError:\n",
    "        print(\"Error message:\",KeyError)\n",
    "printInfo(dict_1)\n",
    "printInfo(dict_2)\n",
    "printInfo(dict_3)\n",
    "printInfo(dict_4)\n",
    "printInfo(dict_5)"
   ]
  },
  {
   "cell_type": "code",
   "execution_count": 5,
   "metadata": {},
   "outputs": [
    {
     "name": "stdout",
     "output_type": "stream",
     "text": [
      "3\n",
      "None\n",
      "0\n"
     ]
    }
   ],
   "source": [
    "#dict.get本身是一个取值的操作\n",
    "#若字典中有这个元素，则返回对应value，若字典中没有这个元素，则返回None\n",
    "mydict = {\"a\":1,\"b\":2,\"c\":3}\n",
    "print(mydict.get(\"c\"))\n",
    "print(mydict.get(\"d\"))\n",
    "\n",
    "#但有时候为了程序的健壮性，比如所有的value都是int类型，此时要是获取一个不存在的key，也希望得到的是int型数值\n",
    "#即在get对应的key值之后，加上一个参数，即表明如果get不到，则默认返回该value\n",
    "res = mydict.get(\"f\",0)\n",
    "print(res)"
   ]
  },
  {
   "cell_type": "code",
   "execution_count": null,
   "metadata": {},
   "outputs": [],
   "source": []
  }
 ],
 "metadata": {
  "kernelspec": {
   "display_name": "Python 3",
   "language": "python",
   "name": "python3"
  },
  "language_info": {
   "codemirror_mode": {
    "name": "ipython",
    "version": 3
   },
   "file_extension": ".py",
   "mimetype": "text/x-python",
   "name": "python",
   "nbconvert_exporter": "python",
   "pygments_lexer": "ipython3",
   "version": "3.6.4"
  }
 },
 "nbformat": 4,
 "nbformat_minor": 2
}
