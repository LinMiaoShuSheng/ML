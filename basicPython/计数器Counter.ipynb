{
 "cells": [
  {
   "cell_type": "code",
   "execution_count": 1,
   "metadata": {},
   "outputs": [],
   "source": [
    "from collections import Counter"
   ]
  },
  {
   "cell_type": "code",
   "execution_count": 2,
   "metadata": {},
   "outputs": [],
   "source": [
    "list1 = list(\"abcdefg_abcdef_abcde_abcd_abc_ab_a\")"
   ]
  },
  {
   "cell_type": "code",
   "execution_count": 3,
   "metadata": {},
   "outputs": [
    {
     "name": "stdout",
     "output_type": "stream",
     "text": [
      "Counter({'a': 7, 'b': 6, '_': 6, 'c': 5, 'd': 4, 'e': 3, 'f': 2, 'g': 1})\n",
      "a   7\n",
      "b   6\n",
      "c   5\n",
      "d   4\n",
      "e   3\n",
      "f   2\n",
      "g   1\n",
      "_   6\n",
      "[('a', 7), ('b', 6), ('_', 6), ('c', 5), ('d', 4)]\n",
      "{'a': 7, 'b': 6, '_': 6, 'c': 5, 'd': 4}\n",
      "Counter({'a': 7, 'b': 6, '_': 6, 'c': 5, 'd': 4, 'h': 4, 'i': 4, 'j': 4, 'k': 4, 'e': 3, 'f': 2, 'g': 1})\n"
     ]
    }
   ],
   "source": [
    "#统计所有字符对应次数，并默认从大到小排列\n",
    "res_1 = Counter(list1)\n",
    "print(res_1)\n",
    "for k,v in res_1.items():\n",
    "    print(k,\" \",v)\n",
    "\n",
    "#获取词频最高的五个\n",
    "res_2 = res_1.most_common(5)\n",
    "print(res_2)\n",
    "print(dict(res_2))\n",
    "\n",
    "#在已有的计数基础上进行更新\n",
    "res_1.update(\"hijkhijkhijkhijk\")\n",
    "#res_1.update(Counter(\"hijkhijkhijkhijk\"))\n",
    "print(res_1)"
   ]
  },
  {
   "cell_type": "code",
   "execution_count": 6,
   "metadata": {},
   "outputs": [
    {
     "name": "stdout",
     "output_type": "stream",
     "text": [
      "[('\"', 31), ('{', 13), ('[', 9), ('},', 8), ('\"metadata\":', 7), ('=', 7), ('\"execution_count\":', 6), ('{},', 6), (']', 6), ('if', 6)]\n"
     ]
    }
   ],
   "source": [
    "#统计文件中各个字的词频\n",
    "word_count = Counter()\n",
    "with open(\"split.ipynb\",\"r\",encoding=\"utf-8\") as file:\n",
    "    contents = file.readlines() #尽量不要在打开文件的操作中添加太多其他的操作，因为IO会让CPU操作高负载\n",
    "\n",
    "for line in contents:\n",
    "    word_count.update(line.split()) #更新每次的词频统计\n",
    "    \n",
    "print(word_count.most_common(10)) #获取词频最大的十个"
   ]
  },
  {
   "cell_type": "code",
   "execution_count": null,
   "metadata": {},
   "outputs": [],
   "source": []
  }
 ],
 "metadata": {
  "kernelspec": {
   "display_name": "Python 3",
   "language": "python",
   "name": "python3"
  },
  "language_info": {
   "codemirror_mode": {
    "name": "ipython",
    "version": 3
   },
   "file_extension": ".py",
   "mimetype": "text/x-python",
   "name": "python",
   "nbconvert_exporter": "python",
   "pygments_lexer": "ipython3",
   "version": "3.6.4"
  }
 },
 "nbformat": 4,
 "nbformat_minor": 2
}
