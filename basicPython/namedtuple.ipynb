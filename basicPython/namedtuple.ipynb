{
 "cells": [
  {
   "cell_type": "code",
   "execution_count": 1,
   "metadata": {},
   "outputs": [],
   "source": [
    "#名字元组：collections.namedtuple\n",
    "#有点类似于C中的结构体"
   ]
  },
  {
   "cell_type": "code",
   "execution_count": 2,
   "metadata": {},
   "outputs": [],
   "source": [
    "from collections import *"
   ]
  },
  {
   "cell_type": "code",
   "execution_count": 3,
   "metadata": {},
   "outputs": [
    {
     "name": "stdout",
     "output_type": "stream",
     "text": [
      "10 20\n",
      "10 20\n",
      "100 200\n",
      "88 20\n"
     ]
    }
   ],
   "source": [
    "corrdinate = namedtuple(\"Corrdinate\",['x','y'])\n",
    "co = corrdinate(10,20)\n",
    "print(co.x,co.y)\n",
    "print(co[0],co[1])\n",
    "co2 = corrdinate._make([100,200])\n",
    "print(co2.x,co2[1])\n",
    "co = co._replace(x=88)\n",
    "print(co.x,co.y)"
   ]
  },
  {
   "cell_type": "code",
   "execution_count": 4,
   "metadata": {
    "scrolled": true
   },
   "outputs": [
    {
     "name": "stdout",
     "output_type": "stream",
     "text": [
      "User(name='sun', sex='male', age=20)\n",
      "sun\n"
     ]
    },
    {
     "data": {
      "text/plain": [
       "OrderedDict([('name', 'sun'), ('sex', 'male'), ('age', 27)])"
      ]
     },
     "execution_count": 4,
     "metadata": {},
     "output_type": "execute_result"
    }
   ],
   "source": [
    "User = namedtuple('User',['name','sex','age'])\n",
    "user = User(name='shusheng',sex='male',age=18)\n",
    "#或者\n",
    "user = User._make([\"sun\",\"male\",20])\n",
    "print(user)\n",
    "print(user.name)\n",
    "user = user._replace(age=27)\n",
    "dict1 = user._asdict() #转换成字典\n",
    "dict1"
   ]
  },
  {
   "cell_type": "code",
   "execution_count": 5,
   "metadata": {},
   "outputs": [
    {
     "name": "stdout",
     "output_type": "stream",
     "text": [
      "WebSite(name='sohu', url='www.sohu.com', title='搜狐')\n",
      "WebSite(name='yahoo', url='www.yahoo.com', title='雅虎')\n",
      "WebSite(name='sina', url='www.sina.com', title='新浪')\n"
     ]
    }
   ],
   "source": [
    "websites = [\n",
    "    (\"sohu\",\"www.sohu.com\",u\"搜狐\"),\n",
    "    (\"yahoo\",\"www.yahoo.com\",u\"雅虎\"),\n",
    "    (\"sina\",\"www.sina.com\",u\"新浪\")\n",
    "]\n",
    "web = namedtuple(\"WebSite\",['name','url','title'])\n",
    "for each in websites:\n",
    "    each = web._make(each)\n",
    "    print(each)"
   ]
  },
  {
   "cell_type": "code",
   "execution_count": null,
   "metadata": {},
   "outputs": [],
   "source": []
  }
 ],
 "metadata": {
  "kernelspec": {
   "display_name": "Python 3",
   "language": "python",
   "name": "python3"
  },
  "language_info": {
   "codemirror_mode": {
    "name": "ipython",
    "version": 3
   },
   "file_extension": ".py",
   "mimetype": "text/x-python",
   "name": "python",
   "nbconvert_exporter": "python",
   "pygments_lexer": "ipython3",
   "version": "3.6.4"
  }
 },
 "nbformat": 4,
 "nbformat_minor": 2
}
