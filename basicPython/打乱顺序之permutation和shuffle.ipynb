{
 "cells": [
  {
   "cell_type": "code",
   "execution_count": 1,
   "metadata": {},
   "outputs": [],
   "source": [
    "#   permutation的作用是随机打乱已有数据顺序\n",
    "#   它和shuffle的区别是：shuffle会改变原数据，而permutation不会改变原数据\n",
    "#   对于一维数组是完全打乱\n",
    "#   但是对于多维数组，比如二维数组，shuffle和permutation都是整体不变，只打乱第一个维度\n",
    "#   故而对于多个样本数据，每个样本数据有多维时，可以用这两个来进行打乱"
   ]
  },
  {
   "cell_type": "code",
   "execution_count": 2,
   "metadata": {},
   "outputs": [],
   "source": [
    "import numpy as np"
   ]
  },
  {
   "cell_type": "code",
   "execution_count": 3,
   "metadata": {},
   "outputs": [
    {
     "name": "stdout",
     "output_type": "stream",
     "text": [
      "[[0 1 2]\n",
      " [3 4 5]\n",
      " [6 7 8]]\n",
      "--------------------\n",
      "[[6 7 8]\n",
      " [3 4 5]\n",
      " [0 1 2]]\n"
     ]
    }
   ],
   "source": [
    "data = np.arange(9).reshape(3,3)\n",
    "data1 = np.random.permutation(data)\n",
    "print(data)\n",
    "print(\"-\"*20)\n",
    "print(data1)"
   ]
  },
  {
   "cell_type": "code",
   "execution_count": 4,
   "metadata": {},
   "outputs": [
    {
     "name": "stdout",
     "output_type": "stream",
     "text": [
      "None\n",
      "[[ 0  1  2  3]\n",
      " [ 4  5  6  7]\n",
      " [ 8  9 10 11]]\n"
     ]
    }
   ],
   "source": [
    "data = np.arange(12).reshape(3,4)\n",
    "res = np.random.shuffle(data) #shuffle直接改变原数据，所以没有返回值\n",
    "print(res)\n",
    "print(data)"
   ]
  },
  {
   "cell_type": "code",
   "execution_count": 5,
   "metadata": {},
   "outputs": [
    {
     "data": {
      "text/plain": [
       "array([[8, 4, 0],\n",
       "       [1, 2, 3],\n",
       "       [5, 6, 7]])"
      ]
     },
     "execution_count": 5,
     "metadata": {},
     "output_type": "execute_result"
    }
   ],
   "source": [
    "#完全打乱\n",
    "data = np.arange(9).reshape(3,3)\n",
    "data = data.reshape(-1)\n",
    "res = np.random.permutation(data).reshape(3,3)\n",
    "res"
   ]
  },
  {
   "cell_type": "code",
   "execution_count": 6,
   "metadata": {},
   "outputs": [
    {
     "name": "stdout",
     "output_type": "stream",
     "text": [
      "[[ 0  1  2  3  4  5  6  7  8  9]\n",
      " [10 11 12 13 14 15 16 17 18 19]\n",
      " [20 21 22 23 24 25 26 27 28 29]\n",
      " [30 31 32 33 34 35 36 37 38 39]\n",
      " [40 41 42 43 44 45 46 47 48 49]\n",
      " [50 51 52 53 54 55 56 57 58 59]\n",
      " [60 61 62 63 64 65 66 67 68 69]\n",
      " [70 71 72 73 74 75 76 77 78 79]\n",
      " [80 81 82 83 84 85 86 87 88 89]\n",
      " [90 91 92 93 94 95 96 97 98 99]] \n",
      " ========================================\n",
      "[[90 91 92 93 94 95 96 97 98 99]\n",
      " [30 31 32 33 34 35 36 37 38 39]\n",
      " [50 51 52 53 54 55 56 57 58 59]\n",
      " [60 61 62 63 64 65 66 67 68 69]\n",
      " [40 41 42 43 44 45 46 47 48 49]\n",
      " [ 0  1  2  3  4  5  6  7  8  9]\n",
      " [70 71 72 73 74 75 76 77 78 79]\n",
      " [80 81 82 83 84 85 86 87 88 89]\n",
      " [20 21 22 23 24 25 26 27 28 29]\n",
      " [10 11 12 13 14 15 16 17 18 19]]\n"
     ]
    }
   ],
   "source": [
    "#实际应用中，比较好用的方式是获得打乱的序号再赋值\n",
    "#属于是整体样本打乱顺序，但是样本中原句子或原字信息顺序不变，这个对列表不行，列表就直接permutation或者shuffle即可\n",
    "ndarray = np.arange(0,100).reshape(10,10)\n",
    "print(ndarray,\"\\n\",\"=\"*40)\n",
    "shuffle_idx = np.random.permutation(np.arange(len(ndarray)))\n",
    "ndarray_shuffled = ndarray[shuffle_idx]\n",
    "print(ndarray_shuffled)"
   ]
  },
  {
   "cell_type": "code",
   "execution_count": 7,
   "metadata": {},
   "outputs": [
    {
     "name": "stdout",
     "output_type": "stream",
     "text": [
      "before:\n",
      "['a', 'b', 'c', 'd', 'e', 'f', 'g', 'h', 'i', 'j', 'k', 'l', 'm', 'n', 'o', 'p', 'q', 'r', 's', 't', 'u', 'v', 'w', 'x', 'y', 'z']\n",
      "['A', 'B', 'C', 'D', 'E', 'F', 'G', 'H', 'I', 'J', 'K', 'L', 'M', 'N', 'O', 'P', 'Q', 'R', 'S', 'T', 'U', 'V', 'W', 'X', 'Y', 'Z']\n",
      "after:\n",
      "['t', 'f', 'o', 'h', 'b', 'c', 'l', 'x', 'n', 'm', 'u', 'd', 'y', 'g', 's', 'k', 'w', 'z', 'i', 'v', 'q', 'r', 'a', 'p', 'e', 'j']\n",
      "['T', 'F', 'O', 'H', 'B', 'C', 'L', 'X', 'N', 'M', 'U', 'D', 'Y', 'G', 'S', 'K', 'W', 'Z', 'I', 'V', 'Q', 'R', 'A', 'P', 'E', 'J']\n"
     ]
    }
   ],
   "source": [
    "#对两个或者多个list想要按照一个方式打乱顺序的话，可以固定随机种子来实现\n",
    "list1 = [chr(each) for each in range(97,97+26)]\n",
    "list2 = [chr(each) for each in range(65,65+26)]\n",
    "print(\"before:\");print(list1);print(list2)\n",
    "randomSeed = np.random.randint(0,len(list1))\n",
    "np.random.seed(randomSeed)\n",
    "np.random.shuffle(list1)\n",
    "np.random.seed(randomSeed)\n",
    "np.random.shuffle(list2)\n",
    "print(\"after:\");print(list1);print(list2)"
   ]
  },
  {
   "cell_type": "code",
   "execution_count": null,
   "metadata": {},
   "outputs": [],
   "source": []
  }
 ],
 "metadata": {
  "kernelspec": {
   "display_name": "Python 3",
   "language": "python",
   "name": "python3"
  },
  "language_info": {
   "codemirror_mode": {
    "name": "ipython",
    "version": 3
   },
   "file_extension": ".py",
   "mimetype": "text/x-python",
   "name": "python",
   "nbconvert_exporter": "python",
   "pygments_lexer": "ipython3",
   "version": "3.6.4"
  }
 },
 "nbformat": 4,
 "nbformat_minor": 2
}
