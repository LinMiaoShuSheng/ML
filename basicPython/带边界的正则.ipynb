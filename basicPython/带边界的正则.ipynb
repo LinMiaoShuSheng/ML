{
 "cells": [
  {
   "cell_type": "code",
   "execution_count": 1,
   "metadata": {},
   "outputs": [],
   "source": [
    "import re"
   ]
  },
  {
   "cell_type": "code",
   "execution_count": 2,
   "metadata": {},
   "outputs": [
    {
     "name": "stdout",
     "output_type": "stream",
     "text": [
      "<_sre.SRE_Match object; span=(3, 6), match='def'>\n",
      "<_sre.SRE_Match object; span=(7, 10), match='def'>\n",
      "None\n"
     ]
    }
   ],
   "source": [
    "#对于判断是否存在时，这个方式能比较高效\n",
    "#search代表在整个字符串中匹配，但只匹配一次，找到即止\n",
    "#这里的(?<=abc)表示一个组，整体意思表示一个界定符，即表示寻找左侧是abc的def\n",
    "pattern = re.compile(\"(?<=abc)def\")\n",
    "str_1 = \"abcdef\"  #能匹配到\n",
    "str_2 = \"def abcdef\"  #能匹配到，且只会匹配到后面那个\n",
    "str_3 = \"abdef abcddef abc def\"  #匹配不到\n",
    "res_1 = pattern.search(str_1)\n",
    "res_2 = pattern.search(str_2)\n",
    "res_3 = pattern.search(str_3)\n",
    "print(res_1)\n",
    "print(res_2)\n",
    "print(res_3)"
   ]
  },
  {
   "cell_type": "code",
   "execution_count": 3,
   "metadata": {},
   "outputs": [
    {
     "name": "stdout",
     "output_type": "stream",
     "text": [
      "<_sre.SRE_Match object; span=(0, 6), match='abcdef'>\n",
      "<_sre.SRE_Match object; span=(4, 10), match='abcdef'>\n",
      "None\n"
     ]
    }
   ],
   "source": [
    "#当然，上述也可以用若干步来实现,即先寻找到整体是否存在\n",
    "pattern_2 = re.compile(\"abcdef\")\n",
    "res_4 = pattern_2.search(str_1)\n",
    "res_5 = pattern_2.search(str_2)\n",
    "res_6 = pattern_2.search(str_3)\n",
    "print(res_4)\n",
    "print(res_5)\n",
    "print(res_6)"
   ]
  },
  {
   "cell_type": "code",
   "execution_count": 4,
   "metadata": {},
   "outputs": [
    {
     "name": "stdout",
     "output_type": "stream",
     "text": [
      "<_sre.SRE_Match object; span=(4, 5), match='d'>\n",
      "None\n"
     ]
    }
   ],
   "source": [
    "pattern_3 = re.compile(\"(?<=-)\\w\") #\\w即代表单词字符[A-Za-z0-9_]\n",
    "str_7 = \"abc-def\"\n",
    "str_8 = \"abc - def\" #不存在左侧是“-”的单词字符\n",
    "print(pattern_3.search(str_7))\n",
    "print(pattern_3.search(str_8))"
   ]
  },
  {
   "cell_type": "code",
   "execution_count": null,
   "metadata": {},
   "outputs": [],
   "source": []
  }
 ],
 "metadata": {
  "kernelspec": {
   "display_name": "Python 3",
   "language": "python",
   "name": "python3"
  },
  "language_info": {
   "codemirror_mode": {
    "name": "ipython",
    "version": 3
   },
   "file_extension": ".py",
   "mimetype": "text/x-python",
   "name": "python",
   "nbconvert_exporter": "python",
   "pygments_lexer": "ipython3",
   "version": "3.6.4"
  }
 },
 "nbformat": 4,
 "nbformat_minor": 2
}
