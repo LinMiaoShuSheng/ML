{
 "cells": [
  {
   "cell_type": "code",
   "execution_count": 1,
   "metadata": {},
   "outputs": [],
   "source": [
    "import re\n",
    "#正常而言，正则主要为了寻找到目标串，故而一般直接去寻找匹配的\n",
    "#这个感觉稍微高效一些，即在寻找匹配串时能限制左边和右边必须是什么，能够更加精准一些"
   ]
  },
  {
   "cell_type": "code",
   "execution_count": 2,
   "metadata": {},
   "outputs": [
    {
     "name": "stdout",
     "output_type": "stream",
     "text": [
      "<_sre.SRE_Match object; span=(3, 6), match='def'>\n",
      "<_sre.SRE_Match object; span=(7, 10), match='def'>\n",
      "None\n"
     ]
    }
   ],
   "source": [
    "#左边界：即左侧边界必须是什么\n",
    "#这里的(?<=abc)表示一个组，整体意思表示一个界定符，即表示寻找左侧是abc的def\n",
    "pattern_1 = re.compile(\"(?<=abc)def\")\n",
    "str_1 = \"abcdef\"  #能匹配到\n",
    "str_2 = \"def abcdef\"  #能匹配到，且只会匹配到后面那个\n",
    "str_3 = \"abdef abcddef abc def\"  #匹配不到\n",
    "res_1 = pattern_1.search(str_1) #search代表在整个字符串中匹配，但只匹配一次，找到即止\n",
    "res_2 = pattern_1.search(str_2)\n",
    "res_3 = pattern_1.search(str_3)\n",
    "print(res_1)\n",
    "print(res_2)\n",
    "print(res_3)"
   ]
  },
  {
   "cell_type": "code",
   "execution_count": 3,
   "metadata": {},
   "outputs": [
    {
     "name": "stdout",
     "output_type": "stream",
     "text": [
      "<_sre.SRE_Match object; span=(4, 5), match='d'>\n",
      "None\n"
     ]
    }
   ],
   "source": [
    "pattern_2 = re.compile(\"(?<=-)\\w\") #\\w即代表单词字符[A-Za-z0-9_]\n",
    "str_1 = \"abc-def\"\n",
    "str_2 = \"abc - def\" #不存在左侧是“-”的单词字符\n",
    "print(pattern_2.search(str_1))\n",
    "print(pattern_2.search(str_2))"
   ]
  },
  {
   "cell_type": "code",
   "execution_count": 4,
   "metadata": {},
   "outputs": [
    {
     "name": "stdout",
     "output_type": "stream",
     "text": [
      "[]\n",
      "None\n",
      "None\n",
      "['def']\n"
     ]
    }
   ],
   "source": [
    "#右边界：即右侧紧跟着必须是什么\n",
    "#同样的，也有对应其右侧是什么的，即直接在后面加上\"(?=)\"\n",
    "pattern_4 = re.compile(\"def(?=abc)\")\n",
    "str_1 = \"abcdef\"  #能匹配到\n",
    "str_2 = \"def abcdef\"  #能匹配到，且只会匹配到后面那个\n",
    "str_3 = \"abdef abcddef abc def\"  #匹配不到\n",
    "str_4 = \"defabc\"  #寻找到右侧紧跟着是abc的def\n",
    "res_1 = pattern_4.findall(str_1)\n",
    "res_2 = pattern_4.search(str_2)\n",
    "res_3 = pattern_4.search(str_3)\n",
    "res_4 = pattern_4.findall(str_4) #findall 表示找到所有匹配的，组成列表返回\n",
    "print(res_1)\n",
    "print(res_2)\n",
    "print(res_3)\n",
    "print(res_4)"
   ]
  },
  {
   "cell_type": "code",
   "execution_count": 5,
   "metadata": {},
   "outputs": [
    {
     "name": "stdout",
     "output_type": "stream",
     "text": [
      "None\n",
      "None\n",
      "<_sre.SRE_Match object; span=(7, 10), match='Sun'>\n"
     ]
    }
   ],
   "source": [
    "#故而就可以同时限制左右边界\n",
    "pattern = re.compile(\"(?<=\\s)Sun(?=\\s)\") #匹配出左右两侧都紧跟着空白符的Sun\n",
    "str_1 = \"abcSun\"\n",
    "str_2 = \"Sun\"\n",
    "str_3 = \"hello, Sun is my first name\"\n",
    "print(pattern.search(str_1))\n",
    "print(pattern.search(str_2))\n",
    "print(pattern.search(str_3))"
   ]
  },
  {
   "cell_type": "code",
   "execution_count": null,
   "metadata": {},
   "outputs": [],
   "source": []
  }
 ],
 "metadata": {
  "kernelspec": {
   "display_name": "Python 3",
   "language": "python",
   "name": "python3"
  },
  "language_info": {
   "codemirror_mode": {
    "name": "ipython",
    "version": 3
   },
   "file_extension": ".py",
   "mimetype": "text/x-python",
   "name": "python",
   "nbconvert_exporter": "python",
   "pygments_lexer": "ipython3",
   "version": "3.6.4"
  }
 },
 "nbformat": 4,
 "nbformat_minor": 2
}
