{
 "cells": [
  {
   "cell_type": "code",
   "execution_count": 1,
   "metadata": {},
   "outputs": [],
   "source": [
    "import numpy as np"
   ]
  },
  {
   "cell_type": "code",
   "execution_count": 2,
   "metadata": {},
   "outputs": [
    {
     "name": "stdout",
     "output_type": "stream",
     "text": [
      "[4 2 1 9 1 3 2 4]\n"
     ]
    }
   ],
   "source": [
    "#生范围在1到10的随机数8个，这里允许有重复值\n",
    "data = np.random.randint(1,10,(8)) #start，end，shape\n",
    "print(data)"
   ]
  },
  {
   "cell_type": "code",
   "execution_count": 3,
   "metadata": {},
   "outputs": [
    {
     "name": "stdout",
     "output_type": "stream",
     "text": [
      "[6 5 8 4 3 2 0 1]\n",
      "[7 9 3 5 2 5 5 2]\n",
      "['d' 'b' 'e' 'i' 'k' 'f' 'h' 'g']\n"
     ]
    }
   ],
   "source": [
    "#生范围在0到10的随机数8个，replace=False表示没有重复数值，为True时则可以有重复\n",
    "data_2 = np.random.choice(10,8,replace=False)\n",
    "print(data_2)\n",
    "data_3 = np.random.choice(10,8,replace=True)\n",
    "print(data_3)\n",
    "#这里的第一个参数也可以是一个列表\n",
    "list1 = list(\"abcdefghijklmn\")\n",
    "data_4 = np.random.choice(list1,8,replace=False) #从list1里随机取8个值，无重复\n",
    "print(data_4)"
   ]
  },
  {
   "cell_type": "code",
   "execution_count": null,
   "metadata": {},
   "outputs": [],
   "source": []
  }
 ],
 "metadata": {
  "kernelspec": {
   "display_name": "Python 3",
   "language": "python",
   "name": "python3"
  },
  "language_info": {
   "codemirror_mode": {
    "name": "ipython",
    "version": 3
   },
   "file_extension": ".py",
   "mimetype": "text/x-python",
   "name": "python",
   "nbconvert_exporter": "python",
   "pygments_lexer": "ipython3",
   "version": "3.6.4"
  }
 },
 "nbformat": 4,
 "nbformat_minor": 2
}
