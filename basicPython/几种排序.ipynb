{
 "cells": [
  {
   "cell_type": "code",
   "execution_count": 1,
   "metadata": {},
   "outputs": [],
   "source": [
    "#1、冒泡排序，时间复杂度n^2\n",
    "def my_sorted_1(num_list):\n",
    "    idx_i = 0\n",
    "    while idx_i < len(num_list):\n",
    "        idx_j = 0\n",
    "        while idx_j < len(num_list):\n",
    "            if num_list[idx_i]<num_list[idx_j]:\n",
    "                num_list[idx_i],num_list[idx_j] = num_list[idx_j],num_list[idx_i]\n",
    "            idx_j += 1\n",
    "        idx_i += 1"
   ]
  },
  {
   "cell_type": "code",
   "execution_count": 2,
   "metadata": {},
   "outputs": [
    {
     "name": "stdout",
     "output_type": "stream",
     "text": [
      "[1, 2, 2, 3, 4, 5]\n"
     ]
    }
   ],
   "source": [
    "num_list = [5,1,2,4,3,2]\n",
    "my_sorted_1(num_list)\n",
    "print(num_list)"
   ]
  },
  {
   "cell_type": "code",
   "execution_count": 3,
   "metadata": {},
   "outputs": [],
   "source": [
    "#2、快速排序，平均时间复杂度：nlogn，最差情况：完全逆序时间复杂度为n^2\n",
    "def my_sorted_2(num_list,left,right):\n",
    "    if left >= right:\n",
    "        return\n",
    "    low,high = left,right\n",
    "    key = num_list[low]\n",
    "    while left<right:\n",
    "        while left<right and num_list[right]>=key:\n",
    "            right -= 1\n",
    "        num_list[left] = num_list[right]\n",
    "        while left<right and num_list[left]<=key:\n",
    "            left += 1\n",
    "        num_list[right] = num_list[left]\n",
    "    num_list[right] = key\n",
    "    my_sorted_2(num_list,low,left-1)\n",
    "    my_sorted_2(num_list,left+1,high)"
   ]
  },
  {
   "cell_type": "code",
   "execution_count": 4,
   "metadata": {},
   "outputs": [
    {
     "name": "stdout",
     "output_type": "stream",
     "text": [
      "[1, 2, 2, 3, 4, 5]\n"
     ]
    }
   ],
   "source": [
    "num_list_2 = [5,1,2,4,3,2]\n",
    "my_sorted_2(num_list_2,0,len(num_list_2)-1)\n",
    "print(num_list_2)"
   ]
  },
  {
   "cell_type": "code",
   "execution_count": null,
   "metadata": {},
   "outputs": [],
   "source": []
  }
 ],
 "metadata": {
  "kernelspec": {
   "display_name": "Python 3",
   "language": "python",
   "name": "python3"
  },
  "language_info": {
   "codemirror_mode": {
    "name": "ipython",
    "version": 3
   },
   "file_extension": ".py",
   "mimetype": "text/x-python",
   "name": "python",
   "nbconvert_exporter": "python",
   "pygments_lexer": "ipython3",
   "version": "3.6.4"
  }
 },
 "nbformat": 4,
 "nbformat_minor": 2
}
