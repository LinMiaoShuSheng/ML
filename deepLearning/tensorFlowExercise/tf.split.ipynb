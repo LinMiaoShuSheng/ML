{
 "cells": [
  {
   "cell_type": "code",
   "execution_count": 1,
   "metadata": {},
   "outputs": [],
   "source": [
    "#tf.split(value,num_or_size_splits,axis=0,num=None,name='split')\n",
    "#value即待切割的张量\n",
    "#num_or_size_splits和后面的axis配合使用\n",
    "\n",
    "#有两种切割方式\n",
    "# 比如传进来的value是 20*30*40 的大小\n",
    "#1. 如果num_or_size_splits传入的是一个整数，这个整数代表这个张量最后会被切成几个小张量。\n",
    "#   此时，传入axis的数值就代表切割哪个维度（从0开始计数）。\n",
    "#   调用tf.split(my_tensor, 2，0)返回两个10 * 30 * 40的小张量。 \n",
    "\n",
    "#2. 如果num_or_size_splits传入的是一个向量，那么向量有几个分量就分成几份，切割的维度还是由axis决定。\n",
    "#   比如调用tf.split(my_tensor, [10, 5, 25], 2)，则返回三个张量分别大小为 20 * 30 * 10、20 * 30 * 5、20 * 30 * 25。\n",
    "#   很显然，传入的这个向量各个分量加和必须等于axis所指示原张量维度的大小 (10 + 5 + 25 = 40)。"
   ]
  },
  {
   "cell_type": "code",
   "execution_count": 2,
   "metadata": {},
   "outputs": [
    {
     "name": "stderr",
     "output_type": "stream",
     "text": [
      "D:\\Anaconda\\Initial\\lib\\site-packages\\h5py\\__init__.py:36: FutureWarning: Conversion of the second argument of issubdtype from `float` to `np.floating` is deprecated. In future, it will be treated as `np.float64 == np.dtype(float).type`.\n",
      "  from ._conv import register_converters as _register_converters\n"
     ]
    }
   ],
   "source": [
    "import tensorflow as tf\n",
    "import numpy as np"
   ]
  },
  {
   "cell_type": "code",
   "execution_count": 3,
   "metadata": {},
   "outputs": [
    {
     "name": "stdout",
     "output_type": "stream",
     "text": [
      "(2, 3, 4)\n"
     ]
    }
   ],
   "source": [
    "x = tf.constant(np.arange(24).reshape(2,3,4))\n",
    "t = tf.convert_to_tensor(x)\n",
    "print(t.get_shape())\n",
    "split_1 = tf.split(t,2,0) #对第0个维度分成两个\n",
    "split_2 = tf.split(t,3,1) #对第1个维度分成三个，因为3没法分成两个\n",
    "split_3 = tf.split(t,2,2) #对第2个维度分成两个\n",
    "\n",
    "split_4 = tf.split(t,[1,1],0) #第0维度只有2，只能拆成1和1\n",
    "split_5 = tf.split(t,[1,2],1) #第一维度大小为3，可以拆成1和2\n",
    "split_6 = tf.split(t,[1,2,1],2) #第二维度大小为4，可以拆成1，2,1"
   ]
  },
  {
   "cell_type": "code",
   "execution_count": 4,
   "metadata": {},
   "outputs": [],
   "source": [
    "sess = tf.InteractiveSession()\n",
    "sess.run(tf.global_variables_initializer())"
   ]
  },
  {
   "cell_type": "code",
   "execution_count": 5,
   "metadata": {},
   "outputs": [
    {
     "name": "stdout",
     "output_type": "stream",
     "text": [
      "2   (1, 3, 4)\n",
      "3   (2, 1, 4)\n",
      "2   (2, 3, 2)\n",
      "--------------------\n",
      "2   (1, 3, 4)   (1, 3, 4)\n",
      "2   (2, 1, 4)   (2, 2, 4)\n",
      "3   (2, 3, 1)   (2, 3, 2)   (2, 3, 1)\n"
     ]
    }
   ],
   "source": [
    "res_1 = sess.run(split_1)\n",
    "res_2 = sess.run(split_2)\n",
    "res_3 = sess.run(split_3)\n",
    "res_4 = sess.run(split_4)\n",
    "res_5 = sess.run(split_5)\n",
    "res_6 = sess.run(split_6)\n",
    "print(len(res_1),\" \",res_1[0].shape)\n",
    "print(len(res_2),\" \",res_2[0].shape)\n",
    "print(len(res_3),\" \",res_3[0].shape)\n",
    "print(\"-\"*20)\n",
    "print(len(res_4),\" \",res_4[0].shape,\" \",res_4[1].shape)\n",
    "print(len(res_5),\" \",res_5[0].shape,\" \",res_5[1].shape)\n",
    "print(len(res_6),\" \",res_6[0].shape,\" \",res_6[1].shape,\" \",res_6[2].shape)"
   ]
  },
  {
   "cell_type": "code",
   "execution_count": null,
   "metadata": {},
   "outputs": [],
   "source": []
  }
 ],
 "metadata": {
  "kernelspec": {
   "display_name": "Python 3",
   "language": "python",
   "name": "python3"
  },
  "language_info": {
   "codemirror_mode": {
    "name": "ipython",
    "version": 3
   },
   "file_extension": ".py",
   "mimetype": "text/x-python",
   "name": "python",
   "nbconvert_exporter": "python",
   "pygments_lexer": "ipython3",
   "version": "3.6.4"
  }
 },
 "nbformat": 4,
 "nbformat_minor": 2
}
