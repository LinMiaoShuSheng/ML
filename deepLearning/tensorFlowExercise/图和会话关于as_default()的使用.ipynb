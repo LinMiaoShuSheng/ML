{
 "cells": [
  {
   "cell_type": "code",
   "execution_count": 1,
   "metadata": {},
   "outputs": [],
   "source": [
    "# as_default主要在两个地方都有使用：\n",
    "#           1、tf.Graph()与tf.Graph().as_default()\n",
    "#           2、tf.Session()与tf.Session().as_default() \n",
    "\n",
    "#一般来说，图在一个网络里应该只会使用一个，故而用不用tf.Graph().as_default()都无所谓\n",
    "#但是会话可能会在多处使用相同的会话，故而使用一下tf.Session().as_default()会比较方便"
   ]
  },
  {
   "cell_type": "code",
   "execution_count": 2,
   "metadata": {},
   "outputs": [
    {
     "name": "stderr",
     "output_type": "stream",
     "text": [
      "D:\\Anaconda\\Initial\\lib\\site-packages\\h5py\\__init__.py:36: FutureWarning: Conversion of the second argument of issubdtype from `float` to `np.floating` is deprecated. In future, it will be treated as `np.float64 == np.dtype(float).type`.\n",
      "  from ._conv import register_converters as _register_converters\n"
     ]
    }
   ],
   "source": [
    "import tensorflow as tf"
   ]
  },
  {
   "cell_type": "code",
   "execution_count": 3,
   "metadata": {},
   "outputs": [
    {
     "name": "stdout",
     "output_type": "stream",
     "text": [
      "<tensorflow.python.framework.ops.Graph object at 0x000001EB9CFB2F28>\n",
      "<tensorflow.python.framework.ops.Graph object at 0x000001EB9CFB2F28>\n",
      "<tensorflow.python.framework.ops.Graph object at 0x000001EB9DF90208>\n",
      "<tensorflow.python.framework.ops.Graph object at 0x000001EB9DF90198>\n"
     ]
    }
   ],
   "source": [
    "#先说第一点\n",
    "#tensorflow当前线程都会在默认的graph上进行画图\n",
    "#如果创建了另一个图，想要在另一个图上进行作画，那么就要将另一幅图变成当前的默认图才可以\n",
    "#如果全局并没有创建图，因为默认会创建一张图，那么设置和不设置都无所谓\n",
    "\n",
    "a=tf.constant([1.0,2.0],name=\"a\")\n",
    "b=tf.constant([3.0,4.0],name=\"b\")\n",
    "c=a+b\n",
    "print(c.graph)\n",
    "print(tf.get_default_graph())\n",
    "assert c.graph == tf.get_default_graph()  #说明当前的图即是默认的图\n",
    "\n",
    "print(tf.Graph())  #这里相当于又生出新的图，但是没有去使用\n",
    "print(tf.Graph())  #同样的，执行一次，即相当于生出一个"
   ]
  },
  {
   "cell_type": "code",
   "execution_count": 4,
   "metadata": {},
   "outputs": [
    {
     "name": "stdout",
     "output_type": "stream",
     "text": [
      "<tensorflow.python.framework.ops.Graph object at 0x000001EB9CFB2F28>\n",
      "<tensorflow.python.framework.ops.Graph object at 0x000001EB9CFB2AC8>\n"
     ]
    }
   ],
   "source": [
    "print(tf.get_default_graph()) #先打印一下当前的默认图\n",
    "g = tf.Graph()  #新生一个新图\n",
    "with g.as_default():  #将该新图置为默认图\n",
    "    c = tf.constant(5.0)  #在图中定义节点\n",
    "    assert c.graph is g\n",
    "    print(tf.get_default_graph()) #再打印一下当前的默认图"
   ]
  },
  {
   "cell_type": "code",
   "execution_count": 5,
   "metadata": {},
   "outputs": [
    {
     "name": "stdout",
     "output_type": "stream",
     "text": [
      "1.0\n",
      "<class 'RuntimeError'>\n",
      "====================\n",
      "1.0\n",
      "2.0\n",
      "====================\n",
      "1.0\n",
      "<class 'RuntimeError'>\n"
     ]
    }
   ],
   "source": [
    "# 再说第二点\n",
    "# session相当于会话，默认也是在当前图上的会话。\n",
    "# tf.Session()表示一个临时会话，一旦出去了，哪怕会话没关，也会自动关闭\n",
    "# tf.Session().as_default() 则表示将临时会话变成默认会话，默认会话默认情况下会随着图一直存在\n",
    "#                           故而哪怕出去会话了，只要没有手动关闭，也可以继续使用\n",
    "\n",
    "a = tf.constant(1.0)\n",
    "b = tf.constant(2.0)\n",
    "with tf.Session() as sess:\n",
    "    print(a.eval())   \n",
    "    \n",
    "try:\n",
    "    b.eval(session=sess) #此时已经出了临时会话，即表示临时会话已经关闭，再想使用会报错\n",
    "except RuntimeError:\n",
    "    print(RuntimeError)\n",
    "\n",
    "print(\"=\"*20)\n",
    "    \n",
    "with tf.Session().as_default() as sess: #此时sess变成了默认会话，没有主动关闭，会一直存活\n",
    "    print(a.eval())   \n",
    "print(b.eval(session=sess)) #此时也能继续使用这个会话\n",
    "\n",
    "print(\"=\"*20)\n",
    "\n",
    "with tf.Session().as_default() as sess:\n",
    "    print(a.eval())  \n",
    "    sess.close() #此时主动关闭了默认会话，故而外面也无法直接继续使用了\n",
    "try:\n",
    "    b.eval(session=sess) #虽然是默认会话，但是已经被关闭了，故而也没法使用了\n",
    "except RuntimeError:\n",
    "    print(RuntimeError)"
   ]
  },
  {
   "cell_type": "code",
   "execution_count": null,
   "metadata": {},
   "outputs": [],
   "source": []
  }
 ],
 "metadata": {
  "kernelspec": {
   "display_name": "Python 3",
   "language": "python",
   "name": "python3"
  },
  "language_info": {
   "codemirror_mode": {
    "name": "ipython",
    "version": 3
   },
   "file_extension": ".py",
   "mimetype": "text/x-python",
   "name": "python",
   "nbconvert_exporter": "python",
   "pygments_lexer": "ipython3",
   "version": "3.6.4"
  }
 },
 "nbformat": 4,
 "nbformat_minor": 2
}
