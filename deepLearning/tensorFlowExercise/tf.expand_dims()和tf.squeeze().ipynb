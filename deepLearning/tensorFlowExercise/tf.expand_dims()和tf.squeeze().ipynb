{
 "cells": [
  {
   "cell_type": "code",
   "execution_count": 1,
   "metadata": {},
   "outputs": [],
   "source": [
    "#tf.expand_dims()即用来扩展维度的,但是扩展维度并不会增加新的数值\n",
    "#比如正常图片输入格式是 NHWC，而卷积核输入格式是 HWCN,这里输入的C需要和卷积核的C一样\n",
    "#而文字一般来说H为1，即输入格式为N1WC，有时候也可能只是NWC\n",
    "#故而处理文字输入的时候可能需要进行expand_dims()操作\n",
    "\n",
    "#tf.squeeze()则是用来删除维度的，默认是删除所有尺寸为1的所在维度，也可以指定去掉哪个维度：\n",
    "#比如对文字输入进行扩展后放入到膨胀卷积神经网络里，输出的也是NHWC\n",
    "#但实际不需要H维度的，故而此时即可以进行消去H维度的操作"
   ]
  },
  {
   "cell_type": "code",
   "execution_count": 2,
   "metadata": {},
   "outputs": [
    {
     "name": "stderr",
     "output_type": "stream",
     "text": [
      "D:\\Anaconda\\Initial\\lib\\site-packages\\h5py\\__init__.py:36: FutureWarning: Conversion of the second argument of issubdtype from `float` to `np.floating` is deprecated. In future, it will be treated as `np.float64 == np.dtype(float).type`.\n",
      "  from ._conv import register_converters as _register_converters\n"
     ]
    }
   ],
   "source": [
    "import tensorflow as tf"
   ]
  },
  {
   "cell_type": "code",
   "execution_count": 3,
   "metadata": {},
   "outputs": [
    {
     "name": "stdout",
     "output_type": "stream",
     "text": [
      "<bound method Tensor.eval of <tf.Tensor 'Cast:0' shape=(2,) dtype=int32>>\n",
      "Tensor(\"ExpandDims_1:0\", shape=(2, 1, 1), dtype=int32)\n"
     ]
    }
   ],
   "source": [
    "model_inputs_before = tf.cast(6*tf.ones([2]),tf.int32)\n",
    "model_inputs_middle = tf.expand_dims(model_inputs_before, 1) #在第1维度添加一个维度\n",
    "model_inputs_middle = tf.expand_dims(model_inputs_middle, 2) #在第2维度添加一个维度\n",
    "print(model_inputs_before.eval)\n",
    "print(model_inputs_middle)"
   ]
  },
  {
   "cell_type": "code",
   "execution_count": 4,
   "metadata": {},
   "outputs": [
    {
     "name": "stdout",
     "output_type": "stream",
     "text": [
      "[6 6]\n",
      "(2,)\n",
      "--------------------\n",
      "[[[6]]\n",
      "\n",
      " [[6]]]\n",
      "(2, 1, 1)\n"
     ]
    }
   ],
   "source": [
    "with tf.Session() as sess:\n",
    "    before = sess.run(model_inputs_before)\n",
    "    print(before)\n",
    "    print(before.shape)\n",
    "    print(\"-\"*20)\n",
    "    middle = sess.run(model_inputs_middle)\n",
    "    print(middle)\n",
    "    print(middle.shape)"
   ]
  },
  {
   "cell_type": "code",
   "execution_count": 6,
   "metadata": {},
   "outputs": [
    {
     "name": "stdout",
     "output_type": "stream",
     "text": [
      "Tensor(\"Squeeze_2:0\", shape=(2,), dtype=int32)\n",
      "Tensor(\"Squeeze_3:0\", shape=(2, 1), dtype=int32)\n"
     ]
    }
   ],
   "source": [
    "model_inputs_after_1 = tf.squeeze(model_inputs_middle) #默认删除尺寸为1的所有维度\n",
    "model_inputs_after_2 = tf.squeeze(model_inputs_middle,[1]) #指定删除第1维，\n",
    "#要删除多个维度的话，则在列表里写多个，如[1,2]，即删除第1维和第2维，但是，前提是，被删除的维度其尺寸必须为1，否则没法删\n",
    "print(model_inputs_after_1)\n",
    "print(model_inputs_after_2)"
   ]
  },
  {
   "cell_type": "code",
   "execution_count": null,
   "metadata": {},
   "outputs": [],
   "source": [
    "print(tf.Session().run(model_inputs_after_1))\n",
    "print(tf.Session().run(model_inputs_after_2))"
   ]
  },
  {
   "cell_type": "code",
   "execution_count": null,
   "metadata": {},
   "outputs": [],
   "source": []
  }
 ],
 "metadata": {
  "kernelspec": {
   "display_name": "Python 3",
   "language": "python",
   "name": "python3"
  },
  "language_info": {
   "codemirror_mode": {
    "name": "ipython",
    "version": 3
   },
   "file_extension": ".py",
   "mimetype": "text/x-python",
   "name": "python",
   "nbconvert_exporter": "python",
   "pygments_lexer": "ipython3",
   "version": "3.6.4"
  }
 },
 "nbformat": 4,
 "nbformat_minor": 2
}
