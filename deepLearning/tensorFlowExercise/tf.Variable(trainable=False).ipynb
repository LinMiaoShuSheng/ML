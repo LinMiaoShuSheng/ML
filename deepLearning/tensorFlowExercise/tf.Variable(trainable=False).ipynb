{
 "cells": [
  {
   "cell_type": "code",
   "execution_count": 1,
   "metadata": {},
   "outputs": [
    {
     "name": "stderr",
     "output_type": "stream",
     "text": [
      "D:\\Anaconda\\Initial\\lib\\site-packages\\h5py\\__init__.py:36: FutureWarning: Conversion of the second argument of issubdtype from `float` to `np.floating` is deprecated. In future, it will be treated as `np.float64 == np.dtype(float).type`.\n",
      "  from ._conv import register_converters as _register_converters\n"
     ]
    }
   ],
   "source": [
    "import tensorflow as tf"
   ]
  },
  {
   "cell_type": "code",
   "execution_count": 2,
   "metadata": {},
   "outputs": [],
   "source": [
    "#不需要用梯度来进行更新的变量可以设置为trainable=False\n",
    "var1 = tf.Variable(0,trainable=False,name='var1')\n",
    "var2 = tf.Variable(name='var2',initial_value=2,dtype=tf.float32)\n",
    "var3 = tf.Variable(6,dtype=tf.int32,trainable=False,name='var3')"
   ]
  },
  {
   "cell_type": "code",
   "execution_count": 3,
   "metadata": {},
   "outputs": [
    {
     "name": "stdout",
     "output_type": "stream",
     "text": [
      "var2:0\n"
     ]
    }
   ],
   "source": [
    "#读取可训练的变量时，那些trainable=False的则读取不到\n",
    "for each in tf.trainable_variables():\n",
    "    print(each.name)"
   ]
  },
  {
   "cell_type": "code",
   "execution_count": 4,
   "metadata": {},
   "outputs": [
    {
     "name": "stdout",
     "output_type": "stream",
     "text": [
      "var1:0     <bound method Variable.value of <tf.Variable 'var1:0' shape=() dtype=int32_ref>>\n",
      "var2:0     <bound method Variable.value of <tf.Variable 'var2:0' shape=() dtype=float32_ref>>\n",
      "var3:0     <bound method Variable.value of <tf.Variable 'var3:0' shape=() dtype=int32_ref>>\n"
     ]
    }
   ],
   "source": [
    "for each in tf.global_variables():\n",
    "    print(each.name,\"   \",each.value)"
   ]
  },
  {
   "cell_type": "code",
   "execution_count": 5,
   "metadata": {},
   "outputs": [
    {
     "name": "stdout",
     "output_type": "stream",
     "text": [
      "0\n",
      "2.0\n",
      "6\n"
     ]
    }
   ],
   "source": [
    "with tf.Session() as sess:\n",
    "    sess.run(tf.global_variables_initializer())#初始化session\n",
    "    print(sess.run(var1))\n",
    "    print(sess.run(var2))\n",
    "    print(sess.run(var3))"
   ]
  },
  {
   "cell_type": "code",
   "execution_count": null,
   "metadata": {},
   "outputs": [],
   "source": [
    "#在进行求梯度的时候，就可以针对性地选择trainable的变量进行梯度更新\n",
    "params = tf.trainable_variables()\n",
    "gradients = tf.gradients(loss, params)\n",
    "clipped_gradients, norm = tf.clip_by_global_norm(gradients,max_gradient_norm)\n",
    "opt.apply_gradients(zip(clipped_gradients, params))"
   ]
  }
 ],
 "metadata": {
  "kernelspec": {
   "display_name": "Python 3",
   "language": "python",
   "name": "python3"
  },
  "language_info": {
   "codemirror_mode": {
    "name": "ipython",
    "version": 3
   },
   "file_extension": ".py",
   "mimetype": "text/x-python",
   "name": "python",
   "nbconvert_exporter": "python",
   "pygments_lexer": "ipython3",
   "version": "3.6.4"
  }
 },
 "nbformat": 4,
 "nbformat_minor": 2
}
