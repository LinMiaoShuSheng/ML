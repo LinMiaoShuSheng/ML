{
 "cells": [
  {
   "cell_type": "raw",
   "metadata": {},
   "source": [
    "tf.layers.dense即全连接层\n",
    "基本参数如下，\n",
    "必不可少的，也是最主要即inputs和units，分别为输入和神经元个数。\n",
    "神经元个数决定输出的最后一个维度。\n",
    "输出：outputs=activation(inputs.kernel+bias)\n",
    "activation即激活函数，默认没有\n",
    "bias默认为0\n",
    "dense(\n",
    "    inputs,\n",
    "    units,\n",
    "    activation=None,   #表示激活函数，默认没有，使用可以写activation=tf.nn.relu\n",
    "    use_bias=True,\n",
    "    kernel_initializer=None,\n",
    "    bias_initializer=tf.zeros_initializer(),\n",
    "    kernel_regularizer=None,    #卷积核正则化，一般不选，使用可以写kernel_regularizer=tf.contrib.layers.l2_regularizer(0.003)\n",
    "    bias_regularizer=None,\n",
    "    activity_regularizer=None,\n",
    "    trainable=True,\n",
    "    name=None,\n",
    "    reuse=None\n",
    ")"
   ]
  },
  {
   "cell_type": "code",
   "execution_count": 1,
   "metadata": {},
   "outputs": [
    {
     "name": "stderr",
     "output_type": "stream",
     "text": [
      "D:\\Anaconda\\Initial\\lib\\site-packages\\h5py\\__init__.py:36: FutureWarning: Conversion of the second argument of issubdtype from `float` to `np.floating` is deprecated. In future, it will be treated as `np.float64 == np.dtype(float).type`.\n",
      "  from ._conv import register_converters as _register_converters\n"
     ]
    }
   ],
   "source": [
    "import tensorflow as tf"
   ]
  },
  {
   "cell_type": "code",
   "execution_count": 2,
   "metadata": {},
   "outputs": [
    {
     "name": "stdout",
     "output_type": "stream",
     "text": [
      "(5, 10)\n"
     ]
    }
   ],
   "source": [
    "batch_size = 5\n",
    "ones = tf.ones([batch_size,20]) #(5,20)\n",
    "logits = tf.layers.dense(ones,10)\n",
    "#print(tf.Session().run(logits)) #这里不能这么写，不是这么执行的，因为并没有真正的输入。\n",
    "print(logits.get_shape())"
   ]
  },
  {
   "cell_type": "code",
   "execution_count": 3,
   "metadata": {},
   "outputs": [
    {
     "name": "stdout",
     "output_type": "stream",
     "text": [
      "(5, 20, 10)\n"
     ]
    }
   ],
   "source": [
    "batch_size = 5\n",
    "ones = tf.ones([batch_size,20,30]) #(5,20,30)\n",
    "logits = tf.layers.dense(ones,10)\n",
    "print(logits.get_shape())"
   ]
  },
  {
   "cell_type": "code",
   "execution_count": 4,
   "metadata": {},
   "outputs": [
    {
     "name": "stdout",
     "output_type": "stream",
     "text": [
      "(5, 20, 30, 10)\n"
     ]
    }
   ],
   "source": [
    "batch_size = 5\n",
    "ones = tf.ones([batch_size,20,30,40]) #(5,20,30,40)\n",
    "logits = tf.layers.dense(ones,10)\n",
    "print(logits.get_shape())"
   ]
  },
  {
   "cell_type": "code",
   "execution_count": null,
   "metadata": {},
   "outputs": [],
   "source": []
  }
 ],
 "metadata": {
  "kernelspec": {
   "display_name": "Python 3",
   "language": "python",
   "name": "python3"
  },
  "language_info": {
   "codemirror_mode": {
    "name": "ipython",
    "version": 3
   },
   "file_extension": ".py",
   "mimetype": "text/x-python",
   "name": "python",
   "nbconvert_exporter": "python",
   "pygments_lexer": "ipython3",
   "version": "3.6.4"
  }
 },
 "nbformat": 4,
 "nbformat_minor": 2
}
