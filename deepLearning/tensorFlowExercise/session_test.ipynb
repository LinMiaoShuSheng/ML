{
 "cells": [
  {
   "cell_type": "code",
   "execution_count": 1,
   "metadata": {},
   "outputs": [
    {
     "name": "stderr",
     "output_type": "stream",
     "text": [
      "D:\\Anaconda\\Initial\\lib\\site-packages\\h5py\\__init__.py:36: FutureWarning: Conversion of the second argument of issubdtype from `float` to `np.floating` is deprecated. In future, it will be treated as `np.float64 == np.dtype(float).type`.\n",
      "  from ._conv import register_converters as _register_converters\n"
     ]
    }
   ],
   "source": [
    "import tensorflow as tf"
   ]
  },
  {
   "cell_type": "code",
   "execution_count": 6,
   "metadata": {},
   "outputs": [
    {
     "name": "stdout",
     "output_type": "stream",
     "text": [
      "4.0\n",
      "[2. 4. 6.]\n"
     ]
    }
   ],
   "source": [
    "x1 = tf.placeholder(tf.float64,name='x_1')\n",
    "y1 = tf.placeholder(tf.float64)\n",
    "x2 = tf.constant([1.0,2.0,3.0],shape=[3],name='x_2') \n",
    "y2 = tf.constant([1.0,2.0,3.0],shape=[3],name='y_2')\n",
    "mySum = x2 + y2\n",
    "#with tf.device('/GPU:0'): #这里没有GPU，使用会报错，而且会被指定过去，后面就算注释了这句话都不行\n",
    "with tf.Session() as sess:\n",
    "    res1 = sess.run(tf.add(x1,y1),feed_dict={x1:1.5,y1:2.5})\n",
    "    res2 = sess.run(mySum)\n",
    "    print(res1)\n",
    "    print(res2)"
   ]
  },
  {
   "cell_type": "code",
   "execution_count": 10,
   "metadata": {},
   "outputs": [
    {
     "name": "stdout",
     "output_type": "stream",
     "text": [
      "[[12]]\n",
      "[array([[12]])]\n"
     ]
    }
   ],
   "source": [
    "matrix1 = tf.constant([[3,3]])\n",
    "matrix2 = tf.constant([[2],[2]])\n",
    "product = tf.matmul(matrix1,matrix2)\n",
    "res = tf.Session().run(product)\n",
    "print(res)\n",
    "print([res])"
   ]
  },
  {
   "cell_type": "code",
   "execution_count": null,
   "metadata": {},
   "outputs": [],
   "source": []
  }
 ],
 "metadata": {
  "kernelspec": {
   "display_name": "Python 3",
   "language": "python",
   "name": "python3"
  },
  "language_info": {
   "codemirror_mode": {
    "name": "ipython",
    "version": 3
   },
   "file_extension": ".py",
   "mimetype": "text/x-python",
   "name": "python",
   "nbconvert_exporter": "python",
   "pygments_lexer": "ipython3",
   "version": "3.6.4"
  }
 },
 "nbformat": 4,
 "nbformat_minor": 2
}
