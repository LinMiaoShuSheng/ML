{
 "cells": [
  {
   "cell_type": "code",
   "execution_count": 1,
   "metadata": {},
   "outputs": [],
   "source": [
    "#首先两者生成的数据都是服从正态分布\n",
    "\n",
    "# 在正态分布的曲线中，横轴区间（μ-σ，μ+σ）内的面积为68.268949%。\n",
    "# 横轴区间（μ-2σ，μ+2σ）内的面积为95.449974%。\n",
    "# 横轴区间（μ-3σ，μ+3σ）内的面积为99.730020%。 \n",
    "\n",
    "# tf.truncated_normal 代表如果x的取值在区间（μ-2σ，μ+2σ）之外则重新进行选择。\n",
    "# tf.random_normal 则代表从正态分布中输出随机值 \n",
    "\n",
    "#用法：\n",
    "# tf.truncated_normal(shape, mean=0.0, stddev=1.0, dtype=tf.float32, seed=None, name=None)  #其中seed为随机种子，固定后取值会不变\n",
    "# tf.random_normal(shape, mean=0.0, stddev=1.0, dtype=tf.float32, seed=None, name=None)"
   ]
  },
  {
   "cell_type": "code",
   "execution_count": 2,
   "metadata": {},
   "outputs": [
    {
     "name": "stderr",
     "output_type": "stream",
     "text": [
      "D:\\Anaconda\\Initial\\lib\\site-packages\\h5py\\__init__.py:36: FutureWarning: Conversion of the second argument of issubdtype from `float` to `np.floating` is deprecated. In future, it will be treated as `np.float64 == np.dtype(float).type`.\n",
      "  from ._conv import register_converters as _register_converters\n"
     ]
    }
   ],
   "source": [
    "import tensorflow as tf"
   ]
  },
  {
   "cell_type": "code",
   "execution_count": 3,
   "metadata": {},
   "outputs": [
    {
     "name": "stdout",
     "output_type": "stream",
     "text": [
      "[[-0.8113182   1.4845988 ]\n",
      " [ 0.06532937 -2.4427042 ]]\n",
      "------------------------------\n",
      "[[-0.85811085 -0.19662298]\n",
      " [ 0.13895045 -1.2212768 ]]\n"
     ]
    }
   ],
   "source": [
    "a = tf.Variable(tf.random_normal([2,2],seed=1))\n",
    "b = tf.Variable(tf.truncated_normal([2,2],seed=2))\n",
    "init = tf.global_variables_initializer()\n",
    "with tf.Session() as sess:\n",
    "    sess.run(init)\n",
    "    print(sess.run(a))\n",
    "    print(\"-\"*30)\n",
    "    print(sess.run(b))"
   ]
  },
  {
   "cell_type": "code",
   "execution_count": null,
   "metadata": {},
   "outputs": [],
   "source": []
  }
 ],
 "metadata": {
  "kernelspec": {
   "display_name": "Python 3",
   "language": "python",
   "name": "python3"
  },
  "language_info": {
   "codemirror_mode": {
    "name": "ipython",
    "version": 3
   },
   "file_extension": ".py",
   "mimetype": "text/x-python",
   "name": "python",
   "nbconvert_exporter": "python",
   "pygments_lexer": "ipython3",
   "version": "3.6.4"
  }
 },
 "nbformat": 4,
 "nbformat_minor": 2
}
