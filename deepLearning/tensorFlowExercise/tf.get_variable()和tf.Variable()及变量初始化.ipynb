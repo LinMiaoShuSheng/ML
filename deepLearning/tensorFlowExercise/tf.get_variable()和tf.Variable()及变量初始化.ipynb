{
 "cells": [
  {
   "cell_type": "code",
   "execution_count": 1,
   "metadata": {},
   "outputs": [],
   "source": [
    "#1、tf.get_variable()一般配合tf.variable_scope和reuse一起操作。\n",
    "#   同一个scope，相同名字的变量需要resue才能使用\n",
    "#2、tf.Variable()每次都会生成一个新的变量，故而即使重名也不会报错\n",
    "#3、tf.Variable()必须给定初始化值\n",
    "#   而tf.get_variable()则必须给定名字和大小"
   ]
  },
  {
   "cell_type": "code",
   "execution_count": 2,
   "metadata": {},
   "outputs": [],
   "source": [
    "#几种初始化方式：\n",
    "#1、常量初始化\n",
    "#   initializer=tf.constant_initializer(2)\n",
    "#   initializer=tf.constant_initializer(np.arange(6).reshape(2,3))\n",
    "#2、正态分布初始化\n",
    "#   tf.random_normal(shape=[2,3], mean=0, stddev=1)\n",
    "#3、输入输出都服从均匀分布的初始化\n",
    "#   initializer = initializers.xavier_initializer()     # from tensorflow.contrib.layers.python.layers import initializers\n",
    "#   initializer = tf.contrib.layers.xavier_initializer()\n",
    "#4、服从均匀分布，同时可以控制取值范围\n",
    "#   embeddings = tf.Variable(tf.random_uniform([row, column], -1.0, 1.0)) #随机初始化shape=[row, column]的，取值范围[-1,1]之间服从均匀分布的矩阵"
   ]
  },
  {
   "cell_type": "code",
   "execution_count": 3,
   "metadata": {},
   "outputs": [
    {
     "name": "stderr",
     "output_type": "stream",
     "text": [
      "D:\\Anaconda\\Initial\\lib\\site-packages\\h5py\\__init__.py:36: FutureWarning: Conversion of the second argument of issubdtype from `float` to `np.floating` is deprecated. In future, it will be treated as `np.float64 == np.dtype(float).type`.\n",
      "  from ._conv import register_converters as _register_converters\n"
     ]
    }
   ],
   "source": [
    "import tensorflow as tf\n",
    "import numpy as np"
   ]
  },
  {
   "cell_type": "code",
   "execution_count": 4,
   "metadata": {},
   "outputs": [],
   "source": [
    "#最精简的初始化\n",
    "a1 = tf.Variable(1)\n",
    "a2 = tf.get_variable(\"a2\",shape=[1])"
   ]
  },
  {
   "cell_type": "code",
   "execution_count": 5,
   "metadata": {},
   "outputs": [],
   "source": [
    "#稍微细致一点的初始化\n",
    "a1_2 = tf.Variable(initial_value=np.arange(9).reshape(3,3),name=\"a1_2\",dtype=tf.int32)\n",
    "a1_3 = tf.Variable(tf.random_normal(shape=[2,3], mean=0, stddev=1), name='a1_3')\n",
    "\n",
    "a2_2 = tf.get_variable(name='a2_2', shape=[1], initializer=tf.constant_initializer(2),dtype=tf.int32)\n",
    "a2_3 = tf.get_variable(name=\"a2_3\",shape=[2,3], initializer=tf.constant_initializer(np.arange(6).reshape(2,3)))\n",
    "a2_4 = tf.get_variable(name=\"a2_4\",initializer = tf.constant(3,shape=[3])) #shape也可以放在initializer里面进行控制"
   ]
  },
  {
   "cell_type": "code",
   "execution_count": 6,
   "metadata": {},
   "outputs": [
    {
     "name": "stdout",
     "output_type": "stream",
     "text": [
      "Variable:0 a2:0\n",
      "a1_2:0 a1_3:0\n",
      "a2_2:0\n",
      "a2_3:0\n",
      "--------------------\n",
      "[1, array([[0, 1, 2],\n",
      "       [3, 4, 5],\n",
      "       [6, 7, 8]]), array([0.897293], dtype=float32), array([2]), array([[ 2.6300566 ,  1.0007509 ,  0.4158718 ],\n",
      "       [ 2.6254466 , -0.2537121 , -0.50091326]], dtype=float32), array([[0., 1., 2.],\n",
      "       [3., 4., 5.]], dtype=float32)]\n",
      "[3 3 3]\n"
     ]
    }
   ],
   "source": [
    "with tf.Session() as sess:\n",
    "    sess.run(tf.global_variables_initializer())\n",
    "    print(a1.name,end=\" \")\n",
    "    print(a2.name)\n",
    "    print(a1_2.name,end=\" \")\n",
    "    print(a1_3.name)\n",
    "    print(a2_2.name)\n",
    "    print(a2_3.name)\n",
    "    print(\"-\"*20)\n",
    "    print(sess.run([a1,a1_2,a2,a2_2,a1_3,a2_3]))\n",
    "    print(sess.run(a2_4))\n",
    "#     print(sess.run(a1))\n",
    "#     print(sess.run(a1_2))\n",
    "#     print(sess.run(a2))\n",
    "#     print(sess.run(a2_2))\n",
    "#     print(sess.run(a1_3))\n",
    "#     print(sess.run(a2_3))"
   ]
  },
  {
   "cell_type": "code",
   "execution_count": 7,
   "metadata": {},
   "outputs": [
    {
     "name": "stdout",
     "output_type": "stream",
     "text": [
      "True\n",
      "True\n"
     ]
    }
   ],
   "source": [
    "#关于reuse\n",
    "#1、首先，其目的是为了节省空间，重用变量\n",
    "#2、如果是新定义，则reuse必须为False，默认值也是False，如果是重用，则必须是True。 \n",
    "#故而False代表要定义一个新变量，True代表要重用一个旧变量。因此，False时重用旧变量会报错，True是创建新变量会报错。\n",
    "with tf.variable_scope(\"one\"):\n",
    "    a = tf.get_variable(\"v\", [1]) #a.name == \"one/v:0\"\n",
    "\n",
    "#在没有reuse的情况下，直接get会报错，因为reuse为false，相当于要创建，但是已经存在了，创建即冲突了\n",
    "# with tf.variable_scope(\"one\"):\n",
    "#     b = tf.get_variable(\"v\", [1]) #创建两个名字一样的变量会报错 ValueError: Variable one/v already exists \n",
    "\n",
    "with tf.variable_scope(\"one\", reuse = True): #注意reuse的作用。\n",
    "    c = tf.get_variable(\"v\", [1]) #c.name == \"one/v:0\" 成功共享，因为设置了reuse\n",
    "    \n",
    "#或者在使用之前声明要reuse，这样能精确一些范围\n",
    "with tf.variable_scope(\"one\"): #注意reuse的作用。\n",
    "    tf.get_variable_scope().reuse_variables()\n",
    "    d = tf.get_variable(\"v\", [1]) #c.name == \"one/v:0\" 成功共享，因为设置了reuse\n",
    "    \n",
    "print(a==c) #Assertion is true, they refer to the same object.\n",
    "print(d is a)"
   ]
  },
  {
   "cell_type": "code",
   "execution_count": 8,
   "metadata": {},
   "outputs": [
    {
     "name": "stdout",
     "output_type": "stream",
     "text": [
      "False\n"
     ]
    }
   ],
   "source": [
    "#tf.Variable每次都会生成一个新的变量，故而即使重名也不会报错\n",
    "a2 = tf.Variable(tf.random_normal(shape=[2,3], mean=0, stddev=1), name='a2')\n",
    "a4 = tf.Variable(tf.random_normal(shape=[2,3], mean=0, stddev=1), name='a2')\n",
    "print(a2 == a4)"
   ]
  },
  {
   "cell_type": "code",
   "execution_count": 9,
   "metadata": {},
   "outputs": [],
   "source": [
    "#补充：\n",
    "#作用域中的reuse默认是False，调用函数reuse_variables()可设置为True。\n",
    "#一旦设置为True，就不能返回到False，并且该作用域的子空间reuse都是True\n",
    "#如果不想重用变量，那么可以退回到上层作用域，相当于exit当前作用域"
   ]
  },
  {
   "cell_type": "code",
   "execution_count": 10,
   "metadata": {},
   "outputs": [],
   "source": [
    "with tf.variable_scope(\"root\"):\n",
    "    assert tf.get_variable_scope().reuse == False\n",
    "    with tf.variable_scope(\"sub\"):\n",
    "        assert tf.get_variable_scope().reuse == False\n",
    "    with tf.variable_scope(\"sub\",reuse=True):\n",
    "        assert tf.get_variable_scope().reuse == True\n",
    "        with tf.variable_scope(\"sub_sub\"):\n",
    "            assert tf.get_variable_scope().reuse == True\n",
    "            #d = tf.get_variable(\"new\", [1]) 此时会报错，因为new压根没有定义过，现在reuse为True表示是重用，故而找不到则会报错\n",
    "    assert tf.get_variable_scope().reuse == False"
   ]
  },
  {
   "cell_type": "code",
   "execution_count": 11,
   "metadata": {},
   "outputs": [],
   "source": [
    "#那么实际使用中\n",
    "#要想重复使用某些变量，第一次因为是创建，故而需要reuse=False，以后因为是复用，故而需要reuse=True\n",
    "#方法一，放在循环里,同时外面加一个reuse变量来判断，比如是在测试时，哪怕是第0次，也设置为True\n",
    "#for i in range(iter_num):\n",
    "#    with tf.variable_scope(\"name\",reuse=True if (reuse or j > 0) else False):\n",
    "#        w = tf.get_variable(\"filterW\",shape=[H, W, C,N],initializer=tf.contrib.layers.xavier_initializer())\n",
    "#方法二，直接使用tf.AUTO_REUSE\n",
    "#with tf.variable_scope(name_or_scope='', reuse=tf.AUTO_REUSE):"
   ]
  }
 ],
 "metadata": {
  "kernelspec": {
   "display_name": "Python 3",
   "language": "python",
   "name": "python3"
  },
  "language_info": {
   "codemirror_mode": {
    "name": "ipython",
    "version": 3
   },
   "file_extension": ".py",
   "mimetype": "text/x-python",
   "name": "python",
   "nbconvert_exporter": "python",
   "pygments_lexer": "ipython3",
   "version": "3.6.4"
  }
 },
 "nbformat": 4,
 "nbformat_minor": 2
}
