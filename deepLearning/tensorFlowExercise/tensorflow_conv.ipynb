{
 "cells": [
  {
   "cell_type": "code",
   "execution_count": 1,
   "metadata": {},
   "outputs": [
    {
     "name": "stderr",
     "output_type": "stream",
     "text": [
      "D:\\Anaconda\\Initial\\lib\\site-packages\\h5py\\__init__.py:36: FutureWarning: Conversion of the second argument of issubdtype from `float` to `np.floating` is deprecated. In future, it will be treated as `np.float64 == np.dtype(float).type`.\n",
      "  from ._conv import register_converters as _register_converters\n"
     ]
    }
   ],
   "source": [
    "import tensorflow as tf \n",
    "import numpy as np"
   ]
  },
  {
   "cell_type": "code",
   "execution_count": 6,
   "metadata": {},
   "outputs": [
    {
     "name": "stdout",
     "output_type": "stream",
     "text": [
      "op shape:(10, 54, 54, 3)\n",
      "op_pool shape:(10, 54, 54, 3)\n",
      "10,54,54,3\n"
     ]
    }
   ],
   "source": [
    "photo_num ,photo_H ,photo_W,photo_channel= 10,224,224,3\n",
    "filter_H , filter_W , filter_channel ,filter_num = 11,11,3,3  #图片的通道数与卷积核的通道数必须一致\n",
    "stride_batch,stride_H,stride_W,stride_channel = 1,4,4,1   #图的遍历步长和通道的遍历步长通常直接为1\n",
    "\n",
    "padding = 'VALID'\n",
    "strides=[stride_batch,stride_H,stride_W,stride_channel]\n",
    "\n",
    "input_image = tf.Variable(tf.random_normal([photo_num,photo_H,photo_W,photo_channel]))  \n",
    "input_filter = tf.Variable(tf.random_normal([filter_H,filter_W,filter_channel,filter_num]))  \n",
    "\n",
    "op = tf.nn.conv2d(input_image, input_filter, strides=strides, padding=padding)  \n",
    "\n",
    "k1 = 11\n",
    "k2 = 4\n",
    "op_pool = tf.nn.max_pool(input_image,ksize=[1,k1,k1,1],strides=[1,k2,k2,1],padding=padding)\n",
    "print(\"op shape:{}\".format(op.shape))\n",
    "print(\"op_pool shape:{}\".format(op_pool.shape))\n",
    "\n",
    "#自己计算输出形状\n",
    "if padding == 'SAME':\n",
    "    print(photo_num,end=',')\n",
    "    print(int(np.ceil(float(photo_H/stride_H))),end=',')\n",
    "    print(int(np.ceil(float(photo_W/stride_W))),end=',')\n",
    "    print(filter_num)\n",
    "elif padding == 'VALID':\n",
    "    print(\"{},{},{},{}\".format(photo_num,int(np.floor(float((photo_H-filter_H)/stride_H+1))),\n",
    "                               int(np.floor(float((photo_W-filter_W)/stride_W+1))),filter_num))\n",
    "else:\n",
    "    print(\"ERROR padding format\")"
   ]
  },
  {
   "cell_type": "code",
   "execution_count": null,
   "metadata": {},
   "outputs": [],
   "source": []
  }
 ],
 "metadata": {
  "kernelspec": {
   "display_name": "Python 3",
   "language": "python",
   "name": "python3"
  },
  "language_info": {
   "codemirror_mode": {
    "name": "ipython",
    "version": 3
   },
   "file_extension": ".py",
   "mimetype": "text/x-python",
   "name": "python",
   "nbconvert_exporter": "python",
   "pygments_lexer": "ipython3",
   "version": "3.6.4"
  }
 },
 "nbformat": 4,
 "nbformat_minor": 2
}
