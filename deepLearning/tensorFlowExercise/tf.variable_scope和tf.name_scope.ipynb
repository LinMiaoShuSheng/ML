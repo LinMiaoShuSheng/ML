{
 "cells": [
  {
   "cell_type": "code",
   "execution_count": 1,
   "metadata": {},
   "outputs": [],
   "source": [
    "#首先，命名空间是为了区分重名的变量，因为如果是在不同的命名空间里，那么即使重名，也会因为归属不同而加以区分。\n",
    "#其次，tf.variable_scope力量比较强大，分割比较强，故而不同variable_scope下可以有重名的tf.get_variable得到的变量，以及tf.Variable的变量\n",
    "# tf.name_scope则比较弱，不同的name_scope下，只能区分出tf.Variable的变量，但不允许有重名的tf.get_variable得到的变量"
   ]
  },
  {
   "cell_type": "code",
   "execution_count": 2,
   "metadata": {},
   "outputs": [
    {
     "name": "stderr",
     "output_type": "stream",
     "text": [
      "D:\\Anaconda\\Initial\\lib\\site-packages\\h5py\\__init__.py:36: FutureWarning: Conversion of the second argument of issubdtype from `float` to `np.floating` is deprecated. In future, it will be treated as `np.float64 == np.dtype(float).type`.\n",
      "  from ._conv import register_converters as _register_converters\n"
     ]
    }
   ],
   "source": [
    "import tensorflow as tf"
   ]
  },
  {
   "cell_type": "code",
   "execution_count": 3,
   "metadata": {},
   "outputs": [
    {
     "name": "stdout",
     "output_type": "stream",
     "text": [
      "V1/a1:0 [1.]\n",
      "V1/a2:0\n",
      "V2/a1:0 [2.]\n",
      "V2/a2:0\n"
     ]
    }
   ],
   "source": [
    "with tf.variable_scope('V1'):\n",
    "    a1 = tf.get_variable(name='a1', shape=[1], initializer=tf.constant_initializer(1))\n",
    "    a2 = tf.Variable(tf.random_normal(shape=[2,3], mean=0, stddev=1), name='a2') #随机生成正态分布数据\n",
    "with tf.variable_scope('V2'):\n",
    "    a3 = tf.get_variable(name='a1', shape=[1], initializer=tf.constant_initializer(2))\n",
    "    a4 = tf.Variable(tf.random_normal(shape=[2,3], mean=0, stddev=1), name='a2')\n",
    "with tf.Session() as sess:\n",
    "    sess.run(tf.global_variables_initializer())\n",
    "    print(a1.name,end=\" \")\n",
    "    print(sess.run(a1))\n",
    "    print(a2.name)\n",
    "    print(a3.name,end=\" \")\n",
    "    print(sess.run(a3))\n",
    "    print(a4.name)"
   ]
  },
  {
   "cell_type": "code",
   "execution_count": 4,
   "metadata": {},
   "outputs": [
    {
     "name": "stdout",
     "output_type": "stream",
     "text": [
      "a1:0\n",
      "V1_1/a2:0\n",
      "[[-1.5358129  -1.2069818   1.0466938 ]\n",
      " [ 0.18207334 -0.93416506 -0.47089702]]\n",
      "V2_1/a2:0\n",
      "[[-0.6403333  -1.3393332  -1.4521719 ]\n",
      " [-0.7335334  -0.45535326 -0.19327477]]\n"
     ]
    }
   ],
   "source": [
    "with tf.name_scope('V1'):\n",
    "    a1 = tf.get_variable(name='a1', shape=[1], initializer=tf.constant_initializer(1))\n",
    "    a2 = tf.Variable(tf.random_normal(shape=[2,3], mean=0, stddev=1), name='a2')\n",
    "with tf.name_scope('V2'):\n",
    "    #a3 = tf.get_variable(name='a1', shape=[1], initializer=tf.constant_initializer(1)) 加上此行会报错，不允许tf.get_variable得到的变量有重名\n",
    "    a4 = tf.Variable(tf.random_normal(shape=[2,3], mean=0, stddev=1), name='a2')\n",
    "with tf.Session() as sess:\n",
    "    sess.run(tf.global_variables_initializer())\n",
    "    print(a1.name)\n",
    "    print(a2.name)\n",
    "    print(sess.run(a2))\n",
    "    print(a4.name)\n",
    "    print(sess.run(a4))"
   ]
  },
  {
   "cell_type": "code",
   "execution_count": null,
   "metadata": {},
   "outputs": [],
   "source": []
  }
 ],
 "metadata": {
  "kernelspec": {
   "display_name": "Python 3",
   "language": "python",
   "name": "python3"
  },
  "language_info": {
   "codemirror_mode": {
    "name": "ipython",
    "version": 3
   },
   "file_extension": ".py",
   "mimetype": "text/x-python",
   "name": "python",
   "nbconvert_exporter": "python",
   "pygments_lexer": "ipython3",
   "version": "3.6.4"
  }
 },
 "nbformat": 4,
 "nbformat_minor": 2
}
