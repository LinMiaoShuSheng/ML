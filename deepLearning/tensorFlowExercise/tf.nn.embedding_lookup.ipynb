{
 "cells": [
  {
   "cell_type": "code",
   "execution_count": 4,
   "metadata": {},
   "outputs": [],
   "source": [
    "#tf.nn.embedding_lookup"
   ]
  },
  {
   "cell_type": "code",
   "execution_count": 5,
   "metadata": {},
   "outputs": [
    {
     "name": "stderr",
     "output_type": "stream",
     "text": [
      "D:\\Anaconda\\Initial\\lib\\site-packages\\h5py\\__init__.py:36: FutureWarning: Conversion of the second argument of issubdtype from `float` to `np.floating` is deprecated. In future, it will be treated as `np.float64 == np.dtype(float).type`.\n",
      "  from ._conv import register_converters as _register_converters\n"
     ]
    }
   ],
   "source": [
    "import tensorflow as tf\n",
    "import numpy as np"
   ]
  },
  {
   "cell_type": "code",
   "execution_count": 6,
   "metadata": {},
   "outputs": [
    {
     "name": "stdout",
     "output_type": "stream",
     "text": [
      "[0 1 2 3 4 5 6 7 8 9]\n",
      "[1 3]\n"
     ]
    }
   ],
   "source": [
    "data = np.arange(10)\n",
    "res = tf.nn.embedding_lookup(data, [1, 3])\n",
    "with tf.Session() as sess:\n",
    "    sess.run(tf.global_variables_initializer())#初始化session\n",
    "    output = sess.run(res)\n",
    "    print(data)\n",
    "    print(output)"
   ]
  },
  {
   "cell_type": "code",
   "execution_count": 7,
   "metadata": {},
   "outputs": [
    {
     "name": "stdout",
     "output_type": "stream",
     "text": [
      "[[ 0  1  2]\n",
      " [ 3  4  5]\n",
      " [ 6  7  8]\n",
      " [ 9 10 11]]\n",
      "--------------------\n",
      "[[0 1 2]\n",
      " [6 7 8]\n",
      " [3 4 5]]\n",
      "--------------------\n",
      "[[[ 0  1  2]\n",
      "  [ 6  7  8]\n",
      "  [ 3  4  5]]\n",
      "\n",
      " [[ 9 10 11]\n",
      "  [ 0  1  2]\n",
      "  [ 6  7  8]]]\n"
     ]
    }
   ],
   "source": [
    "data1 = np.arange(12).reshape(4,3)\n",
    "idx1 = tf.Variable([0, 2, 1], tf.int32) #1*3\n",
    "idx2 = tf.constant([[0, 2, 1],[3, 0, 2]], tf.int32) #2*3\n",
    "out1 = tf.nn.embedding_lookup(data1, idx1) \n",
    "out2 = tf.nn.embedding_lookup(data1, idx2) \n",
    "init = tf.global_variables_initializer() \n",
    "with tf.Session() as sess:\n",
    "    sess.run(init)\n",
    "    print(data1)\n",
    "    print(\"-\"*20)  \n",
    "    print(sess.run(out1))   #取1回，每次取3个，而原数据data1是4*3，故而每个有3列，即最终为3*3\n",
    "    print(\"-\"*20)\n",
    "    print(sess.run(out2))   #取2回，每次取3个，而原数据data1是4*3，故而每个有3列，即最终为2*3*3"
   ]
  },
  {
   "cell_type": "code",
   "execution_count": null,
   "metadata": {},
   "outputs": [],
   "source": []
  }
 ],
 "metadata": {
  "kernelspec": {
   "display_name": "Python 3",
   "language": "python",
   "name": "python3"
  },
  "language_info": {
   "codemirror_mode": {
    "name": "ipython",
    "version": 3
   },
   "file_extension": ".py",
   "mimetype": "text/x-python",
   "name": "python",
   "nbconvert_exporter": "python",
   "pygments_lexer": "ipython3",
   "version": "3.6.4"
  }
 },
 "nbformat": 4,
 "nbformat_minor": 2
}
