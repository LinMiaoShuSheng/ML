{
 "cells": [
  {
   "cell_type": "code",
   "execution_count": 1,
   "metadata": {},
   "outputs": [],
   "source": [
    "#在tensorflow中，主要是使用tf.stack()和tf.unstack()\n",
    "#unstack默认即将第0个维度拆解,比如原本shape=[a*b*c]，拆解后即a*[b*c]\n",
    "#而stack则是拼接,一般拼接和拆解也都是横向的,除非自己指定axis"
   ]
  },
  {
   "cell_type": "code",
   "execution_count": 2,
   "metadata": {},
   "outputs": [
    {
     "name": "stderr",
     "output_type": "stream",
     "text": [
      "D:\\Anaconda\\Initial\\lib\\site-packages\\h5py\\__init__.py:36: FutureWarning: Conversion of the second argument of issubdtype from `float` to `np.floating` is deprecated. In future, it will be treated as `np.float64 == np.dtype(float).type`.\n",
      "  from ._conv import register_converters as _register_converters\n"
     ]
    }
   ],
   "source": [
    "import tensorflow as tf\n",
    "import numpy as np"
   ]
  },
  {
   "cell_type": "code",
   "execution_count": 3,
   "metadata": {},
   "outputs": [
    {
     "name": "stdout",
     "output_type": "stream",
     "text": [
      "[[1 2 3 4]\n",
      " [5 6 7 8]] \n",
      " ====================\n",
      "[array([1, 2, 3, 4]), array([5, 6, 7, 8])] \n",
      " ====================\n",
      "[array([1, 5]), array([2, 6]), array([3, 7]), array([4, 8])] \n",
      " ====================\n",
      "[[[ 0  1  2  3]\n",
      "  [ 4  5  6  7]\n",
      "  [ 8  9 10 11]]\n",
      "\n",
      " [[12 13 14 15]\n",
      "  [16 17 18 19]\n",
      "  [20 21 22 23]]] \n",
      " ====================\n",
      "[[[ 0  1  2  3]\n",
      "  [12 13 14 15]]\n",
      "\n",
      " [[ 4  5  6  7]\n",
      "  [16 17 18 19]]\n",
      "\n",
      " [[ 8  9 10 11]\n",
      "  [20 21 22 23]]] \n",
      " ====================\n",
      "[array([[ 0,  1,  2,  3],\n",
      "       [12, 13, 14, 15]]), array([[ 4,  5,  6,  7],\n",
      "       [16, 17, 18, 19]]), array([[ 8,  9, 10, 11],\n",
      "       [20, 21, 22, 23]])] \n",
      " ====================\n"
     ]
    }
   ],
   "source": [
    "a = tf.constant([1,2,3,4]) \n",
    "b = tf.constant([5,6,7,8]) \n",
    "c = tf.stack( [a,b], axis=0)  #横向拼接起来\n",
    "d = tf.unstack(c,axis=0)   #横向拆解,默认即横向\n",
    "e = tf.unstack(c,axis=1)   #纵向拆解\n",
    "\n",
    "with tf.Session().as_default() as sess:\n",
    "    sess.run(tf.global_variables_initializer())\n",
    "    \n",
    "print(sess.run(c),\"\\n\",\"=\"*20)\n",
    "print(sess.run(d),\"\\n\",\"=\"*20)\n",
    "print(sess.run(e),\"\\n\",\"=\"*20)\n",
    "\n",
    "x = tf.constant(np.arange(24).reshape(2,3,4))\n",
    "print(sess.run(x),\"\\n\",\"=\"*20)\n",
    "x = tf.transpose(x,perm=[1,0,2])\n",
    "print(sess.run(x),\"\\n\",\"=\"*20)\n",
    "x_unstackd = tf.unstack(x)\n",
    "print(sess.run(x_unstackd),\"\\n\",\"=\"*20)"
   ]
  },
  {
   "cell_type": "code",
   "execution_count": null,
   "metadata": {},
   "outputs": [],
   "source": []
  }
 ],
 "metadata": {
  "kernelspec": {
   "display_name": "Python 3",
   "language": "python",
   "name": "python3"
  },
  "language_info": {
   "codemirror_mode": {
    "name": "ipython",
    "version": 3
   },
   "file_extension": ".py",
   "mimetype": "text/x-python",
   "name": "python",
   "nbconvert_exporter": "python",
   "pygments_lexer": "ipython3",
   "version": "3.6.4"
  }
 },
 "nbformat": 4,
 "nbformat_minor": 2
}
