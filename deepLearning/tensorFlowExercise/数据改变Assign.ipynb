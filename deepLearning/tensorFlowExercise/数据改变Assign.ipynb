{
 "cells": [
  {
   "cell_type": "code",
   "execution_count": 1,
   "metadata": {},
   "outputs": [
    {
     "name": "stderr",
     "output_type": "stream",
     "text": [
      "D:\\Anaconda\\Initial\\lib\\site-packages\\h5py\\__init__.py:36: FutureWarning: Conversion of the second argument of issubdtype from `float` to `np.floating` is deprecated. In future, it will be treated as `np.float64 == np.dtype(float).type`.\n",
      "  from ._conv import register_converters as _register_converters\n"
     ]
    }
   ],
   "source": [
    "import tensorflow as tf\n",
    "import numpy as np"
   ]
  },
  {
   "cell_type": "code",
   "execution_count": 2,
   "metadata": {},
   "outputs": [],
   "source": [
    "sess = tf.Session()"
   ]
  },
  {
   "cell_type": "code",
   "execution_count": 3,
   "metadata": {},
   "outputs": [
    {
     "name": "stdout",
     "output_type": "stream",
     "text": [
      "[[[-0.5893519  -0.7782457  -0.6147022  -0.5043659  -0.638181  ]\n",
      "  [-0.68444276  0.3249216  -0.7995703   0.90510416 -0.00801611]\n",
      "  [-0.12738371  0.41671014 -0.92164063  0.5058329   0.20386481]]\n",
      "\n",
      " [[ 0.22319174  0.81610227 -0.52656794  0.9038732  -0.99030566]\n",
      "  [-0.68444276  0.3249216  -0.7995703   0.90510416 -0.00801611]\n",
      "  [-0.68444276  0.3249216  -0.7995703   0.90510416 -0.00801611]]\n",
      "\n",
      " [[ 0.513551    0.09954619 -0.57778406  0.07596254  0.86401486]\n",
      "  [-0.17176604  0.7010255  -0.84446883  0.73074675 -0.36461496]\n",
      "  [ 0.513551    0.09954619 -0.57778406  0.07596254  0.86401486]]] \n",
      " ==============================\n",
      "[[[ 0.837883   -0.88834214  0.7811556  -0.9398575   0.18574548]\n",
      "  [ 0.22319174  0.81610227 -0.52656794  0.9038732  -0.99030566]\n",
      "  [-0.3078196  -0.6468172   0.76865673 -0.32356644  0.30953646]]\n",
      "\n",
      " [[ 0.22319174  0.81610227 -0.52656794  0.9038732  -0.99030566]\n",
      "  [-0.54304075 -0.44690514 -0.67926335  0.80057144  0.3304491 ]\n",
      "  [ 0.22319174  0.81610227 -0.52656794  0.9038732  -0.99030566]]\n",
      "\n",
      " [[-0.17176604  0.7010255  -0.84446883  0.73074675 -0.36461496]\n",
      "  [-0.3078196  -0.6468172   0.76865673 -0.32356644  0.30953646]\n",
      "  [ 0.22319174  0.81610227 -0.52656794  0.9038732  -0.99030566]]]\n"
     ]
    }
   ],
   "source": [
    "emb = tf.Variable(tf.random_uniform([10,5],-1.0,1.0),trainable=True,name=\"emb\") #总表 10*5, 均匀分布，取值范围[-1.0,1.0]\n",
    "\n",
    "input_x1 = tf.placeholder(dtype=tf.int32,shape=[3,3],name=\"x1\")  #占位符，只是先占坑，还没有值\n",
    "input_x2 = tf.placeholder(dtype=tf.int32,shape=[3,3],name=\"x2\")\n",
    "\n",
    "char_1 = tf.nn.embedding_lookup(emb,input_x1)  # 从总表里查出3*3的数量，即从总表的10行里查3次，每次查3行，故而最终能得到 3*3*5\n",
    "char_2 = tf.nn.embedding_lookup(emb,input_x2)\n",
    "\n",
    "x1 = np.random.randint(0,10,(3,3))\n",
    "x2 = np.random.randint(0,10,(3,3))\n",
    "\n",
    "sess.run(tf.global_variables_initializer())  #主要是初始化上面的值\n",
    "\n",
    "print(sess.run(char_1,feed_dict={input_x1:x1}),\"\\n\",\"=\"*30)\n",
    "print(sess.run(char_2,feed_dict={input_x2:x2}))"
   ]
  },
  {
   "cell_type": "code",
   "execution_count": 4,
   "metadata": {},
   "outputs": [
    {
     "name": "stdout",
     "output_type": "stream",
     "text": [
      "[[[-0.9404354   0.67091656  0.14981437  0.65859604  0.55108094]\n",
      "  [ 0.9953785  -0.50192785  0.3881328   0.03337765 -0.19298196]\n",
      "  [ 0.7393315   0.81170726 -0.27306056 -0.00970602 -0.86184144]]\n",
      "\n",
      " [[-0.928653    0.99754786  0.37983727 -0.7175689  -0.34803224]\n",
      "  [ 0.26555467 -0.19233298  0.40623808 -0.24118376  0.12305188]\n",
      "  [ 0.77941275 -0.7542596   0.81632924  0.8428364   0.27522492]]\n",
      "\n",
      " [[ 0.26555467 -0.19233298  0.40623808 -0.24118376  0.12305188]\n",
      "  [ 0.77941275 -0.7542596   0.81632924  0.8428364   0.27522492]\n",
      "  [-0.928653    0.99754786  0.37983727 -0.7175689  -0.34803224]]] \n",
      " ==============================\n",
      "[[[8. 8. 9. 9. 7.]\n",
      "  [8. 9. 6. 8. 6.]\n",
      "  [6. 9. 8. 8. 6.]]\n",
      "\n",
      " [[7. 8. 6. 8. 9.]\n",
      "  [9. 7. 9. 6. 8.]\n",
      "  [9. 7. 9. 6. 8.]]\n",
      "\n",
      " [[8. 8. 8. 6. 8.]\n",
      "  [8. 8. 9. 9. 7.]\n",
      "  [7. 8. 6. 8. 9.]]]\n"
     ]
    }
   ],
   "source": [
    "pre_trained_emd = np.random.randint(6,10,(10,5))\n",
    "\n",
    "emb = tf.Variable(tf.random_uniform([10,5],-1.0,1.0),trainable=True,name=\"emb\") #总表 10*5, 均匀分布，取值范围[-1.0,1.0]\n",
    "\n",
    "input_x1 = tf.placeholder(dtype=tf.int32,shape=[3,3],name=\"x1\")\n",
    "input_x2 = tf.placeholder(dtype=tf.int32,shape=[3,3],name=\"x2\")\n",
    "\n",
    "char_1 = tf.nn.embedding_lookup(emb,input_x1)  # 从总表里查出3*3的数量，即从总表的10行里查3次，每次查3行，故而最终能得到 3*3*5\n",
    "char_2 = tf.nn.embedding_lookup(emb,input_x2)\n",
    "\n",
    "x1 = np.random.randint(0,10,(3,3))\n",
    "x2 = np.random.randint(0,10,(3,3))\n",
    "\n",
    "sess.run(tf.global_variables_initializer())  #主要是初始化上面的值\n",
    "\n",
    "print(sess.run(char_1,feed_dict={input_x1:x1}),\"\\n\",\"=\"*30)\n",
    "\n",
    "sess.run(emb.assign(pre_trained_emd))   #这里做了一次数据的assign，所以后面会改变总表，故而char_2从总表里取也会发生改变\n",
    "\n",
    "print(sess.run(char_2,feed_dict={input_x2:x2}))"
   ]
  },
  {
   "cell_type": "code",
   "execution_count": null,
   "metadata": {},
   "outputs": [],
   "source": []
  }
 ],
 "metadata": {
  "kernelspec": {
   "display_name": "Python 3",
   "language": "python",
   "name": "python3"
  },
  "language_info": {
   "codemirror_mode": {
    "name": "ipython",
    "version": 3
   },
   "file_extension": ".py",
   "mimetype": "text/x-python",
   "name": "python",
   "nbconvert_exporter": "python",
   "pygments_lexer": "ipython3",
   "version": "3.6.4"
  }
 },
 "nbformat": 4,
 "nbformat_minor": 2
}
