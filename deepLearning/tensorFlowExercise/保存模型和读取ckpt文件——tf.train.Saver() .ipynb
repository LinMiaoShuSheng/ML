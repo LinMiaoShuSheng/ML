{
 "cells": [
  {
   "cell_type": "code",
   "execution_count": null,
   "metadata": {},
   "outputs": [],
   "source": [
    "#首先是保存模型"
   ]
  },
  {
   "cell_type": "code",
   "execution_count": null,
   "metadata": {},
   "outputs": [],
   "source": [
    "# 一般而言，保存模型即将当前的sess保存下来，而当前的sess里会有权重参数，可训练的变量等\n",
    "# 故而一般就两句话，声明一个Saver()对象，然后保存\n",
    "saver = tf.train.Saver(tf.global_variables(), max_to_keep=5) \n",
    "# 第一个参数表明存的是全局的变量，默认也会有，第二个参数表示保存最近的几个模型，默认为5，为0或者None则表示每个都保存\n",
    "# 这里只是先定义，并没有开始存储\n",
    "saver.save(sess, 'my_model',global_step=current_step) \n",
    "# 这里的第一个参数表示当前会话，第二个参数是模型的前缀名，第三个参数是记录迭代的epoach次数\n",
    "# 此时进行了存储操作\n",
    "\n",
    "# 保存下来的模型里会包括：\n",
    "#     checkpoint       #该文件只会有一个，二进制文件，保存了所有weights，biases，gradient以及其它用到过的变量\n",
    "#     my_model-1000.data-0000      #保存了当前所有参数值\n",
    "#     my_model-1000.index          #保存当前所有的参数名\n",
    "#     my_model-1000.meta           #保存当前图结构，图上自然包括各个节点信息\n",
    "\n",
    "# 定义存储可以如下：\n",
    "saver = tf.train.Saver({'v1': v1, 'v2': v2})\n",
    "saver = tf.train.Saver({v.op.name: v for v in [v1, v2]})\n",
    "saver = tf.train.Saver(tf.global_variables(), max_to_keep=5)  "
   ]
  },
  {
   "cell_type": "code",
   "execution_count": null,
   "metadata": {},
   "outputs": [],
   "source": [
    "#示例\n",
    "import tensorflow as tf\n",
    "w1 = tf.Variable(tf.random_normal(shape=[2]), name='w1')\n",
    "w2 = tf.Variable(tf.random_normal(shape=[5]), name='w2')\n",
    "\n",
    "saver = tf.train.Saver(tf.global_variables())  #定义可以早早先定义\n",
    "sess = tf.Session()\n",
    "sess.run(tf.global_variables_initializer())\n",
    "\n",
    "saver.save(sess, 'my_model') #保存，则是在需要的时候才去执行"
   ]
  },
  {
   "cell_type": "code",
   "execution_count": null,
   "metadata": {},
   "outputs": [],
   "source": []
  },
  {
   "cell_type": "code",
   "execution_count": null,
   "metadata": {},
   "outputs": [],
   "source": [
    "#其次是加载模型"
   ]
  },
  {
   "cell_type": "code",
   "execution_count": null,
   "metadata": {},
   "outputs": [],
   "source": [
    "#加载模型实际上也是两步\n",
    "\n",
    "#第一步，定义Saver对象\n",
    "saver = tf.train.Saver()\n",
    "\n",
    "#第二步：加载模型\n",
    "#1、可以加载自己指定的模型：\n",
    "save_path = \"ckpt/my_model\"\n",
    "saver.restore(sess=session, save_path=save_path)  #这个save_path则是模型名，但是不用加尾缀\n",
    "#这种加载完后，直接使用训练时的变量名以及整体结构，以及对应值\n",
    "\n",
    "#2、也可以加载最新的模型：\n",
    "chkpt_fname = tf.train.latest_checkpoint(output_path) #output_path即checkpoint等文件的母文件文件名,比如\"ckpt\"\n",
    "saver.restore(sess, chkpt_fname)\n",
    "#这种加载完后，也是可以直接使用训练时的变量名以及整体结构，以及对应值\n",
    "\n",
    "#3、也可以加载指定文件，比如meta文件，即整体图结构\n",
    "checkpoint_file = \"ckpt/model-5000\" \n",
    "saver = tf.train.import_meta_graph(\"{}.meta\".format(checkpoint_file))\n",
    "sess.run(tf.initialize_all_variables())\n",
    "saver.restore(sess, checkpoint_file)\n",
    "#然后就可以通过图去获取相应值，获取了值就可以去执行了，这种相对灵活一些，但是也会比较繁琐一点\n",
    "input_x1 = graph.get_operation_by_name(\"input_x1\").outputs[0]\n",
    "input_x2 = graph.get_operation_by_name(\"input_x2\").outputs[0]\n",
    "input_y = graph.get_operation_by_name(\"input_y\").outputs[0]\n",
    "predictions = graph.get_operation_by_name(\"output/distance\").outputs[0]\n",
    "accuracy = graph.get_operation_by_name(\"accuracy/accuracy\").outputs[0]\n",
    "sim = graph.get_operation_by_name(\"accuracy/temp_sim\").outputs[0]"
   ]
  },
  {
   "cell_type": "code",
   "execution_count": null,
   "metadata": {},
   "outputs": [],
   "source": [
    "#示例：\n",
    "save_path = os.path.join(save_dir, 'best_validation')  #best_validation即对应的模型的名字，后面不需要加尾缀，比如.meta，.index等\n",
    "saver = tf.train.Saver()\n",
    "saver.restore(sess=self.session, save_path=save_path) "
   ]
  },
  {
   "cell_type": "code",
   "execution_count": null,
   "metadata": {},
   "outputs": [],
   "source": [
    "ckpt = tf.train.get_checkpoint_state(path)\n",
    "    if ckpt and tf.train.checkpoint_exists(ckpt.model_checkpoint_path):\n",
    "        logger.info(\"Reading model parameters from %s\" % ckpt.model_checkpoint_path)\n",
    "        #如果ckpt文件夹以及文件夹底下的文件都存在，则加载模型\n",
    "        model.saver.restore(session, ckpt.model_checkpoint_path)"
   ]
  },
  {
   "cell_type": "code",
   "execution_count": null,
   "metadata": {},
   "outputs": [],
   "source": [
    "#读取\n",
    "#判断路径下是否有ckpt文件，如果有，则加载\n",
    "session = tf.Session()\n",
    "ckpt = tf.train.get_checkpoint_state(checkpoint_path)\n",
    "    if ckpt and tf.train.checkpoint_exists(ckpt.model_checkpoint_path):\n",
    "        model.saver.restore(session, ckpt.model_checkpoint_path)\n",
    "        #基于model来读取ckpt中变量时，model和ckpt必须匹配。即模型中的变量和ckpt的需要一一对应\n",
    "        #或者\n",
    "        saver = tf.train.Saver() \n",
    "        saver.restore(session, checkpoint_path)"
   ]
  },
  {
   "cell_type": "code",
   "execution_count": null,
   "metadata": {},
   "outputs": [],
   "source": [
    "#直接从ckpt文件中读取出所有存储的内容\n",
    "#可以打印出来看看\n",
    "from tensorflow.python import pywrap_tensorflow\n",
    "checkpoint_path = os.path.join(model_dir, \"model.ckpt\")\n",
    "reader=pywrap_tensorflow.NewCheckpointReader(checkpoint_path)\n",
    "var_to_shape_map=reader.get_variable_to_shape_map()\n",
    "data_print=np.array([])\n",
    "for key in var_to_shape_map:\n",
    "    print('tensor_name',key)\n",
    "    ckpt_data=np.array(reader.get_tensor(key))#cast list to np arrary 即获取到所有的变量以及值\n",
    "    ckpt_data=ckpt_data.flatten()#flatten list 用np来进行扁平化\n",
    "    data_print=np.append(data_print,ckpt_data,axis=0)\n",
    "print(data_print,data_print.shape)"
   ]
  }
 ],
 "metadata": {
  "kernelspec": {
   "display_name": "Python 3",
   "language": "python",
   "name": "python3"
  },
  "language_info": {
   "codemirror_mode": {
    "name": "ipython",
    "version": 3
   },
   "file_extension": ".py",
   "mimetype": "text/x-python",
   "name": "python",
   "nbconvert_exporter": "python",
   "pygments_lexer": "ipython3",
   "version": "3.6.4"
  }
 },
 "nbformat": 4,
 "nbformat_minor": 2
}
