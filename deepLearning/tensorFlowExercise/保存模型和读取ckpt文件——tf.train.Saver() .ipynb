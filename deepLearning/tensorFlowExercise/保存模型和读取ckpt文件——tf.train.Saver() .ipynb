{
 "cells": [
  {
   "cell_type": "code",
   "execution_count": null,
   "metadata": {},
   "outputs": [],
   "source": [
    "#保存\n",
    "#tf.train.Saver()存储的一般是键值对\n",
    "#比如：\n",
    "saver = tf.train.Saver({'v1': v1, 'v2': v2})\n",
    "saver = tf.train.Saver({v.op.name: v for v in [v1, v2]})\n",
    "self.saver = tf.train.Saver(tf.global_variables(), max_to_keep=5)  \n",
    "#max_to_keep默认为0，即所有模型都保存，max_to_keep=5则表示只保存最近的五次结果"
   ]
  },
  {
   "cell_type": "code",
   "execution_count": null,
   "metadata": {},
   "outputs": [],
   "source": [
    "#读取\n",
    "#判断路径下是否有ckpt文件，如果有，则加载\n",
    "session = tf.Session()\n",
    "ckpt = tf.train.get_checkpoint_state(checkpoint_path)\n",
    "    if ckpt and tf.train.checkpoint_exists(ckpt.model_checkpoint_path):\n",
    "        model.saver.restore(session, ckpt.model_checkpoint_path)\n",
    "        #基于model来读取ckpt中变量时，model和ckpt必须匹配。即模型中的变量和ckpt的需要一一对应\n",
    "        #或者\n",
    "        saver = tf.train.Saver() \n",
    "        saver.restore(session, checkpoint_path)"
   ]
  },
  {
   "cell_type": "code",
   "execution_count": null,
   "metadata": {},
   "outputs": [],
   "source": [
    "#直接从ckpt文件中读取出所有存储的内容\n",
    "import os\n",
    "import path\n",
    "import numpy as np\n",
    "from tensorflow.python import pywrap_tensorflow\n",
    "checkpoint_path = os.path.join(model_dir, \"model.ckpt\")\n",
    "reader=pywrap_tensorflow.NewCheckpointReader(checkpoint_path)\n",
    "var_to_shape_map=reader.get_variable_to_shape_map()\n",
    "data_print=np.array([])\n",
    "for key in var_to_shape_map:\n",
    "    print('tensor_name',key)\n",
    "    ckpt_data=np.array(reader.get_tensor(key))#cast list to np arrary 即获取到所有的变量以及值\n",
    "    ckpt_data=ckpt_data.flatten()#flatten list 用np来进行扁平化\n",
    "    data_print=np.append(data_print,ckpt_data,axis=0)\n",
    "print(data_print,data_print.shape)"
   ]
  }
 ],
 "metadata": {
  "kernelspec": {
   "display_name": "Python 3",
   "language": "python",
   "name": "python3"
  },
  "language_info": {
   "codemirror_mode": {
    "name": "ipython",
    "version": 3
   },
   "file_extension": ".py",
   "mimetype": "text/x-python",
   "name": "python",
   "nbconvert_exporter": "python",
   "pygments_lexer": "ipython3",
   "version": "3.6.4"
  }
 },
 "nbformat": 4,
 "nbformat_minor": 2
}
