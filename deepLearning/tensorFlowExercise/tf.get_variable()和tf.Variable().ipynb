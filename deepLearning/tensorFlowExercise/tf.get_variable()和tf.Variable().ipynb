{
 "cells": [
  {
   "cell_type": "code",
   "execution_count": 1,
   "metadata": {},
   "outputs": [],
   "source": [
    "#1、tf.get_variable()一般配合tf.variable_scope和reuse一起操作。\n",
    "#   同一个scope，相同名字的变量需要resue才能使用\n",
    "#2、tf.Variable()每次都会生成一个新的变量，故而即使重名也不会报错\n",
    "#3、tf.Variable()必须给定初始化值，而tf.get_variable()则必须给定名字和大小"
   ]
  },
  {
   "cell_type": "code",
   "execution_count": 2,
   "metadata": {},
   "outputs": [],
   "source": [
    "#几种初始化方式：\n",
    "#1、常量初始化\n",
    "#   initializer=tf.constant_initializer(2)\n",
    "#   initializer=tf.constant_initializer(np.arange(6).reshape(2,3))\n",
    "#2、正态分布初始化\n",
    "#   tf.random_normal(shape=[2,3], mean=0, stddev=1)\n",
    "#3、输入输出都服从均匀分布的初始化\n",
    "#   initializer = initializers.xavier_initializer()     #from tensorflow.contrib.layers.python.layers import initializers"
   ]
  },
  {
   "cell_type": "code",
   "execution_count": 3,
   "metadata": {},
   "outputs": [
    {
     "name": "stderr",
     "output_type": "stream",
     "text": [
      "D:\\Anaconda\\Initial\\lib\\site-packages\\h5py\\__init__.py:36: FutureWarning: Conversion of the second argument of issubdtype from `float` to `np.floating` is deprecated. In future, it will be treated as `np.float64 == np.dtype(float).type`.\n",
      "  from ._conv import register_converters as _register_converters\n"
     ]
    }
   ],
   "source": [
    "import tensorflow as tf\n",
    "import numpy as np"
   ]
  },
  {
   "cell_type": "code",
   "execution_count": 4,
   "metadata": {},
   "outputs": [],
   "source": [
    "#最精简的初始化\n",
    "a1 = tf.Variable(1)\n",
    "a2 = tf.get_variable(\"a2\",shape=[1])"
   ]
  },
  {
   "cell_type": "code",
   "execution_count": 5,
   "metadata": {},
   "outputs": [],
   "source": [
    "#稍微细致一点的初始化\n",
    "a1_2 = tf.Variable(initial_value=np.arange(9).reshape(3,3),name=\"a1_2\",dtype=tf.int32)\n",
    "a1_3 = tf.Variable(tf.random_normal(shape=[2,3], mean=0, stddev=1), name='a1_3')\n",
    "\n",
    "a2_2 = tf.get_variable(name='a2_2', shape=[1], initializer=tf.constant_initializer(2),dtype=tf.int32)\n",
    "a2_3 = tf.get_variable(name=\"a2_3\",shape=[2,3], initializer=tf.constant_initializer(np.arange(6).reshape(2,3)))"
   ]
  },
  {
   "cell_type": "code",
   "execution_count": 6,
   "metadata": {},
   "outputs": [
    {
     "name": "stdout",
     "output_type": "stream",
     "text": [
      "Variable:0 a2:0\n",
      "a1_2:0 a1_3:0\n",
      "a2_2:0\n",
      "a2_3:0\n",
      "--------------------\n",
      "1\n",
      "[[0 1 2]\n",
      " [3 4 5]\n",
      " [6 7 8]]\n",
      "[-0.6339197]\n",
      "[2]\n",
      "[[ 0.40030128 -1.2955449   1.1548274 ]\n",
      " [ 1.6161565  -0.00228999 -0.10751949]]\n",
      "[[0. 1. 2.]\n",
      " [3. 4. 5.]]\n"
     ]
    }
   ],
   "source": [
    "with tf.Session() as sess:\n",
    "    sess.run(tf.global_variables_initializer())\n",
    "    print(a1.name,end=\" \")\n",
    "    print(a2.name)\n",
    "    print(a1_2.name,end=\" \")\n",
    "    print(a1_3.name)\n",
    "    print(a2_2.name)\n",
    "    print(a2_3.name)\n",
    "    print(\"-\"*20)\n",
    "    print(sess.run(a1))\n",
    "    print(sess.run(a1_2))\n",
    "    print(sess.run(a2))\n",
    "    print(sess.run(a2_2))\n",
    "    print(sess.run(a1_3))\n",
    "    print(sess.run(a2_3))"
   ]
  },
  {
   "cell_type": "code",
   "execution_count": 7,
   "metadata": {},
   "outputs": [
    {
     "name": "stdout",
     "output_type": "stream",
     "text": [
      "True\n"
     ]
    }
   ],
   "source": [
    "with tf.variable_scope(\"one\"):\n",
    "    a = tf.get_variable(\"v\", [1]) #a.name == \"one/v:0\"\n",
    "    \n",
    "# with tf.variable_scope(\"one\"):\n",
    "#     b = tf.get_variable(\"v\", [1]) #创建两个名字一样的变量会报错 ValueError: Variable one/v already exists \n",
    "\n",
    "with tf.variable_scope(\"one\", reuse = True): #注意reuse的作用。\n",
    "    c = tf.get_variable(\"v\", [1]) #c.name == \"one/v:0\" 成功共享，因为设置了reuse\n",
    "    \n",
    "print(a==c) #Assertion is true, they refer to the same object."
   ]
  },
  {
   "cell_type": "code",
   "execution_count": 8,
   "metadata": {},
   "outputs": [
    {
     "name": "stdout",
     "output_type": "stream",
     "text": [
      "False\n"
     ]
    }
   ],
   "source": [
    "#tf.Variable每次都会生成一个新的变量，故而即使重名也不会报错\n",
    "a2 = tf.Variable(tf.random_normal(shape=[2,3], mean=0, stddev=1), name='a2')\n",
    "a4 = tf.Variable(tf.random_normal(shape=[2,3], mean=0, stddev=1), name='a2')\n",
    "print(a2 == a4)"
   ]
  },
  {
   "cell_type": "code",
   "execution_count": null,
   "metadata": {},
   "outputs": [],
   "source": []
  }
 ],
 "metadata": {
  "kernelspec": {
   "display_name": "Python 3",
   "language": "python",
   "name": "python3"
  },
  "language_info": {
   "codemirror_mode": {
    "name": "ipython",
    "version": 3
   },
   "file_extension": ".py",
   "mimetype": "text/x-python",
   "name": "python",
   "nbconvert_exporter": "python",
   "pygments_lexer": "ipython3",
   "version": "3.6.4"
  }
 },
 "nbformat": 4,
 "nbformat_minor": 2
}
